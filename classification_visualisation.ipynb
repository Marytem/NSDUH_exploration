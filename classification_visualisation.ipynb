{
 "cells": [
  {
   "cell_type": "code",
   "execution_count": 1,
   "metadata": {
    "colab": {},
    "colab_type": "code",
    "id": "rhjJIdMCyUDc"
   },
   "outputs": [],
   "source": [
    "import pandas as pd\n",
    "import numpy as np\n",
    "from sklearn.linear_model import LogisticRegression\n",
    "from sklearn.metrics import accuracy_score"
   ]
  },
  {
   "cell_type": "code",
   "execution_count": 2,
   "metadata": {
    "colab": {},
    "colab_type": "code",
    "id": "aiaYhyDpy4OT"
   },
   "outputs": [],
   "source": [
    "targets = ['hal_user', 'inh_user', 'meth_user', 'pnr_user', \n",
    "                       'trq_user', 'stm_user', 'sed_user', 'cig_user',\n",
    "                       'alc_user', 'mj_user', 'coc_user', 'crack_user',\n",
    "                       'her_user']\n",
    "drugs = ['hallucinogens', 'inhalants', 'methamphetamine', 'pain relievers',\n",
    "         'tranqualizers', 'stimulants', 'sedatives', 'tobacco', 'alcohol',\n",
    "         'marijuana', 'cocaine', 'crack', 'heroin']"
   ]
  },
  {
   "cell_type": "code",
   "execution_count": 3,
   "metadata": {
    "colab": {},
    "colab_type": "code",
    "id": "98hE5Pd0y4Bl",
    "scrolled": true
   },
   "outputs": [
    {
     "name": "stderr",
     "output_type": "stream",
     "text": [
      "/home/maryana/anaconda3/lib/python3.6/site-packages/sklearn/linear_model/logistic.py:459: FutureWarning: Default multi_class will be changed to 'auto' in 0.22. Specify the multi_class option to silence this warning.\n",
      "  \"this warning.\", FutureWarning)\n"
     ]
    },
    {
     "data": {
      "text/plain": [
       "[1.0,\n",
       " 1.0,\n",
       " 0.9943057996485062,\n",
       " 0.9597188049209139,\n",
       " 0.9796133567662566,\n",
       " 0.9997188049209139,\n",
       " 0.9951493848857645,\n",
       " 0.9484710017574692,\n",
       " 0.9958523725834798,\n",
       " 0.9970474516695957,\n",
       " 0.9824253075571178,\n",
       " 0.9977504393673111,\n",
       " 0.9945869947275923]"
      ]
     },
     "execution_count": 3,
     "metadata": {},
     "output_type": "execute_result"
    }
   ],
   "source": [
    "with_drugs_results = []\n",
    "\n",
    "for drug, target in zip(drugs, targets):\n",
    "    train =  pd.read_csv('with_drug_data/' + drug + '_train.csv', header=None)\n",
    "    test = pd.read_csv('with_drug_data/' + drug + '_test.csv', header=None) \n",
    "    train_Ys = pd.read_csv('with_drug_data/' + drug + '_train_y.csv') \n",
    "    test_Ys = pd.read_csv('with_drug_data/' + drug + '_test_y.csv') \n",
    "    clf = LogisticRegression(C=10, solver='lbfgs', max_iter = 1000).fit(train, train_Ys[target])\n",
    "    accuracy = accuracy_score(test_Ys[target], clf.predict(test))\n",
    "    with_drugs_results.append(accuracy)\n",
    "with_drugs_results"
   ]
  },
  {
   "cell_type": "code",
   "execution_count": 5,
   "metadata": {},
   "outputs": [],
   "source": [
    "from matplotlib import pyplot as plt"
   ]
  },
  {
   "cell_type": "code",
   "execution_count": 15,
   "metadata": {
    "colab": {},
    "colab_type": "code",
    "id": "dVCKAFelzJtX",
    "scrolled": true
   },
   "outputs": [
    {
     "data": {
      "image/png": "[encoded data removed]",
      "text/plain": [
       "<Figure size 432x288 with 1 Axes>"
      ]
     },
     "metadata": {
      "needs_background": "light"
     },
     "output_type": "display_data"
    },
    {
     "data": {
      "image/png": "[encoded data removed]",
      "text/plain": [
       "<Figure size 432x288 with 1 Axes>"
      ]
     },
     "metadata": {
      "needs_background": "light"
     },
     "output_type": "display_data"
    },
    {
     "data": {
      "image/png": "[encoded data removed]",
      "text/plain": [
       "<Figure size 432x288 with 1 Axes>"
      ]
     },
     "metadata": {
      "needs_background": "light"
     },
     "output_type": "display_data"
    }
   ],
   "source": [
    "x = np.arange(4)\n",
    "fig, ax = plt.subplots()\n",
    "plt.bar(x, with_drugs_results[:4], width=0.2)\n",
    "plt.xticks(x, drugs[:4])\n",
    "plt.title(\"Data with drug info\")\n",
    "plt.show()\n",
    "\n",
    "x = np.arange(4)\n",
    "fig, ax = plt.subplots()\n",
    "plt.bar(x, with_drugs_results[4:8], width=0.2)\n",
    "plt.xticks(x, drugs[4:8])\n",
    "plt.title(\"Data with drug info\")\n",
    "plt.show()\n",
    "\n",
    "x = np.arange(5)\n",
    "fig, ax = plt.subplots()\n",
    "plt.bar(x, with_drugs_results[8:], width=0.2)\n",
    "plt.xticks(x, drugs[8:])\n",
    "plt.title(\"Data with drug info\")\n",
    "plt.show()"
   ]
  },
  {
   "cell_type": "markdown",
   "metadata": {},
   "source": [
    "As you can see from graphs, accuracies are pretty high, but that does not imply the result of the project is itself good. \n",
    "\n",
    "In some cases results are good for real, for example in case of tobacco or alcohol. Info about these drugs was possible to fully eliminate from training dataset because all columns of interest contained prefixes related to tese drugs.\n",
    "\n",
    "In case of inhalants for example, the only way to eliminate all info about usage of inhalants was to delete columns manually (which is hell a lot of stupid work when you have 2500 columns) because the names of these columns were completely different without any common prefix. Due to this, dataset for inhalants could contain features about inhalants consuming. Factor analysis generated a factor based on these varialbes and it was the best column for prediction, giving good accuracy (like 0.9997 or even 1). But the result for that dataset is almost useless."
   ]
  },
  {
   "cell_type": "code",
   "execution_count": 9,
   "metadata": {
    "colab": {},
    "colab_type": "code",
    "id": "p4MKpB7jy33X"
   },
   "outputs": [
    {
     "name": "stderr",
     "output_type": "stream",
     "text": [
      "/home/maryana/anaconda3/lib/python3.6/site-packages/sklearn/linear_model/logistic.py:459: FutureWarning: Default multi_class will be changed to 'auto' in 0.22. Specify the multi_class option to silence this warning.\n",
      "  \"this warning.\", FutureWarning)\n"
     ]
    },
    {
     "data": {
      "text/plain": [
       "[1.0,\n",
       " 1.0,\n",
       " 0.9944463971880492,\n",
       " 0.9617574692442882,\n",
       " 0.9833391915641476,\n",
       " 0.9784182776801406,\n",
       " 0.9953602811950791,\n",
       " 0.9528998242530756,\n",
       " 0.9960632688927944,\n",
       " 0.9978910369068541,\n",
       " 0.9995782073813708,\n",
       " 0.9980316344463972,\n",
       " 0.9958523725834798]"
      ]
     },
     "execution_count": 9,
     "metadata": {},
     "output_type": "execute_result"
    }
   ],
   "source": [
    "without_drugs_results = []\n",
    "\n",
    "for drug, target in zip(drugs, targets):\n",
    "\n",
    "    train =  pd.read_csv('without_drug_data/' + drug + '_train.csv', header=None)\n",
    "    test = pd.read_csv('without_drug_data/' + drug + '_test.csv', header=None) \n",
    "    train_Ys = pd.read_csv('without_drug_data/' + drug + '_train_y.csv') \n",
    "    test_Ys = pd.read_csv('without_drug_data/' + drug + '_test_y.csv') \n",
    "\n",
    "    clf = LogisticRegression(C=10, solver='lbfgs', max_iter = 1000).fit(train, train_Ys[target])\n",
    "    accuracy = accuracy_score(test_Ys[target], clf.predict(test))\n",
    "    without_drugs_results.append(accuracy)\n",
    "      \n",
    "without_drugs_results"
   ]
  },
  {
   "cell_type": "code",
   "execution_count": 10,
   "metadata": {},
   "outputs": [
    {
     "data": {
      "image/png": "[encoded data removed]",
      "text/plain": [
       "<Figure size 432x288 with 1 Axes>"
      ]
     },
     "metadata": {
      "needs_background": "light"
     },
     "output_type": "display_data"
    },
    {
     "data": {
      "image/png": "[encoded data removed]",
      "text/plain": [
       "<Figure size 432x288 with 1 Axes>"
      ]
     },
     "metadata": {
      "needs_background": "light"
     },
     "output_type": "display_data"
    },
    {
     "data": {
      "image/png": "[encoded data removed]",
      "text/plain": [
       "<Figure size 432x288 with 1 Axes>"
      ]
     },
     "metadata": {
      "needs_background": "light"
     },
     "output_type": "display_data"
    }
   ],
   "source": [
    "x = np.arange(4)\n",
    "fig, ax = plt.subplots()\n",
    "plt.bar(x, without_drugs_results[:4], width=0.2)\n",
    "plt.xticks(x, drugs[:4])\n",
    "plt.title(\"Data with drug info\")\n",
    "plt.show()\n",
    "\n",
    "x = np.arange(4)\n",
    "fig, ax = plt.subplots()\n",
    "plt.bar(x, without_drugs_results[4:8], width=0.2)\n",
    "plt.xticks(x, drugs[4:8])\n",
    "plt.title(\"Data with drug info\")\n",
    "plt.show()\n",
    "\n",
    "x = np.arange(5)\n",
    "fig, ax = plt.subplots()\n",
    "plt.bar(x, without_drugs_results[8:], width=0.2)\n",
    "plt.xticks(x, drugs[8:])\n",
    "plt.title(\"Data with drug info\")\n",
    "plt.show()"
   ]
  },
  {
   "cell_type": "code",
   "execution_count": null,
   "metadata": {},
   "outputs": [],
   "source": []
  }
 ],
 "metadata": {
  "colab": {
   "collapsed_sections": [],
   "name": "classification_visualisation.ipynb",
   "provenance": [],
   "version": "0.3.2"
  },
  "kernelspec": {
   "display_name": "Python 3",
   "language": "python",
   "name": "python3"
  },
  "language_info": {
   "codemirror_mode": {
    "name": "ipython",
    "version": 3
   },
   "file_extension": ".py",
   "mimetype": "text/x-python",
   "name": "python",
   "nbconvert_exporter": "python",
   "pygments_lexer": "ipython3",
   "version": "3.6.6"
  }
 },
 "nbformat": 4,
 "nbformat_minor": 1
}
