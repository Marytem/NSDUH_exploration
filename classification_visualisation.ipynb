{
  "nbformat": 4,
  "nbformat_minor": 0,
  "metadata": {
    "colab": {
      "name": "classification_visualisation.ipynb",
      "version": "0.3.2",
      "provenance": [],
      "collapsed_sections": [],
      "include_colab_link": true
    },
    "kernelspec": {
      "name": "python3",
      "display_name": "Python 3"
    }
  },
  "cells": [
    {
      "cell_type": "markdown",
      "metadata": {
        "id": "view-in-github",
        "colab_type": "text"
      },
      "source": [
        "<a href=\"https://colab.research.google.com/github/Marytem/NSDUH_exploration/blob/master/classification_visualisation.ipynb\" target=\"_parent\"><img src=\"https://colab.research.google.com/assets/colab-badge.svg\" alt=\"Open In Colab\"/></a>"
      ]
    },
    {
      "metadata": {
        "id": "rhjJIdMCyUDc",
        "colab_type": "code",
        "colab": {}
      },
      "cell_type": "code",
      "source": [
        "import pandas as pd\n",
        "import numpy as np\n",
        "from sklearn.linear_model import LogisticRegression\n",
        "from sklearn.metrics import accuracy_score"
      ],
      "execution_count": 0,
      "outputs": []
    },
    {
      "metadata": {
        "id": "aiaYhyDpy4OT",
        "colab_type": "code",
        "colab": {}
      },
      "cell_type": "code",
      "source": [
        "targets = ['hal_user', 'inh_user', 'meth_user', 'pnr_user', \n",
        "                       'trq_user', 'stm_user', 'sed_user', 'cig_user',\n",
        "                       'alc_user', 'mj_user', 'coc_user', 'crack_user',\n",
        "                       'her_user']\n",
        "drugs = ['hallucinogens', 'inhalants', 'methamphetamine', 'pain relievers',\n",
        "         'tranqualizers', 'stimulants', 'sedatives', 'tobacco', 'alcohol',\n",
        "         'marijuana', 'cocaine', 'crack', 'heroin']"
      ],
      "execution_count": 0,
      "outputs": []
    },
    {
      "metadata": {
        "id": "98hE5Pd0y4Bl",
        "colab_type": "code",
        "colab": {}
      },
      "cell_type": "code",
      "source": [
        "with_drugs_results = []\n",
        "  for drug, target in zip(drugs, targets):\n",
        "    \n",
        "      train =  pd.read_csv('with_drug_data/' + drug + '_train.csv')\n",
        "      test = pd.read_csv('with_drug_data/' + drug + '_test.csv') \n",
        "      train_Ys = pd.read_csv('with_drug_data/' + drug + '_train_y.csv') \n",
        "      test_Ys = pd.read_csv('with_drug_data/' + drug + '_test_y.csv') \n",
        "    \n",
        "      clf = LogisticRegression(C=10, solver='lbfgs', max_iter = 1000).fit(train, train_Ys[target])\n",
        "      accuracy = accuracy_score(test_Ys[target], clf.predict(test))\n",
        "      with_drugs_results.append(accuracy)\n",
        "with_drugs_results"
      ],
      "execution_count": 0,
      "outputs": []
    },
    {
      "metadata": {
        "id": "dVCKAFelzJtX",
        "colab_type": "code",
        "colab": {}
      },
      "cell_type": "code",
      "source": [
        "x = np.arange(13)\n",
        "fig, ax = plt.subplots()\n",
        "plt.bar(x, [acc for acc in with_drugs_results], width=0.2)\n",
        "plt.xticks(x, drugs)\n",
        "plt.title(\"Data with drug info\")\n",
        "plt.show()"
      ],
      "execution_count": 0,
      "outputs": []
    },
    {
      "metadata": {
        "id": "p4MKpB7jy33X",
        "colab_type": "code",
        "colab": {}
      },
      "cell_type": "code",
      "source": [
        "without_drugs_results = {}\n",
        "  for drug, target in zip(drugs, targets):\n",
        "    \n",
        "      train =  pd.read_csv('without_drug_data/' + drug + '_train.csv')\n",
        "      test = pd.read_csv('without_drug_data/' + drug + '_test.csv') \n",
        "      train_Ys = pd.read_csv('without_drug_data/' + drug + '_train_y.csv') \n",
        "      test_Ys = pd.read_csv('without_drug_data/' + drug + '_test_y.csv') \n",
        "    \n",
        "      clf = LogisticRegression(C=10, solver='lbfgs', max_iter = 1000).fit(train, train_Ys[target])\n",
        "      accuracy = accuracy_score(test_Ys[target], clf.predict(test))\n",
        "      with_drugs_results[drug] = accuracy\n",
        "      \n",
        "without_drugs_results"
      ],
      "execution_count": 0,
      "outputs": []
    },
    {
      "metadata": {
        "id": "pKpMdNaU2PbE",
        "colab_type": "code",
        "colab": {}
      },
      "cell_type": "code",
      "source": [
        "x = np.arange(13)\n",
        "fig, ax = plt.subplots()\n",
        "plt.bar(x, [acc for acc in with_drugs_results], width=0.2)\n",
        "plt.xticks(x, drugs)\n",
        "plt.title(\"Data without drug info\")\n",
        "plt.show()"
      ],
      "execution_count": 0,
      "outputs": []
    }
  ]
}