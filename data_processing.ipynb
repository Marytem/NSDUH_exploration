{
  "nbformat": 4,
  "nbformat_minor": 0,
  "metadata": {
    "colab": {
      "name": "data_processing.ipynb",
      "version": "0.3.2",
      "provenance": [],
      "collapsed_sections": [],
      "toc_visible": true
    },
    "kernelspec": {
      "name": "python3",
      "display_name": "Python 3"
    },
    "accelerator": "GPU"
  },
  "cells": [
    {
      "metadata": {
        "id": "F6HbHZwgCIvg",
        "colab_type": "text"
      },
      "cell_type": "markdown",
      "source": [
        "## Data processing"
      ]
    },
    {
      "metadata": {
        "id": "JpSBpOfjFokn",
        "colab_type": "code",
        "colab": {}
      },
      "cell_type": "code",
      "source": [
        "import pandas as pd\n",
        "import numpy as np\n",
        "from sklearn.impute import SimpleImputer"
      ],
      "execution_count": 0,
      "outputs": []
    },
    {
      "metadata": {
        "id": "hSRFOpe4F0KQ",
        "colab_type": "code",
        "outputId": "8869724f-ae23-494a-df8d-5e20c37005d1",
        "colab": {
          "base_uri": "https://localhost:8080/",
          "height": 90
        }
      },
      "cell_type": "code",
      "source": [
        "data = pd.read_csv('prepared_data.csv')\n",
        "data.shape"
      ],
      "execution_count": 0,
      "outputs": [
        {
          "output_type": "stream",
          "text": [
            "/usr/local/lib/python3.6/dist-packages/IPython/core/interactiveshell.py:2718: DtypeWarning: Columns (2283) have mixed types. Specify dtype option on import or set low_memory=False.\n",
            "  interactivity=interactivity, compiler=compiler, result=result)\n"
          ],
          "name": "stderr"
        },
        {
          "output_type": "execute_result",
          "data": {
            "text/plain": [
              "(56897, 2432)"
            ]
          },
          "metadata": {
            "tags": []
          },
          "execution_count": 15
        }
      ]
    },
    {
      "metadata": {
        "id": "q3mog4biPvMn",
        "colab_type": "code",
        "outputId": "c1a4a564-6659-4e3b-8d54-5204f559fbf0",
        "colab": {
          "base_uri": "https://localhost:8080/",
          "height": 353
        }
      },
      "cell_type": "code",
      "source": [
        "data.describe()"
      ],
      "execution_count": 0,
      "outputs": [
        {
          "output_type": "execute_result",
          "data": {
            "text/html": [
              "<div>\n",
              "<style scoped>\n",
              "    .dataframe tbody tr th:only-of-type {\n",
              "        vertical-align: middle;\n",
              "    }\n",
              "\n",
              "    .dataframe tbody tr th {\n",
              "        vertical-align: top;\n",
              "    }\n",
              "\n",
              "    .dataframe thead th {\n",
              "        text-align: right;\n",
              "    }\n",
              "</style>\n",
              "<table border=\"1\" class=\"dataframe\">\n",
              "  <thead>\n",
              "    <tr style=\"text-align: right;\">\n",
              "      <th></th>\n",
              "      <th>Unnamed: 0</th>\n",
              "      <th>CIGEVER</th>\n",
              "      <th>CIGOFRSM</th>\n",
              "      <th>CIGWILYR</th>\n",
              "      <th>CIGTRY</th>\n",
              "      <th>CIGMFU</th>\n",
              "      <th>CIGREC</th>\n",
              "      <th>CIG30USE</th>\n",
              "      <th>CG30EST</th>\n",
              "      <th>CIG30AV</th>\n",
              "      <th>...</th>\n",
              "      <th>pnr_user</th>\n",
              "      <th>trq_user</th>\n",
              "      <th>stm_user</th>\n",
              "      <th>sed_user</th>\n",
              "      <th>cig_user</th>\n",
              "      <th>alc_user</th>\n",
              "      <th>mj_user</th>\n",
              "      <th>coc_user</th>\n",
              "      <th>crack_user</th>\n",
              "      <th>her_user</th>\n",
              "    </tr>\n",
              "  </thead>\n",
              "  <tbody>\n",
              "    <tr>\n",
              "      <th>count</th>\n",
              "      <td>56897.00000</td>\n",
              "      <td>56897.000000</td>\n",
              "      <td>56886.000000</td>\n",
              "      <td>56885.000000</td>\n",
              "      <td>56531.000000</td>\n",
              "      <td>56341.000000</td>\n",
              "      <td>56897.000000</td>\n",
              "      <td>56790.000000</td>\n",
              "      <td>56861.000000</td>\n",
              "      <td>56850.000000</td>\n",
              "      <td>...</td>\n",
              "      <td>56897.000000</td>\n",
              "      <td>56897.000000</td>\n",
              "      <td>56897.000000</td>\n",
              "      <td>56897.000000</td>\n",
              "      <td>56897.000000</td>\n",
              "      <td>56881.000000</td>\n",
              "      <td>56859.000000</td>\n",
              "      <td>56878.000000</td>\n",
              "      <td>56875.000000</td>\n",
              "      <td>56861.000000</td>\n",
              "    </tr>\n",
              "    <tr>\n",
              "      <th>mean</th>\n",
              "      <td>28448.00000</td>\n",
              "      <td>1.512751</td>\n",
              "      <td>78.090813</td>\n",
              "      <td>78.099077</td>\n",
              "      <td>519.117369</td>\n",
              "      <td>93.008857</td>\n",
              "      <td>47.982512</td>\n",
              "      <td>78.500229</td>\n",
              "      <td>92.979863</td>\n",
              "      <td>75.202375</td>\n",
              "      <td>...</td>\n",
              "      <td>0.049581</td>\n",
              "      <td>0.027734</td>\n",
              "      <td>0.030546</td>\n",
              "      <td>0.005695</td>\n",
              "      <td>0.437492</td>\n",
              "      <td>0.594961</td>\n",
              "      <td>0.179602</td>\n",
              "      <td>0.025247</td>\n",
              "      <td>0.003007</td>\n",
              "      <td>0.004397</td>\n",
              "    </tr>\n",
              "    <tr>\n",
              "      <th>std</th>\n",
              "      <td>16424.89347</td>\n",
              "      <td>0.499842</td>\n",
              "      <td>39.399555</td>\n",
              "      <td>39.385467</td>\n",
              "      <td>487.314111</td>\n",
              "      <td>12.930240</td>\n",
              "      <td>44.156738</td>\n",
              "      <td>28.116961</td>\n",
              "      <td>4.323097</td>\n",
              "      <td>34.456714</td>\n",
              "      <td>...</td>\n",
              "      <td>0.217079</td>\n",
              "      <td>0.164212</td>\n",
              "      <td>0.172087</td>\n",
              "      <td>0.075247</td>\n",
              "      <td>0.496082</td>\n",
              "      <td>0.490904</td>\n",
              "      <td>0.383859</td>\n",
              "      <td>0.238959</td>\n",
              "      <td>0.054750</td>\n",
              "      <td>0.066162</td>\n",
              "    </tr>\n",
              "    <tr>\n",
              "      <th>min</th>\n",
              "      <td>0.00000</td>\n",
              "      <td>1.000000</td>\n",
              "      <td>1.000000</td>\n",
              "      <td>1.000000</td>\n",
              "      <td>1.000000</td>\n",
              "      <td>1.000000</td>\n",
              "      <td>1.000000</td>\n",
              "      <td>1.000000</td>\n",
              "      <td>1.000000</td>\n",
              "      <td>1.000000</td>\n",
              "      <td>...</td>\n",
              "      <td>0.000000</td>\n",
              "      <td>0.000000</td>\n",
              "      <td>0.000000</td>\n",
              "      <td>0.000000</td>\n",
              "      <td>0.000000</td>\n",
              "      <td>0.000000</td>\n",
              "      <td>0.000000</td>\n",
              "      <td>0.000000</td>\n",
              "      <td>0.000000</td>\n",
              "      <td>0.000000</td>\n",
              "    </tr>\n",
              "    <tr>\n",
              "      <th>25%</th>\n",
              "      <td>14224.00000</td>\n",
              "      <td>1.000000</td>\n",
              "      <td>99.000000</td>\n",
              "      <td>99.000000</td>\n",
              "      <td>16.000000</td>\n",
              "      <td>91.000000</td>\n",
              "      <td>3.000000</td>\n",
              "      <td>91.000000</td>\n",
              "      <td>91.000000</td>\n",
              "      <td>91.000000</td>\n",
              "      <td>...</td>\n",
              "      <td>0.000000</td>\n",
              "      <td>0.000000</td>\n",
              "      <td>0.000000</td>\n",
              "      <td>0.000000</td>\n",
              "      <td>0.000000</td>\n",
              "      <td>0.000000</td>\n",
              "      <td>0.000000</td>\n",
              "      <td>0.000000</td>\n",
              "      <td>0.000000</td>\n",
              "      <td>0.000000</td>\n",
              "    </tr>\n",
              "    <tr>\n",
              "      <th>50%</th>\n",
              "      <td>28448.00000</td>\n",
              "      <td>2.000000</td>\n",
              "      <td>99.000000</td>\n",
              "      <td>99.000000</td>\n",
              "      <td>991.000000</td>\n",
              "      <td>91.000000</td>\n",
              "      <td>91.000000</td>\n",
              "      <td>91.000000</td>\n",
              "      <td>91.000000</td>\n",
              "      <td>91.000000</td>\n",
              "      <td>...</td>\n",
              "      <td>0.000000</td>\n",
              "      <td>0.000000</td>\n",
              "      <td>0.000000</td>\n",
              "      <td>0.000000</td>\n",
              "      <td>0.000000</td>\n",
              "      <td>1.000000</td>\n",
              "      <td>0.000000</td>\n",
              "      <td>0.000000</td>\n",
              "      <td>0.000000</td>\n",
              "      <td>0.000000</td>\n",
              "    </tr>\n",
              "    <tr>\n",
              "      <th>75%</th>\n",
              "      <td>42672.00000</td>\n",
              "      <td>2.000000</td>\n",
              "      <td>99.000000</td>\n",
              "      <td>99.000000</td>\n",
              "      <td>991.000000</td>\n",
              "      <td>99.000000</td>\n",
              "      <td>91.000000</td>\n",
              "      <td>93.000000</td>\n",
              "      <td>93.000000</td>\n",
              "      <td>93.000000</td>\n",
              "      <td>...</td>\n",
              "      <td>0.000000</td>\n",
              "      <td>0.000000</td>\n",
              "      <td>0.000000</td>\n",
              "      <td>0.000000</td>\n",
              "      <td>1.000000</td>\n",
              "      <td>1.000000</td>\n",
              "      <td>0.000000</td>\n",
              "      <td>0.000000</td>\n",
              "      <td>0.000000</td>\n",
              "      <td>0.000000</td>\n",
              "    </tr>\n",
              "    <tr>\n",
              "      <th>max</th>\n",
              "      <td>56896.00000</td>\n",
              "      <td>2.000000</td>\n",
              "      <td>99.000000</td>\n",
              "      <td>99.000000</td>\n",
              "      <td>991.000000</td>\n",
              "      <td>99.000000</td>\n",
              "      <td>91.000000</td>\n",
              "      <td>93.000000</td>\n",
              "      <td>99.000000</td>\n",
              "      <td>93.000000</td>\n",
              "      <td>...</td>\n",
              "      <td>1.000000</td>\n",
              "      <td>1.000000</td>\n",
              "      <td>1.000000</td>\n",
              "      <td>1.000000</td>\n",
              "      <td>1.000000</td>\n",
              "      <td>1.000000</td>\n",
              "      <td>1.000000</td>\n",
              "      <td>12.000000</td>\n",
              "      <td>1.000000</td>\n",
              "      <td>1.000000</td>\n",
              "    </tr>\n",
              "  </tbody>\n",
              "</table>\n",
              "<p>8 rows × 2431 columns</p>\n",
              "</div>"
            ],
            "text/plain": [
              "        Unnamed: 0       CIGEVER      CIGOFRSM      CIGWILYR        CIGTRY  \\\n",
              "count  56897.00000  56897.000000  56886.000000  56885.000000  56531.000000   \n",
              "mean   28448.00000      1.512751     78.090813     78.099077    519.117369   \n",
              "std    16424.89347      0.499842     39.399555     39.385467    487.314111   \n",
              "min        0.00000      1.000000      1.000000      1.000000      1.000000   \n",
              "25%    14224.00000      1.000000     99.000000     99.000000     16.000000   \n",
              "50%    28448.00000      2.000000     99.000000     99.000000    991.000000   \n",
              "75%    42672.00000      2.000000     99.000000     99.000000    991.000000   \n",
              "max    56896.00000      2.000000     99.000000     99.000000    991.000000   \n",
              "\n",
              "             CIGMFU        CIGREC      CIG30USE       CG30EST       CIG30AV  \\\n",
              "count  56341.000000  56897.000000  56790.000000  56861.000000  56850.000000   \n",
              "mean      93.008857     47.982512     78.500229     92.979863     75.202375   \n",
              "std       12.930240     44.156738     28.116961      4.323097     34.456714   \n",
              "min        1.000000      1.000000      1.000000      1.000000      1.000000   \n",
              "25%       91.000000      3.000000     91.000000     91.000000     91.000000   \n",
              "50%       91.000000     91.000000     91.000000     91.000000     91.000000   \n",
              "75%       99.000000     91.000000     93.000000     93.000000     93.000000   \n",
              "max       99.000000     91.000000     93.000000     99.000000     93.000000   \n",
              "\n",
              "           ...           pnr_user      trq_user      stm_user      sed_user  \\\n",
              "count      ...       56897.000000  56897.000000  56897.000000  56897.000000   \n",
              "mean       ...           0.049581      0.027734      0.030546      0.005695   \n",
              "std        ...           0.217079      0.164212      0.172087      0.075247   \n",
              "min        ...           0.000000      0.000000      0.000000      0.000000   \n",
              "25%        ...           0.000000      0.000000      0.000000      0.000000   \n",
              "50%        ...           0.000000      0.000000      0.000000      0.000000   \n",
              "75%        ...           0.000000      0.000000      0.000000      0.000000   \n",
              "max        ...           1.000000      1.000000      1.000000      1.000000   \n",
              "\n",
              "           cig_user      alc_user       mj_user      coc_user    crack_user  \\\n",
              "count  56897.000000  56881.000000  56859.000000  56878.000000  56875.000000   \n",
              "mean       0.437492      0.594961      0.179602      0.025247      0.003007   \n",
              "std        0.496082      0.490904      0.383859      0.238959      0.054750   \n",
              "min        0.000000      0.000000      0.000000      0.000000      0.000000   \n",
              "25%        0.000000      0.000000      0.000000      0.000000      0.000000   \n",
              "50%        0.000000      1.000000      0.000000      0.000000      0.000000   \n",
              "75%        1.000000      1.000000      0.000000      0.000000      0.000000   \n",
              "max        1.000000      1.000000      1.000000     12.000000      1.000000   \n",
              "\n",
              "           her_user  \n",
              "count  56861.000000  \n",
              "mean       0.004397  \n",
              "std        0.066162  \n",
              "min        0.000000  \n",
              "25%        0.000000  \n",
              "50%        0.000000  \n",
              "75%        0.000000  \n",
              "max        1.000000  \n",
              "\n",
              "[8 rows x 2431 columns]"
            ]
          },
          "metadata": {
            "tags": []
          },
          "execution_count": 4
        }
      ]
    },
    {
      "metadata": {
        "id": "SHhpfESQFai0",
        "colab_type": "code",
        "outputId": "5d625c0b-d3c8-4b17-aed5-1892b75a73fd",
        "colab": {
          "base_uri": "https://localhost:8080/",
          "height": 263
        }
      },
      "cell_type": "code",
      "source": [
        "data.head()"
      ],
      "execution_count": 0,
      "outputs": [
        {
          "output_type": "execute_result",
          "data": {
            "text/html": [
              "<div>\n",
              "<style scoped>\n",
              "    .dataframe tbody tr th:only-of-type {\n",
              "        vertical-align: middle;\n",
              "    }\n",
              "\n",
              "    .dataframe tbody tr th {\n",
              "        vertical-align: top;\n",
              "    }\n",
              "\n",
              "    .dataframe thead th {\n",
              "        text-align: right;\n",
              "    }\n",
              "</style>\n",
              "<table border=\"1\" class=\"dataframe\">\n",
              "  <thead>\n",
              "    <tr style=\"text-align: right;\">\n",
              "      <th></th>\n",
              "      <th>Unnamed: 0</th>\n",
              "      <th>CIGEVER</th>\n",
              "      <th>CIGOFRSM</th>\n",
              "      <th>CIGWILYR</th>\n",
              "      <th>CIGTRY</th>\n",
              "      <th>CIGMFU</th>\n",
              "      <th>CIGREC</th>\n",
              "      <th>CIG30USE</th>\n",
              "      <th>CG30EST</th>\n",
              "      <th>CIG30AV</th>\n",
              "      <th>...</th>\n",
              "      <th>pnr_user</th>\n",
              "      <th>trq_user</th>\n",
              "      <th>stm_user</th>\n",
              "      <th>sed_user</th>\n",
              "      <th>cig_user</th>\n",
              "      <th>alc_user</th>\n",
              "      <th>mj_user</th>\n",
              "      <th>coc_user</th>\n",
              "      <th>crack_user</th>\n",
              "      <th>her_user</th>\n",
              "    </tr>\n",
              "  </thead>\n",
              "  <tbody>\n",
              "    <tr>\n",
              "      <th>0</th>\n",
              "      <td>0</td>\n",
              "      <td>1</td>\n",
              "      <td>99.0</td>\n",
              "      <td>99.0</td>\n",
              "      <td>16.0</td>\n",
              "      <td>99.0</td>\n",
              "      <td>4</td>\n",
              "      <td>93.0</td>\n",
              "      <td>93.0</td>\n",
              "      <td>93.0</td>\n",
              "      <td>...</td>\n",
              "      <td>0</td>\n",
              "      <td>0</td>\n",
              "      <td>0</td>\n",
              "      <td>0</td>\n",
              "      <td>1</td>\n",
              "      <td>1.0</td>\n",
              "      <td>0.0</td>\n",
              "      <td>0.0</td>\n",
              "      <td>0.0</td>\n",
              "      <td>0.0</td>\n",
              "    </tr>\n",
              "    <tr>\n",
              "      <th>1</th>\n",
              "      <td>1</td>\n",
              "      <td>1</td>\n",
              "      <td>99.0</td>\n",
              "      <td>99.0</td>\n",
              "      <td>15.0</td>\n",
              "      <td>99.0</td>\n",
              "      <td>1</td>\n",
              "      <td>7.0</td>\n",
              "      <td>99.0</td>\n",
              "      <td>2.0</td>\n",
              "      <td>...</td>\n",
              "      <td>1</td>\n",
              "      <td>1</td>\n",
              "      <td>1</td>\n",
              "      <td>1</td>\n",
              "      <td>1</td>\n",
              "      <td>1.0</td>\n",
              "      <td>1.0</td>\n",
              "      <td>1.0</td>\n",
              "      <td>1.0</td>\n",
              "      <td>1.0</td>\n",
              "    </tr>\n",
              "    <tr>\n",
              "      <th>2</th>\n",
              "      <td>2</td>\n",
              "      <td>1</td>\n",
              "      <td>99.0</td>\n",
              "      <td>99.0</td>\n",
              "      <td>26.0</td>\n",
              "      <td>99.0</td>\n",
              "      <td>1</td>\n",
              "      <td>7.0</td>\n",
              "      <td>99.0</td>\n",
              "      <td>4.0</td>\n",
              "      <td>...</td>\n",
              "      <td>0</td>\n",
              "      <td>0</td>\n",
              "      <td>0</td>\n",
              "      <td>0</td>\n",
              "      <td>1</td>\n",
              "      <td>0.0</td>\n",
              "      <td>0.0</td>\n",
              "      <td>0.0</td>\n",
              "      <td>0.0</td>\n",
              "      <td>0.0</td>\n",
              "    </tr>\n",
              "    <tr>\n",
              "      <th>3</th>\n",
              "      <td>3</td>\n",
              "      <td>2</td>\n",
              "      <td>4.0</td>\n",
              "      <td>4.0</td>\n",
              "      <td>991.0</td>\n",
              "      <td>91.0</td>\n",
              "      <td>91</td>\n",
              "      <td>91.0</td>\n",
              "      <td>91.0</td>\n",
              "      <td>91.0</td>\n",
              "      <td>...</td>\n",
              "      <td>0</td>\n",
              "      <td>0</td>\n",
              "      <td>0</td>\n",
              "      <td>0</td>\n",
              "      <td>0</td>\n",
              "      <td>0.0</td>\n",
              "      <td>0.0</td>\n",
              "      <td>0.0</td>\n",
              "      <td>0.0</td>\n",
              "      <td>0.0</td>\n",
              "    </tr>\n",
              "    <tr>\n",
              "      <th>4</th>\n",
              "      <td>4</td>\n",
              "      <td>1</td>\n",
              "      <td>99.0</td>\n",
              "      <td>99.0</td>\n",
              "      <td>5.0</td>\n",
              "      <td>99.0</td>\n",
              "      <td>4</td>\n",
              "      <td>93.0</td>\n",
              "      <td>93.0</td>\n",
              "      <td>93.0</td>\n",
              "      <td>...</td>\n",
              "      <td>0</td>\n",
              "      <td>0</td>\n",
              "      <td>0</td>\n",
              "      <td>0</td>\n",
              "      <td>1</td>\n",
              "      <td>1.0</td>\n",
              "      <td>0.0</td>\n",
              "      <td>0.0</td>\n",
              "      <td>0.0</td>\n",
              "      <td>0.0</td>\n",
              "    </tr>\n",
              "  </tbody>\n",
              "</table>\n",
              "<p>5 rows × 2432 columns</p>\n",
              "</div>"
            ],
            "text/plain": [
              "   Unnamed: 0  CIGEVER  CIGOFRSM  CIGWILYR  CIGTRY  CIGMFU  CIGREC  CIG30USE  \\\n",
              "0           0        1      99.0      99.0    16.0    99.0       4      93.0   \n",
              "1           1        1      99.0      99.0    15.0    99.0       1       7.0   \n",
              "2           2        1      99.0      99.0    26.0    99.0       1       7.0   \n",
              "3           3        2       4.0       4.0   991.0    91.0      91      91.0   \n",
              "4           4        1      99.0      99.0     5.0    99.0       4      93.0   \n",
              "\n",
              "   CG30EST  CIG30AV    ...     pnr_user  trq_user  stm_user  sed_user  \\\n",
              "0     93.0     93.0    ...            0         0         0         0   \n",
              "1     99.0      2.0    ...            1         1         1         1   \n",
              "2     99.0      4.0    ...            0         0         0         0   \n",
              "3     91.0     91.0    ...            0         0         0         0   \n",
              "4     93.0     93.0    ...            0         0         0         0   \n",
              "\n",
              "   cig_user  alc_user  mj_user  coc_user  crack_user  her_user  \n",
              "0         1       1.0      0.0       0.0         0.0       0.0  \n",
              "1         1       1.0      1.0       1.0         1.0       1.0  \n",
              "2         1       0.0      0.0       0.0         0.0       0.0  \n",
              "3         0       0.0      0.0       0.0         0.0       0.0  \n",
              "4         1       1.0      0.0       0.0         0.0       0.0  \n",
              "\n",
              "[5 rows x 2432 columns]"
            ]
          },
          "metadata": {
            "tags": []
          },
          "execution_count": 5
        }
      ]
    },
    {
      "metadata": {
        "id": "FnS5vB_XIp0j",
        "colab_type": "text"
      },
      "cell_type": "markdown",
      "source": [
        "#### Dealing with missing values\n",
        "Due to the cpecifics of the survey data I wanted to use 2 types of missing value imputation. For all drug-related columns I used global most common substitution, because most peope do not use drugs. The rest columns with missing values were supposed to be imputed by the KNN model.\n",
        "\n",
        "__BUT__\n",
        "\n",
        "Unfortunately i can not afford to run it on so much data, so I used mode imputation in all dataset.\n",
        "\n",
        "Columns with more than 20% of missing values are droped cince mode MVs imputation would influence data too much, and there are relatively not much of such columns and too much columns in a dataset anyway."
      ]
    },
    {
      "metadata": {
        "id": "YHpMynnhdr3d",
        "colab_type": "code",
        "outputId": "85ea46c4-658f-46b8-8287-88be4797bf67",
        "colab": {
          "base_uri": "https://localhost:8080/",
          "height": 34
        }
      },
      "cell_type": "code",
      "source": [
        "none_percs = data[data.columns[data.isnull().any()]].isnull().mean() * 100\n",
        "nearly_empty_cols = [none_percs[none_percs == perc].index[0] for perc in none_percs if perc>20]\n",
        "len(nearly_empty_cols)"
      ],
      "execution_count": 0,
      "outputs": [
        {
          "output_type": "execute_result",
          "data": {
            "text/plain": [
              "357"
            ]
          },
          "metadata": {
            "tags": []
          },
          "execution_count": 16
        }
      ]
    },
    {
      "metadata": {
        "id": "01XVRuBr6-DJ",
        "colab_type": "code",
        "colab": {}
      },
      "cell_type": "code",
      "source": [
        "data.drop(nearly_empty_cols, axis=1, inplace=True)"
      ],
      "execution_count": 0,
      "outputs": []
    },
    {
      "metadata": {
        "id": "K_pFxmQrdGc8",
        "colab_type": "code",
        "outputId": "a13158e1-1c3b-4aa5-88e5-68cf31ecb7fa",
        "colab": {
          "base_uri": "https://localhost:8080/",
          "height": 34
        }
      },
      "cell_type": "code",
      "source": [
        "# number of cols with MVs, total part of MVs\n",
        "len(data.columns[data.isnull().any()]),  data.isnull().values.ravel().sum()/(data.shape[0]*data.shape[1])"
      ],
      "execution_count": 0,
      "outputs": [
        {
          "output_type": "execute_result",
          "data": {
            "text/plain": [
              "(1638, 0.059268863420781505)"
            ]
          },
          "metadata": {
            "tags": []
          },
          "execution_count": 18
        }
      ]
    },
    {
      "metadata": {
        "id": "TZ3SMeADDkJa",
        "colab_type": "text"
      },
      "cell_type": "markdown",
      "source": [
        "##### Data Separation\n",
        "I want to predict if a person uses particular drug using answers to the specific-drug-unrelated questions in the survey and then using questions not connected to any drug usage. For that I need to separate all drug related variables from general data.\n",
        "\n",
        "##### Prefixes in variables-questions used for every type of drug:"
      ]
    },
    {
      "metadata": {
        "id": "eGFRjSer9in0",
        "colab_type": "code",
        "colab": {}
      },
      "cell_type": "code",
      "source": [
        "halucinogens = ['LSD', 'PCP','PEYOTE','MESC','PSILCY','ECST','KET','DMTAMTFXY','SALVIADIV']\n",
        "inhalants = ['AMYLNIT', 'CLEFLU', 'GAS', 'GLUE', 'ETHER', 'SOLVENT', 'LGAS', 'NITOXID',\n",
        "             'FELTMARKR', 'SPPAINT', 'AIRDUSTER', 'OTHAEROS']"
      ],
      "execution_count": 0,
      "outputs": []
    },
    {
      "metadata": {
        "id": "HX7QdsqqDw_n",
        "colab_type": "code",
        "colab": {}
      },
      "cell_type": "code",
      "source": [
        "prefixes = {}\n",
        "prefixes['tobacco'] = 'CIG', 'CGR', 'CI3', 'PIP', 'SMK', 'TOB', 'CD'\n",
        "prefixes['alcohol'] = ('AL')\n",
        "prefixes['marijuana'] = 'MJ', 'MR'\n",
        "prefixes['cocaine'] = 'COC', 'CC', 'CON'\n",
        "prefixes['crack'] = 'CRK', 'CR' \n",
        "prefixes['heroin'] = 'HER', 'HR', 'HEO'\n",
        "prefixes['hallucinogens'] = ['HAL']+halucinogens\n",
        "prefixes['inhalants'] = ['INH']+inhalants\n",
        "prefixes['methamphetamine'] = 'MET', 'ME'\n",
        "prefixes['pain relievers'] = 'PNR', 'OXC'\n",
        "prefixes['tranqualizers'] = ('TRQ')\n",
        "prefixes['stimulants'] = 'SED', 'PSY'\n",
        "prefixes['sedaives'] = ('STM')\n",
        "prefixes['special drugs'] = 'COLD', 'GH', 'OT'\n",
        "prefixes['general about drugs'] = ('GNN')\n",
        "prefixes['targets'] = 'hal_user', 'inh_user', 'meth_user', 'pnr_user', 'trq_user', 'stm_user', 'sed_user', 'cig_user','alc_user', 'mj_user', 'coc_user', 'crack_user', 'her_user'"
      ],
      "execution_count": 0,
      "outputs": []
    },
    {
      "metadata": {
        "id": "mc5bYfHfDw7O",
        "colab_type": "code",
        "outputId": "ea9846cc-8254-4520-bc56-e4bab1060d7c",
        "colab": {
          "base_uri": "https://localhost:8080/",
          "height": 34
        }
      },
      "cell_type": "code",
      "source": [
        "drug_cols = []\n",
        "for drug in prefixes.keys():\n",
        "  drug_cols += [col for col in data.columns if col.startswith(tuple(prefixes[drug]))]\n",
        "len(drug_cols)"
      ],
      "execution_count": 0,
      "outputs": [
        {
          "output_type": "execute_result",
          "data": {
            "text/plain": [
              "1800"
            ]
          },
          "metadata": {
            "tags": []
          },
          "execution_count": 21
        }
      ]
    },
    {
      "metadata": {
        "id": "ufclcjngDw4O",
        "colab_type": "code",
        "colab": {}
      },
      "cell_type": "code",
      "source": [
        "imputer = SimpleImputer(missing_values = np.nan, strategy = 'most_frequent')\n",
        "data[data.columns] = imputer.fit_transform(data[data.columns])"
      ],
      "execution_count": 0,
      "outputs": []
    },
    {
      "metadata": {
        "id": "o2ChPelvm0-x",
        "colab_type": "code",
        "outputId": "34da6085-af67-44ac-afe1-775db5d0211a",
        "colab": {
          "base_uri": "https://localhost:8080/",
          "height": 34
        }
      },
      "cell_type": "code",
      "source": [
        "data.isnull().values.ravel().sum()"
      ],
      "execution_count": 0,
      "outputs": [
        {
          "output_type": "execute_result",
          "data": {
            "text/plain": [
              "0"
            ]
          },
          "metadata": {
            "tags": []
          },
          "execution_count": 24
        }
      ]
    },
    {
      "metadata": {
        "id": "V3FpATK2E1_K",
        "colab_type": "code",
        "colab": {}
      },
      "cell_type": "code",
      "source": [
        "data.to_csv('mode_imputed.csv')"
      ],
      "execution_count": 0,
      "outputs": []
    },
    {
      "metadata": {
        "id": "43oVBTTrCs4v",
        "colab_type": "text"
      },
      "cell_type": "markdown",
      "source": [
        "#### Dealing with noise"
      ]
    },
    {
      "metadata": {
        "id": "34u4Jqu4fqVL",
        "colab_type": "text"
      },
      "cell_type": "markdown",
      "source": [
        "#### Data reduction\n",
        "i used Factor Analysis as it not only reduces dimentions but may increase accuracy"
      ]
    },
    {
      "metadata": {
        "id": "TPqpvHiogE_j",
        "colab_type": "code",
        "colab": {}
      },
      "cell_type": "code",
      "source": [
        "    fa = FactorAnalysis(n_components=300)\n",
        "    fa.fit(train_x.values)\n",
        "    train_set = fa.transform(train_x.values)\n",
        "    test_set = fa.transform(test_x.values)"
      ],
      "execution_count": 0,
      "outputs": []
    },
    {
      "metadata": {
        "id": "9-mPIVTTgE1n",
        "colab_type": "code",
        "colab": {}
      },
      "cell_type": "code",
      "source": [
        ""
      ],
      "execution_count": 0,
      "outputs": []
    },
    {
      "metadata": {
        "id": "TvyRjZoigEoD",
        "colab_type": "code",
        "colab": {}
      },
      "cell_type": "code",
      "source": [
        ""
      ],
      "execution_count": 0,
      "outputs": []
    },
    {
      "metadata": {
        "id": "Oj7gB2gTE252",
        "colab_type": "text"
      },
      "cell_type": "markdown",
      "source": [
        "influence of RSK\n",
        "\n",
        "special drugs\n",
        "\n",
        "needle any"
      ]
    }
  ]
}