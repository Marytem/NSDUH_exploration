{
  "nbformat": 4,
  "nbformat_minor": 0,
  "metadata": {
    "colab": {
      "name": "data_processing.ipynb",
      "version": "0.3.2",
      "provenance": [],
      "collapsed_sections": [],
      "toc_visible": true,
      "include_colab_link": true
    },
    "kernelspec": {
      "name": "python3",
      "display_name": "Python 3"
    },
    "accelerator": "GPU"
  },
  "cells": [
    {
      "cell_type": "markdown",
      "metadata": {
        "id": "view-in-github",
        "colab_type": "text"
      },
      "source": [
        "<a href=\"https://colab.research.google.com/github/Marytem/NSDUH_exploration/blob/master/data_processing.ipynb\" target=\"_parent\"><img src=\"https://colab.research.google.com/assets/colab-badge.svg\" alt=\"Open In Colab\"/></a>"
      ]
    },
    {
      "metadata": {
        "id": "F6HbHZwgCIvg",
        "colab_type": "text"
      },
      "cell_type": "markdown",
      "source": [
        "## Data processing"
      ]
    },
    {
      "metadata": {
        "id": "JpSBpOfjFokn",
        "colab_type": "code",
        "colab": {}
      },
      "cell_type": "code",
      "source": [
        "import pandas as pd\n",
        "import numpy as np\n",
        "from sklearn.impute import SimpleImputer\n",
        "from sklearn.linear_model import LogisticRegression\n",
        "from sklearn.metrics import accuracy_score\n",
        "from sklearn.model_selection import train_test_split\n",
        "from sklearn.decomposition import FactorAnalysis\n",
        "from mlxtend.plotting import plot_sequential_feature_selection\n",
        "from matplotlib import pyplot as plt\n",
        "from mlxtend.feature_selection import SequentialFeatureSelector as SFS"
      ],
      "execution_count": 0,
      "outputs": []
    },
    {
      "metadata": {
        "id": "hSRFOpe4F0KQ",
        "colab_type": "code",
        "outputId": "12d86dca-9dd0-4ac0-8e8d-738f1f56909b",
        "colab": {
          "base_uri": "https://localhost:8080/",
          "height": 90
        }
      },
      "cell_type": "code",
      "source": [
        "data = pd.read_csv('prepared_data.csv')\n",
        "data.shape"
      ],
      "execution_count": 2,
      "outputs": [
        {
          "output_type": "stream",
          "text": [
            "/usr/local/lib/python3.6/dist-packages/IPython/core/interactiveshell.py:2718: DtypeWarning: Columns (2283) have mixed types. Specify dtype option on import or set low_memory=False.\n",
            "  interactivity=interactivity, compiler=compiler, result=result)\n"
          ],
          "name": "stderr"
        },
        {
          "output_type": "execute_result",
          "data": {
            "text/plain": [
              "(56897, 2432)"
            ]
          },
          "metadata": {
            "tags": []
          },
          "execution_count": 2
        }
      ]
    },
    {
      "metadata": {
        "id": "q3mog4biPvMn",
        "colab_type": "code",
        "outputId": "02e53411-a8e2-4113-bf4f-df8e286f66a1",
        "colab": {
          "base_uri": "https://localhost:8080/",
          "height": 353
        }
      },
      "cell_type": "code",
      "source": [
        "data.describe()"
      ],
      "execution_count": 3,
      "outputs": [
        {
          "output_type": "execute_result",
          "data": {
            "text/html": [
              "<div>\n",
              "<style scoped>\n",
              "    .dataframe tbody tr th:only-of-type {\n",
              "        vertical-align: middle;\n",
              "    }\n",
              "\n",
              "    .dataframe tbody tr th {\n",
              "        vertical-align: top;\n",
              "    }\n",
              "\n",
              "    .dataframe thead th {\n",
              "        text-align: right;\n",
              "    }\n",
              "</style>\n",
              "<table border=\"1\" class=\"dataframe\">\n",
              "  <thead>\n",
              "    <tr style=\"text-align: right;\">\n",
              "      <th></th>\n",
              "      <th>Unnamed: 0</th>\n",
              "      <th>CIGEVER</th>\n",
              "      <th>CIGOFRSM</th>\n",
              "      <th>CIGWILYR</th>\n",
              "      <th>CIGTRY</th>\n",
              "      <th>CIGMFU</th>\n",
              "      <th>CIGREC</th>\n",
              "      <th>CIG30USE</th>\n",
              "      <th>CG30EST</th>\n",
              "      <th>CIG30AV</th>\n",
              "      <th>...</th>\n",
              "      <th>pnr_user</th>\n",
              "      <th>trq_user</th>\n",
              "      <th>stm_user</th>\n",
              "      <th>sed_user</th>\n",
              "      <th>cig_user</th>\n",
              "      <th>alc_user</th>\n",
              "      <th>mj_user</th>\n",
              "      <th>coc_user</th>\n",
              "      <th>crack_user</th>\n",
              "      <th>her_user</th>\n",
              "    </tr>\n",
              "  </thead>\n",
              "  <tbody>\n",
              "    <tr>\n",
              "      <th>count</th>\n",
              "      <td>56897.00000</td>\n",
              "      <td>56897.000000</td>\n",
              "      <td>56886.000000</td>\n",
              "      <td>56885.000000</td>\n",
              "      <td>56531.000000</td>\n",
              "      <td>56341.000000</td>\n",
              "      <td>56897.000000</td>\n",
              "      <td>56790.000000</td>\n",
              "      <td>56861.000000</td>\n",
              "      <td>56850.000000</td>\n",
              "      <td>...</td>\n",
              "      <td>56897.000000</td>\n",
              "      <td>56897.000000</td>\n",
              "      <td>56897.000000</td>\n",
              "      <td>56897.000000</td>\n",
              "      <td>56897.000000</td>\n",
              "      <td>56881.000000</td>\n",
              "      <td>56859.000000</td>\n",
              "      <td>56878.000000</td>\n",
              "      <td>56875.000000</td>\n",
              "      <td>56861.000000</td>\n",
              "    </tr>\n",
              "    <tr>\n",
              "      <th>mean</th>\n",
              "      <td>28448.00000</td>\n",
              "      <td>1.512751</td>\n",
              "      <td>78.090813</td>\n",
              "      <td>78.099077</td>\n",
              "      <td>519.117369</td>\n",
              "      <td>93.008857</td>\n",
              "      <td>47.982512</td>\n",
              "      <td>78.500229</td>\n",
              "      <td>92.979863</td>\n",
              "      <td>75.202375</td>\n",
              "      <td>...</td>\n",
              "      <td>0.049581</td>\n",
              "      <td>0.027734</td>\n",
              "      <td>0.030546</td>\n",
              "      <td>0.005695</td>\n",
              "      <td>0.437492</td>\n",
              "      <td>0.594961</td>\n",
              "      <td>0.179602</td>\n",
              "      <td>0.025247</td>\n",
              "      <td>0.003007</td>\n",
              "      <td>0.004397</td>\n",
              "    </tr>\n",
              "    <tr>\n",
              "      <th>std</th>\n",
              "      <td>16424.89347</td>\n",
              "      <td>0.499842</td>\n",
              "      <td>39.399555</td>\n",
              "      <td>39.385467</td>\n",
              "      <td>487.314111</td>\n",
              "      <td>12.930240</td>\n",
              "      <td>44.156738</td>\n",
              "      <td>28.116961</td>\n",
              "      <td>4.323097</td>\n",
              "      <td>34.456714</td>\n",
              "      <td>...</td>\n",
              "      <td>0.217079</td>\n",
              "      <td>0.164212</td>\n",
              "      <td>0.172087</td>\n",
              "      <td>0.075247</td>\n",
              "      <td>0.496082</td>\n",
              "      <td>0.490904</td>\n",
              "      <td>0.383859</td>\n",
              "      <td>0.238959</td>\n",
              "      <td>0.054750</td>\n",
              "      <td>0.066162</td>\n",
              "    </tr>\n",
              "    <tr>\n",
              "      <th>min</th>\n",
              "      <td>0.00000</td>\n",
              "      <td>1.000000</td>\n",
              "      <td>1.000000</td>\n",
              "      <td>1.000000</td>\n",
              "      <td>1.000000</td>\n",
              "      <td>1.000000</td>\n",
              "      <td>1.000000</td>\n",
              "      <td>1.000000</td>\n",
              "      <td>1.000000</td>\n",
              "      <td>1.000000</td>\n",
              "      <td>...</td>\n",
              "      <td>0.000000</td>\n",
              "      <td>0.000000</td>\n",
              "      <td>0.000000</td>\n",
              "      <td>0.000000</td>\n",
              "      <td>0.000000</td>\n",
              "      <td>0.000000</td>\n",
              "      <td>0.000000</td>\n",
              "      <td>0.000000</td>\n",
              "      <td>0.000000</td>\n",
              "      <td>0.000000</td>\n",
              "    </tr>\n",
              "    <tr>\n",
              "      <th>25%</th>\n",
              "      <td>14224.00000</td>\n",
              "      <td>1.000000</td>\n",
              "      <td>99.000000</td>\n",
              "      <td>99.000000</td>\n",
              "      <td>16.000000</td>\n",
              "      <td>91.000000</td>\n",
              "      <td>3.000000</td>\n",
              "      <td>91.000000</td>\n",
              "      <td>91.000000</td>\n",
              "      <td>91.000000</td>\n",
              "      <td>...</td>\n",
              "      <td>0.000000</td>\n",
              "      <td>0.000000</td>\n",
              "      <td>0.000000</td>\n",
              "      <td>0.000000</td>\n",
              "      <td>0.000000</td>\n",
              "      <td>0.000000</td>\n",
              "      <td>0.000000</td>\n",
              "      <td>0.000000</td>\n",
              "      <td>0.000000</td>\n",
              "      <td>0.000000</td>\n",
              "    </tr>\n",
              "    <tr>\n",
              "      <th>50%</th>\n",
              "      <td>28448.00000</td>\n",
              "      <td>2.000000</td>\n",
              "      <td>99.000000</td>\n",
              "      <td>99.000000</td>\n",
              "      <td>991.000000</td>\n",
              "      <td>91.000000</td>\n",
              "      <td>91.000000</td>\n",
              "      <td>91.000000</td>\n",
              "      <td>91.000000</td>\n",
              "      <td>91.000000</td>\n",
              "      <td>...</td>\n",
              "      <td>0.000000</td>\n",
              "      <td>0.000000</td>\n",
              "      <td>0.000000</td>\n",
              "      <td>0.000000</td>\n",
              "      <td>0.000000</td>\n",
              "      <td>1.000000</td>\n",
              "      <td>0.000000</td>\n",
              "      <td>0.000000</td>\n",
              "      <td>0.000000</td>\n",
              "      <td>0.000000</td>\n",
              "    </tr>\n",
              "    <tr>\n",
              "      <th>75%</th>\n",
              "      <td>42672.00000</td>\n",
              "      <td>2.000000</td>\n",
              "      <td>99.000000</td>\n",
              "      <td>99.000000</td>\n",
              "      <td>991.000000</td>\n",
              "      <td>99.000000</td>\n",
              "      <td>91.000000</td>\n",
              "      <td>93.000000</td>\n",
              "      <td>93.000000</td>\n",
              "      <td>93.000000</td>\n",
              "      <td>...</td>\n",
              "      <td>0.000000</td>\n",
              "      <td>0.000000</td>\n",
              "      <td>0.000000</td>\n",
              "      <td>0.000000</td>\n",
              "      <td>1.000000</td>\n",
              "      <td>1.000000</td>\n",
              "      <td>0.000000</td>\n",
              "      <td>0.000000</td>\n",
              "      <td>0.000000</td>\n",
              "      <td>0.000000</td>\n",
              "    </tr>\n",
              "    <tr>\n",
              "      <th>max</th>\n",
              "      <td>56896.00000</td>\n",
              "      <td>2.000000</td>\n",
              "      <td>99.000000</td>\n",
              "      <td>99.000000</td>\n",
              "      <td>991.000000</td>\n",
              "      <td>99.000000</td>\n",
              "      <td>91.000000</td>\n",
              "      <td>93.000000</td>\n",
              "      <td>99.000000</td>\n",
              "      <td>93.000000</td>\n",
              "      <td>...</td>\n",
              "      <td>1.000000</td>\n",
              "      <td>1.000000</td>\n",
              "      <td>1.000000</td>\n",
              "      <td>1.000000</td>\n",
              "      <td>1.000000</td>\n",
              "      <td>1.000000</td>\n",
              "      <td>1.000000</td>\n",
              "      <td>12.000000</td>\n",
              "      <td>1.000000</td>\n",
              "      <td>1.000000</td>\n",
              "    </tr>\n",
              "  </tbody>\n",
              "</table>\n",
              "<p>8 rows × 2431 columns</p>\n",
              "</div>"
            ],
            "text/plain": [
              "        Unnamed: 0       CIGEVER      CIGOFRSM      CIGWILYR        CIGTRY  \\\n",
              "count  56897.00000  56897.000000  56886.000000  56885.000000  56531.000000   \n",
              "mean   28448.00000      1.512751     78.090813     78.099077    519.117369   \n",
              "std    16424.89347      0.499842     39.399555     39.385467    487.314111   \n",
              "min        0.00000      1.000000      1.000000      1.000000      1.000000   \n",
              "25%    14224.00000      1.000000     99.000000     99.000000     16.000000   \n",
              "50%    28448.00000      2.000000     99.000000     99.000000    991.000000   \n",
              "75%    42672.00000      2.000000     99.000000     99.000000    991.000000   \n",
              "max    56896.00000      2.000000     99.000000     99.000000    991.000000   \n",
              "\n",
              "             CIGMFU        CIGREC      CIG30USE       CG30EST       CIG30AV  \\\n",
              "count  56341.000000  56897.000000  56790.000000  56861.000000  56850.000000   \n",
              "mean      93.008857     47.982512     78.500229     92.979863     75.202375   \n",
              "std       12.930240     44.156738     28.116961      4.323097     34.456714   \n",
              "min        1.000000      1.000000      1.000000      1.000000      1.000000   \n",
              "25%       91.000000      3.000000     91.000000     91.000000     91.000000   \n",
              "50%       91.000000     91.000000     91.000000     91.000000     91.000000   \n",
              "75%       99.000000     91.000000     93.000000     93.000000     93.000000   \n",
              "max       99.000000     91.000000     93.000000     99.000000     93.000000   \n",
              "\n",
              "           ...           pnr_user      trq_user      stm_user      sed_user  \\\n",
              "count      ...       56897.000000  56897.000000  56897.000000  56897.000000   \n",
              "mean       ...           0.049581      0.027734      0.030546      0.005695   \n",
              "std        ...           0.217079      0.164212      0.172087      0.075247   \n",
              "min        ...           0.000000      0.000000      0.000000      0.000000   \n",
              "25%        ...           0.000000      0.000000      0.000000      0.000000   \n",
              "50%        ...           0.000000      0.000000      0.000000      0.000000   \n",
              "75%        ...           0.000000      0.000000      0.000000      0.000000   \n",
              "max        ...           1.000000      1.000000      1.000000      1.000000   \n",
              "\n",
              "           cig_user      alc_user       mj_user      coc_user    crack_user  \\\n",
              "count  56897.000000  56881.000000  56859.000000  56878.000000  56875.000000   \n",
              "mean       0.437492      0.594961      0.179602      0.025247      0.003007   \n",
              "std        0.496082      0.490904      0.383859      0.238959      0.054750   \n",
              "min        0.000000      0.000000      0.000000      0.000000      0.000000   \n",
              "25%        0.000000      0.000000      0.000000      0.000000      0.000000   \n",
              "50%        0.000000      1.000000      0.000000      0.000000      0.000000   \n",
              "75%        1.000000      1.000000      0.000000      0.000000      0.000000   \n",
              "max        1.000000      1.000000      1.000000     12.000000      1.000000   \n",
              "\n",
              "           her_user  \n",
              "count  56861.000000  \n",
              "mean       0.004397  \n",
              "std        0.066162  \n",
              "min        0.000000  \n",
              "25%        0.000000  \n",
              "50%        0.000000  \n",
              "75%        0.000000  \n",
              "max        1.000000  \n",
              "\n",
              "[8 rows x 2431 columns]"
            ]
          },
          "metadata": {
            "tags": []
          },
          "execution_count": 3
        }
      ]
    },
    {
      "metadata": {
        "id": "SHhpfESQFai0",
        "colab_type": "code",
        "outputId": "713d46a6-78b4-45d7-a690-a1cd3b5c4457",
        "colab": {
          "base_uri": "https://localhost:8080/",
          "height": 263
        }
      },
      "cell_type": "code",
      "source": [
        "data.head()"
      ],
      "execution_count": 4,
      "outputs": [
        {
          "output_type": "execute_result",
          "data": {
            "text/html": [
              "<div>\n",
              "<style scoped>\n",
              "    .dataframe tbody tr th:only-of-type {\n",
              "        vertical-align: middle;\n",
              "    }\n",
              "\n",
              "    .dataframe tbody tr th {\n",
              "        vertical-align: top;\n",
              "    }\n",
              "\n",
              "    .dataframe thead th {\n",
              "        text-align: right;\n",
              "    }\n",
              "</style>\n",
              "<table border=\"1\" class=\"dataframe\">\n",
              "  <thead>\n",
              "    <tr style=\"text-align: right;\">\n",
              "      <th></th>\n",
              "      <th>Unnamed: 0</th>\n",
              "      <th>CIGEVER</th>\n",
              "      <th>CIGOFRSM</th>\n",
              "      <th>CIGWILYR</th>\n",
              "      <th>CIGTRY</th>\n",
              "      <th>CIGMFU</th>\n",
              "      <th>CIGREC</th>\n",
              "      <th>CIG30USE</th>\n",
              "      <th>CG30EST</th>\n",
              "      <th>CIG30AV</th>\n",
              "      <th>...</th>\n",
              "      <th>pnr_user</th>\n",
              "      <th>trq_user</th>\n",
              "      <th>stm_user</th>\n",
              "      <th>sed_user</th>\n",
              "      <th>cig_user</th>\n",
              "      <th>alc_user</th>\n",
              "      <th>mj_user</th>\n",
              "      <th>coc_user</th>\n",
              "      <th>crack_user</th>\n",
              "      <th>her_user</th>\n",
              "    </tr>\n",
              "  </thead>\n",
              "  <tbody>\n",
              "    <tr>\n",
              "      <th>0</th>\n",
              "      <td>0</td>\n",
              "      <td>1</td>\n",
              "      <td>99.0</td>\n",
              "      <td>99.0</td>\n",
              "      <td>16.0</td>\n",
              "      <td>99.0</td>\n",
              "      <td>4</td>\n",
              "      <td>93.0</td>\n",
              "      <td>93.0</td>\n",
              "      <td>93.0</td>\n",
              "      <td>...</td>\n",
              "      <td>0</td>\n",
              "      <td>0</td>\n",
              "      <td>0</td>\n",
              "      <td>0</td>\n",
              "      <td>1</td>\n",
              "      <td>1.0</td>\n",
              "      <td>0.0</td>\n",
              "      <td>0.0</td>\n",
              "      <td>0.0</td>\n",
              "      <td>0.0</td>\n",
              "    </tr>\n",
              "    <tr>\n",
              "      <th>1</th>\n",
              "      <td>1</td>\n",
              "      <td>1</td>\n",
              "      <td>99.0</td>\n",
              "      <td>99.0</td>\n",
              "      <td>15.0</td>\n",
              "      <td>99.0</td>\n",
              "      <td>1</td>\n",
              "      <td>7.0</td>\n",
              "      <td>99.0</td>\n",
              "      <td>2.0</td>\n",
              "      <td>...</td>\n",
              "      <td>1</td>\n",
              "      <td>1</td>\n",
              "      <td>1</td>\n",
              "      <td>1</td>\n",
              "      <td>1</td>\n",
              "      <td>1.0</td>\n",
              "      <td>1.0</td>\n",
              "      <td>1.0</td>\n",
              "      <td>1.0</td>\n",
              "      <td>1.0</td>\n",
              "    </tr>\n",
              "    <tr>\n",
              "      <th>2</th>\n",
              "      <td>2</td>\n",
              "      <td>1</td>\n",
              "      <td>99.0</td>\n",
              "      <td>99.0</td>\n",
              "      <td>26.0</td>\n",
              "      <td>99.0</td>\n",
              "      <td>1</td>\n",
              "      <td>7.0</td>\n",
              "      <td>99.0</td>\n",
              "      <td>4.0</td>\n",
              "      <td>...</td>\n",
              "      <td>0</td>\n",
              "      <td>0</td>\n",
              "      <td>0</td>\n",
              "      <td>0</td>\n",
              "      <td>1</td>\n",
              "      <td>0.0</td>\n",
              "      <td>0.0</td>\n",
              "      <td>0.0</td>\n",
              "      <td>0.0</td>\n",
              "      <td>0.0</td>\n",
              "    </tr>\n",
              "    <tr>\n",
              "      <th>3</th>\n",
              "      <td>3</td>\n",
              "      <td>2</td>\n",
              "      <td>4.0</td>\n",
              "      <td>4.0</td>\n",
              "      <td>991.0</td>\n",
              "      <td>91.0</td>\n",
              "      <td>91</td>\n",
              "      <td>91.0</td>\n",
              "      <td>91.0</td>\n",
              "      <td>91.0</td>\n",
              "      <td>...</td>\n",
              "      <td>0</td>\n",
              "      <td>0</td>\n",
              "      <td>0</td>\n",
              "      <td>0</td>\n",
              "      <td>0</td>\n",
              "      <td>0.0</td>\n",
              "      <td>0.0</td>\n",
              "      <td>0.0</td>\n",
              "      <td>0.0</td>\n",
              "      <td>0.0</td>\n",
              "    </tr>\n",
              "    <tr>\n",
              "      <th>4</th>\n",
              "      <td>4</td>\n",
              "      <td>1</td>\n",
              "      <td>99.0</td>\n",
              "      <td>99.0</td>\n",
              "      <td>5.0</td>\n",
              "      <td>99.0</td>\n",
              "      <td>4</td>\n",
              "      <td>93.0</td>\n",
              "      <td>93.0</td>\n",
              "      <td>93.0</td>\n",
              "      <td>...</td>\n",
              "      <td>0</td>\n",
              "      <td>0</td>\n",
              "      <td>0</td>\n",
              "      <td>0</td>\n",
              "      <td>1</td>\n",
              "      <td>1.0</td>\n",
              "      <td>0.0</td>\n",
              "      <td>0.0</td>\n",
              "      <td>0.0</td>\n",
              "      <td>0.0</td>\n",
              "    </tr>\n",
              "  </tbody>\n",
              "</table>\n",
              "<p>5 rows × 2432 columns</p>\n",
              "</div>"
            ],
            "text/plain": [
              "   Unnamed: 0  CIGEVER  CIGOFRSM  CIGWILYR  CIGTRY  CIGMFU  CIGREC  CIG30USE  \\\n",
              "0           0        1      99.0      99.0    16.0    99.0       4      93.0   \n",
              "1           1        1      99.0      99.0    15.0    99.0       1       7.0   \n",
              "2           2        1      99.0      99.0    26.0    99.0       1       7.0   \n",
              "3           3        2       4.0       4.0   991.0    91.0      91      91.0   \n",
              "4           4        1      99.0      99.0     5.0    99.0       4      93.0   \n",
              "\n",
              "   CG30EST  CIG30AV    ...     pnr_user  trq_user  stm_user  sed_user  \\\n",
              "0     93.0     93.0    ...            0         0         0         0   \n",
              "1     99.0      2.0    ...            1         1         1         1   \n",
              "2     99.0      4.0    ...            0         0         0         0   \n",
              "3     91.0     91.0    ...            0         0         0         0   \n",
              "4     93.0     93.0    ...            0         0         0         0   \n",
              "\n",
              "   cig_user  alc_user  mj_user  coc_user  crack_user  her_user  \n",
              "0         1       1.0      0.0       0.0         0.0       0.0  \n",
              "1         1       1.0      1.0       1.0         1.0       1.0  \n",
              "2         1       0.0      0.0       0.0         0.0       0.0  \n",
              "3         0       0.0      0.0       0.0         0.0       0.0  \n",
              "4         1       1.0      0.0       0.0         0.0       0.0  \n",
              "\n",
              "[5 rows x 2432 columns]"
            ]
          },
          "metadata": {
            "tags": []
          },
          "execution_count": 4
        }
      ]
    },
    {
      "metadata": {
        "id": "FnS5vB_XIp0j",
        "colab_type": "text"
      },
      "cell_type": "markdown",
      "source": [
        "#### Dealing with missing values\n",
        "Due to the cpecifics of the survey data I wanted to use 2 types of missing value imputation. For all drug-related columns I used global most common substitution, because thte data is categorical and because most peope do not use drugs. The rest columns with missing values were supposed to be imputed by the KNN model.\n",
        "\n",
        "__BUT__\n",
        "\n",
        "Unfortunately i can not afford to run it on so much data, so I used mode imputation in all dataset.\n",
        "\n",
        "Columns with more than 20% of missing values are droped cince mode MVs imputation would influence data too much, and there are relatively not much of such columns and too much columns in a dataset anyway."
      ]
    },
    {
      "metadata": {
        "id": "YHpMynnhdr3d",
        "colab_type": "code",
        "outputId": "40efd4ca-912b-40da-d69b-ac36287e01b4",
        "colab": {
          "base_uri": "https://localhost:8080/",
          "height": 34
        }
      },
      "cell_type": "code",
      "source": [
        "none_percs = data[data.columns[data.isnull().any()]].isnull().mean() * 100\n",
        "nearly_empty_cols = [none_percs[none_percs == perc].index[0] for perc in none_percs if perc>20]\n",
        "len(nearly_empty_cols)"
      ],
      "execution_count": 5,
      "outputs": [
        {
          "output_type": "execute_result",
          "data": {
            "text/plain": [
              "357"
            ]
          },
          "metadata": {
            "tags": []
          },
          "execution_count": 5
        }
      ]
    },
    {
      "metadata": {
        "id": "01XVRuBr6-DJ",
        "colab_type": "code",
        "colab": {}
      },
      "cell_type": "code",
      "source": [
        "data.drop(nearly_empty_cols, axis=1, inplace=True)"
      ],
      "execution_count": 0,
      "outputs": []
    },
    {
      "metadata": {
        "id": "K_pFxmQrdGc8",
        "colab_type": "code",
        "outputId": "47374d4a-a2fd-4e7e-a801-3243948b7117",
        "colab": {
          "base_uri": "https://localhost:8080/",
          "height": 34
        }
      },
      "cell_type": "code",
      "source": [
        "# number of cols with MVs, total part of MVs\n",
        "len(data.columns[data.isnull().any()]),  data.isnull().values.ravel().sum()/(data.shape[0]*data.shape[1])"
      ],
      "execution_count": 7,
      "outputs": [
        {
          "output_type": "execute_result",
          "data": {
            "text/plain": [
              "(1638, 0.059268863420781505)"
            ]
          },
          "metadata": {
            "tags": []
          },
          "execution_count": 7
        }
      ]
    },
    {
      "metadata": {
        "id": "TZ3SMeADDkJa",
        "colab_type": "text"
      },
      "cell_type": "markdown",
      "source": [
        "##### Data Separation\n",
        "I want to predict if a person uses particular drug using answers to the specific-drug-unrelated questions in the survey and then using questions not connected to any drug usage. For that I need to separate all drug related variables from general data.\n",
        "\n",
        "##### Prefixes in variables-questions used for every type of drug:"
      ]
    },
    {
      "metadata": {
        "id": "eGFRjSer9in0",
        "colab_type": "code",
        "colab": {}
      },
      "cell_type": "code",
      "source": [
        "halucinogens = ['LSD', 'PCP','PEYOTE','MESC','PSILCY','ECST','KET','DMTAMTFXY','SALVIADIV']\n",
        "inhalants = ['AMYLNIT', 'CLEFLU', 'GAS', 'GLUE', 'ETHER', 'SOLVENT', 'LGAS', 'NITOXID',\n",
        "             'FELTMARKR', 'SPPAINT', 'AIRDUSTER', 'OTHAEROS']"
      ],
      "execution_count": 0,
      "outputs": []
    },
    {
      "metadata": {
        "id": "HX7QdsqqDw_n",
        "colab_type": "code",
        "colab": {}
      },
      "cell_type": "code",
      "source": [
        "prefixes = {}\n",
        "prefixes['tobacco'] = 'CIG', 'CGR', 'CI3', 'PIP', 'SMK', 'TOB', 'CD'\n",
        "prefixes['alcohol'] = ('AL')\n",
        "prefixes['marijuana'] = 'MJ', 'MR'\n",
        "prefixes['cocaine'] = 'COC', 'CC', 'CON'\n",
        "prefixes['crack'] = 'CRK', 'CR' \n",
        "prefixes['heroin'] = 'HER', 'HR', 'HEO'\n",
        "prefixes['hallucinogens'] = ['HAL']+halucinogens\n",
        "prefixes['inhalants'] = ['INH']+inhalants\n",
        "prefixes['methamphetamine'] = 'MET', 'ME'\n",
        "prefixes['pain relievers'] = 'PNR', 'OXC'\n",
        "prefixes['tranqualizers'] = ('TRQ')\n",
        "prefixes['stimulants'] = 'SED', 'PSY'\n",
        "prefixes['sedaives'] = ('STM')\n",
        "prefixes['special drugs'] = 'COLD', 'GH', 'OT'\n",
        "prefixes['general about drugs'] = ('GNN')\n",
        "prefixes['targets'] = ['hal_user', 'inh_user', 'meth_user', 'pnr_user', \n",
        "                       'trq_user', 'stm_user', 'sed_user', 'cig_user',\n",
        "                       'alc_user', 'mj_user', 'coc_user', 'crack_user', 'her_user']"
      ],
      "execution_count": 0,
      "outputs": []
    },
    {
      "metadata": {
        "id": "mc5bYfHfDw7O",
        "colab_type": "code",
        "outputId": "e3f899b4-2c8a-4f4f-da4e-4368eeb62cd2",
        "colab": {
          "base_uri": "https://localhost:8080/",
          "height": 34
        }
      },
      "cell_type": "code",
      "source": [
        "drug_cols = []\n",
        "for drug in prefixes.keys():\n",
        "  drug_cols += [col for col in data.columns if col.startswith(tuple(prefixes[drug]))]\n",
        "len(drug_cols)"
      ],
      "execution_count": 10,
      "outputs": [
        {
          "output_type": "execute_result",
          "data": {
            "text/plain": [
              "1800"
            ]
          },
          "metadata": {
            "tags": []
          },
          "execution_count": 10
        }
      ]
    },
    {
      "metadata": {
        "id": "ufclcjngDw4O",
        "colab_type": "code",
        "colab": {}
      },
      "cell_type": "code",
      "source": [
        "imputer = SimpleImputer(missing_values = np.nan, strategy = 'most_frequent')\n",
        "data[data.columns] = imputer.fit_transform(data[data.columns])"
      ],
      "execution_count": 0,
      "outputs": []
    },
    {
      "metadata": {
        "id": "o2ChPelvm0-x",
        "colab_type": "code",
        "outputId": "b93db515-e2c2-4e2e-eea9-67457813b8e8",
        "colab": {
          "base_uri": "https://localhost:8080/",
          "height": 34
        }
      },
      "cell_type": "code",
      "source": [
        "data.isnull().values.ravel().sum(), data.shape"
      ],
      "execution_count": 12,
      "outputs": [
        {
          "output_type": "execute_result",
          "data": {
            "text/plain": [
              "(0, (56897, 2222))"
            ]
          },
          "metadata": {
            "tags": []
          },
          "execution_count": 12
        }
      ]
    },
    {
      "metadata": {
        "id": "V3FpATK2E1_K",
        "colab_type": "code",
        "colab": {}
      },
      "cell_type": "code",
      "source": [
        "data.to_csv('mode_imputed.csv')"
      ],
      "execution_count": 0,
      "outputs": []
    },
    {
      "metadata": {
        "id": "43oVBTTrCs4v",
        "colab_type": "text"
      },
      "cell_type": "markdown",
      "source": [
        "#### Dealing with noise"
      ]
    },
    {
      "metadata": {
        "id": "4vQKSYzNDSCO",
        "colab_type": "text"
      },
      "cell_type": "markdown",
      "source": [
        " ## IMPORTANT NOTE:\n",
        " From here on I will preform every step of dataprocessing for one type of drugs (__Marijuana__) with explanations why i choose certain mehod.\n",
        " \n",
        " In this project I need to do it for 13 drug types, to generate datasets for every drug, which will be done in other noebook."
      ]
    },
    {
      "metadata": {
        "id": "34u4Jqu4fqVL",
        "colab_type": "text"
      },
      "cell_type": "markdown",
      "source": [
        "#### Data reduction\n",
        "i used Factor Analysis as it not only reduces dimentions but may also increase accuracy if a proper number of factors will be selected."
      ]
    },
    {
      "metadata": {
        "colab_type": "code",
        "id": "BzH2QpUDkzPy",
        "colab": {}
      },
      "cell_type": "code",
      "source": [
        "train, test = train_test_split(data.drop([col for col in data.columns if col.startswith(prefixes['marijuana'])], axis=1))\n",
        "train_Ys = train[prefixes['targets']]\n",
        "train.drop(prefixes['targets'], axis=1, inplace=True)\n",
        "test_Ys = test[prefixes['targets']]\n",
        "test.drop(prefixes['targets'], axis=1, inplace=True)"
      ],
      "execution_count": 0,
      "outputs": []
    },
    {
      "metadata": {
        "id": "TPqpvHiogE_j",
        "colab_type": "code",
        "colab": {}
      },
      "cell_type": "code",
      "source": [
        "fa = FactorAnalysis(n_components=100)\n",
        "train = fa.fit_transform(train.values)\n",
        "test = fa.transform(test.values)"
      ],
      "execution_count": 0,
      "outputs": []
    },
    {
      "metadata": {
        "id": "nBGL_kk7qx80",
        "colab_type": "code",
        "colab": {
          "base_uri": "https://localhost:8080/",
          "height": 34
        },
        "outputId": "d878bdf2-6f88-4bac-cf54-cde3bbecc9a0"
      },
      "cell_type": "code",
      "source": [
        "clf = LogisticRegression(C=10, solver='lbfgs', max_iter = 1000).fit(train, train_Ys['mj_user'])\n",
        "accuracy = accuracy_score(test_Ys['mj_user'], clf.predict(test))\n",
        "accuracy"
      ],
      "execution_count": 17,
      "outputs": [
        {
          "output_type": "execute_result",
          "data": {
            "text/plain": [
              "0.9979613356766257"
            ]
          },
          "metadata": {
            "tags": []
          },
          "execution_count": 17
        }
      ]
    },
    {
      "metadata": {
        "id": "gwjAgA-eb4Rn",
        "colab_type": "text"
      },
      "cell_type": "markdown",
      "source": [
        "#### Feature selection \n",
        "Since I already decreased dimenionality i can use effective enough and reasonably time consuming feaure selection method - Stepwise Forward Selection."
      ]
    },
    {
      "metadata": {
        "id": "9-mPIVTTgE1n",
        "colab_type": "code",
        "colab": {}
      },
      "cell_type": "code",
      "source": [
        "clf = LogisticRegression(C=10, solver='lbfgs', max_iter = 1000)"
      ],
      "execution_count": 0,
      "outputs": []
    },
    {
      "metadata": {
        "id": "TvyRjZoigEoD",
        "colab_type": "code",
        "colab": {
          "base_uri": "https://localhost:8080/",
          "height": 3770
        },
        "outputId": "48817a10-32cb-44e5-fe60-c7bf61b3f191"
      },
      "cell_type": "code",
      "source": [
        "selector = SFS(clf, forward=True, verbose=2, scoring='accuracy', cv=0, n_jobs=-1, k_features=100).fit(train, train_Ys['mj_user'])"
      ],
      "execution_count": 19,
      "outputs": [
        {
          "output_type": "stream",
          "text": [
            "[Parallel(n_jobs=-1)]: Using backend LokyBackend with 2 concurrent workers.\n",
            "[Parallel(n_jobs=-1)]: Done  37 tasks      | elapsed:    4.4s\n",
            "[Parallel(n_jobs=-1)]: Done 100 out of 100 | elapsed:    8.1s finished\n",
            "\n",
            "[2019-01-10 22:24:07] Features: 1/100 -- score: 0.9305868016497938[Parallel(n_jobs=-1)]: Using backend LokyBackend with 2 concurrent workers.\n",
            "[Parallel(n_jobs=-1)]: Done  37 tasks      | elapsed:    3.1s\n",
            "[Parallel(n_jobs=-1)]: Done  99 out of  99 | elapsed:    8.2s finished\n",
            "\n",
            "[2019-01-10 22:24:16] Features: 2/100 -- score: 0.9595753655793026[Parallel(n_jobs=-1)]: Using backend LokyBackend with 2 concurrent workers.\n",
            "[Parallel(n_jobs=-1)]: Done  70 tasks      | elapsed:    6.6s\n",
            "[Parallel(n_jobs=-1)]: Done  98 out of  98 | elapsed:    9.1s finished\n",
            "\n",
            "[2019-01-10 22:24:25] Features: 3/100 -- score: 0.9693710161229846[Parallel(n_jobs=-1)]: Using backend LokyBackend with 2 concurrent workers.\n",
            "[Parallel(n_jobs=-1)]: Done  70 tasks      | elapsed:    7.1s\n",
            "[Parallel(n_jobs=-1)]: Done  94 out of  97 | elapsed:    9.5s remaining:    0.3s\n",
            "[Parallel(n_jobs=-1)]: Done  97 out of  97 | elapsed:    9.7s finished\n",
            "\n",
            "[2019-01-10 22:24:34] Features: 4/100 -- score: 0.9764013873265842[Parallel(n_jobs=-1)]: Using backend LokyBackend with 2 concurrent workers.\n",
            "[Parallel(n_jobs=-1)]: Done  37 tasks      | elapsed:    4.5s\n",
            "[Parallel(n_jobs=-1)]: Done  96 out of  96 | elapsed:   11.1s finished\n",
            "\n",
            "[2019-01-10 22:24:45] Features: 5/100 -- score: 0.983830146231721[Parallel(n_jobs=-1)]: Using backend LokyBackend with 2 concurrent workers.\n",
            "[Parallel(n_jobs=-1)]: Done  37 tasks      | elapsed:    5.0s\n",
            "[Parallel(n_jobs=-1)]: Done  95 out of  95 | elapsed:   12.6s finished\n",
            "\n",
            "[2019-01-10 22:24:58] Features: 6/100 -- score: 0.9883998875140607[Parallel(n_jobs=-1)]: Using backend LokyBackend with 2 concurrent workers.\n",
            "[Parallel(n_jobs=-1)]: Done  37 tasks      | elapsed:    5.4s\n",
            "[Parallel(n_jobs=-1)]: Done  94 out of  94 | elapsed:   13.2s finished\n",
            "\n",
            "[2019-01-10 22:25:11] Features: 7/100 -- score: 0.9907667791526059[Parallel(n_jobs=-1)]: Using backend LokyBackend with 2 concurrent workers.\n",
            "[Parallel(n_jobs=-1)]: Done  37 tasks      | elapsed:    5.4s\n",
            "[Parallel(n_jobs=-1)]: Done  93 out of  93 | elapsed:   13.2s finished\n",
            "\n",
            "[2019-01-10 22:25:24] Features: 8/100 -- score: 0.9921728533933258[Parallel(n_jobs=-1)]: Using backend LokyBackend with 2 concurrent workers.\n",
            "[Parallel(n_jobs=-1)]: Done  37 tasks      | elapsed:    5.7s\n",
            "[Parallel(n_jobs=-1)]: Done  92 out of  92 | elapsed:   14.2s finished\n",
            "\n",
            "[2019-01-10 22:25:39] Features: 9/100 -- score: 0.9937429696287964[Parallel(n_jobs=-1)]: Using backend LokyBackend with 2 concurrent workers.\n",
            "[Parallel(n_jobs=-1)]: Done  37 tasks      | elapsed:    6.6s\n",
            "[Parallel(n_jobs=-1)]: Done  91 out of  91 | elapsed:   15.0s finished\n",
            "\n",
            "[2019-01-10 22:25:54] Features: 10/100 -- score: 0.994539745031871[Parallel(n_jobs=-1)]: Using backend LokyBackend with 2 concurrent workers.\n",
            "[Parallel(n_jobs=-1)]: Done  37 tasks      | elapsed:    6.5s\n",
            "[Parallel(n_jobs=-1)]: Done  90 out of  90 | elapsed:   14.9s finished\n",
            "\n",
            "[2019-01-10 22:26:09] Features: 11/100 -- score: 0.995031871016123[Parallel(n_jobs=-1)]: Using backend LokyBackend with 2 concurrent workers.\n",
            "[Parallel(n_jobs=-1)]: Done  37 tasks      | elapsed:    7.0s\n",
            "[Parallel(n_jobs=-1)]: Done  89 out of  89 | elapsed:   16.6s finished\n",
            "\n",
            "[2019-01-10 22:26:25] Features: 12/100 -- score: 0.9956880389951256[Parallel(n_jobs=-1)]: Using backend LokyBackend with 2 concurrent workers.\n",
            "[Parallel(n_jobs=-1)]: Done  37 tasks      | elapsed:    7.2s\n",
            "[Parallel(n_jobs=-1)]: Done  88 out of  88 | elapsed:   16.6s finished\n",
            "\n",
            "[2019-01-10 22:26:42] Features: 13/100 -- score: 0.9961332958380202[Parallel(n_jobs=-1)]: Using backend LokyBackend with 2 concurrent workers.\n",
            "[Parallel(n_jobs=-1)]: Done  37 tasks      | elapsed:    7.1s\n",
            "[Parallel(n_jobs=-1)]: Done  87 out of  87 | elapsed:   16.6s finished\n",
            "\n",
            "[2019-01-10 22:26:59] Features: 14/100 -- score: 0.996367641544807[Parallel(n_jobs=-1)]: Using backend LokyBackend with 2 concurrent workers.\n",
            "/usr/local/lib/python3.6/dist-packages/sklearn/externals/joblib/externals/loky/process_executor.py:706: UserWarning: A worker stopped while some jobs were given to the executor. This can be caused by a too short worker timeout or by a memory leak.\n",
            "  \"timeout or by a memory leak.\", UserWarning\n",
            "[Parallel(n_jobs=-1)]: Done  37 tasks      | elapsed:    9.0s\n",
            "[Parallel(n_jobs=-1)]: Done  86 out of  86 | elapsed:   18.4s finished\n",
            "\n",
            "[2019-01-10 22:27:17] Features: 15/100 -- score: 0.9965551181102362[Parallel(n_jobs=-1)]: Using backend LokyBackend with 2 concurrent workers.\n",
            "[Parallel(n_jobs=-1)]: Done  37 tasks      | elapsed:    7.3s\n",
            "[Parallel(n_jobs=-1)]: Done  85 out of  85 | elapsed:   16.4s finished\n",
            "\n",
            "[2019-01-10 22:27:33] Features: 16/100 -- score: 0.9967191601049868[Parallel(n_jobs=-1)]: Using backend LokyBackend with 2 concurrent workers.\n",
            "[Parallel(n_jobs=-1)]: Done  37 tasks      | elapsed:    7.8s\n",
            "[Parallel(n_jobs=-1)]: Done  84 out of  84 | elapsed:   17.2s finished\n",
            "\n",
            "[2019-01-10 22:27:50] Features: 17/100 -- score: 0.9969300712410949[Parallel(n_jobs=-1)]: Using backend LokyBackend with 2 concurrent workers.\n",
            "[Parallel(n_jobs=-1)]: Done  37 tasks      | elapsed:    7.9s\n",
            "[Parallel(n_jobs=-1)]: Done  83 out of  83 | elapsed:   17.4s finished\n",
            "\n",
            "[2019-01-10 22:28:08] Features: 18/100 -- score: 0.9970238095238095[Parallel(n_jobs=-1)]: Using backend LokyBackend with 2 concurrent workers.\n",
            "[Parallel(n_jobs=-1)]: Done  37 tasks      | elapsed:    9.0s\n",
            "[Parallel(n_jobs=-1)]: Done  82 out of  82 | elapsed:   19.2s finished\n",
            "\n",
            "[2019-01-10 22:28:27] Features: 19/100 -- score: 0.9970706786651669[Parallel(n_jobs=-1)]: Using backend LokyBackend with 2 concurrent workers.\n",
            "[Parallel(n_jobs=-1)]: Done  37 tasks      | elapsed:    9.0s\n",
            "[Parallel(n_jobs=-1)]: Done  81 out of  81 | elapsed:   19.1s finished\n",
            "\n",
            "[2019-01-10 22:28:46] Features: 20/100 -- score: 0.9971644169478815[Parallel(n_jobs=-1)]: Using backend LokyBackend with 2 concurrent workers.\n",
            "[Parallel(n_jobs=-1)]: Done  37 tasks      | elapsed:    9.0s\n",
            "[Parallel(n_jobs=-1)]: Done  80 out of  80 | elapsed:   18.8s finished\n",
            "\n",
            "[2019-01-10 22:29:05] Features: 21/100 -- score: 0.9972347206599175[Parallel(n_jobs=-1)]: Using backend LokyBackend with 2 concurrent workers.\n",
            "[Parallel(n_jobs=-1)]: Done  37 tasks      | elapsed:    8.9s\n",
            "[Parallel(n_jobs=-1)]: Done  79 out of  79 | elapsed:   18.7s finished\n",
            "\n",
            "[2019-01-10 22:29:24] Features: 22/100 -- score: 0.9972815898012748[Parallel(n_jobs=-1)]: Using backend LokyBackend with 2 concurrent workers.\n",
            "[Parallel(n_jobs=-1)]: Done  37 tasks      | elapsed:   10.0s\n",
            "[Parallel(n_jobs=-1)]: Done  78 out of  78 | elapsed:   19.2s finished\n",
            "\n",
            "[2019-01-10 22:29:43] Features: 23/100 -- score: 0.9973284589426322[Parallel(n_jobs=-1)]: Using backend LokyBackend with 2 concurrent workers.\n",
            "[Parallel(n_jobs=-1)]: Done  37 tasks      | elapsed:    8.5s\n",
            "[Parallel(n_jobs=-1)]: Done  77 out of  77 | elapsed:   17.3s finished\n",
            "\n",
            "[2019-01-10 22:30:00] Features: 24/100 -- score: 0.9973518935133109[Parallel(n_jobs=-1)]: Using backend LokyBackend with 2 concurrent workers.\n",
            "[Parallel(n_jobs=-1)]: Done  37 tasks      | elapsed:    9.0s\n",
            "[Parallel(n_jobs=-1)]: Done  76 out of  76 | elapsed:   18.3s finished\n",
            "\n",
            "[2019-01-10 22:30:19] Features: 25/100 -- score: 0.9973753280839895[Parallel(n_jobs=-1)]: Using backend LokyBackend with 2 concurrent workers.\n",
            "[Parallel(n_jobs=-1)]: Done  37 tasks      | elapsed:    9.3s\n",
            "[Parallel(n_jobs=-1)]: Done  75 out of  75 | elapsed:   18.8s finished\n",
            "\n",
            "[2019-01-10 22:30:37] Features: 26/100 -- score: 0.9973987626546682[Parallel(n_jobs=-1)]: Using backend LokyBackend with 2 concurrent workers.\n",
            "[Parallel(n_jobs=-1)]: Done  37 tasks      | elapsed:    9.6s\n",
            "[Parallel(n_jobs=-1)]: Done  74 out of  74 | elapsed:   18.9s finished\n",
            "\n",
            "[2019-01-10 22:30:56] Features: 27/100 -- score: 0.9973987626546682[Parallel(n_jobs=-1)]: Using backend LokyBackend with 2 concurrent workers.\n",
            "[Parallel(n_jobs=-1)]: Done  37 tasks      | elapsed:    9.3s\n",
            "[Parallel(n_jobs=-1)]: Done  73 out of  73 | elapsed:   17.9s finished\n",
            "\n",
            "[2019-01-10 22:31:14] Features: 28/100 -- score: 0.9973987626546682[Parallel(n_jobs=-1)]: Using backend LokyBackend with 2 concurrent workers.\n",
            "[Parallel(n_jobs=-1)]: Done  37 tasks      | elapsed:    9.6s\n",
            "[Parallel(n_jobs=-1)]: Done  72 out of  72 | elapsed:   18.2s finished\n",
            "\n",
            "[2019-01-10 22:31:32] Features: 29/100 -- score: 0.9973987626546682[Parallel(n_jobs=-1)]: Using backend LokyBackend with 2 concurrent workers.\n",
            "[Parallel(n_jobs=-1)]: Done  37 tasks      | elapsed:   11.0s\n",
            "[Parallel(n_jobs=-1)]: Done  71 out of  71 | elapsed:   19.5s finished\n",
            "\n",
            "[2019-01-10 22:31:52] Features: 30/100 -- score: 0.9973987626546682[Parallel(n_jobs=-1)]: Using backend LokyBackend with 2 concurrent workers.\n",
            "[Parallel(n_jobs=-1)]: Done  37 tasks      | elapsed:    9.6s\n",
            "[Parallel(n_jobs=-1)]: Done  70 out of  70 | elapsed:   18.2s finished\n",
            "\n",
            "[2019-01-10 22:32:10] Features: 31/100 -- score: 0.9974221972253469[Parallel(n_jobs=-1)]: Using backend LokyBackend with 2 concurrent workers.\n",
            "[Parallel(n_jobs=-1)]: Done  37 tasks      | elapsed:    9.9s\n",
            "[Parallel(n_jobs=-1)]: Done  69 out of  69 | elapsed:   17.7s finished\n",
            "\n",
            "[2019-01-10 22:32:28] Features: 32/100 -- score: 0.9974221972253469[Parallel(n_jobs=-1)]: Using backend LokyBackend with 2 concurrent workers.\n",
            "[Parallel(n_jobs=-1)]: Done  37 tasks      | elapsed:    9.9s\n",
            "[Parallel(n_jobs=-1)]: Done  68 out of  68 | elapsed:   17.7s finished\n",
            "\n",
            "[2019-01-10 22:32:46] Features: 33/100 -- score: 0.9974456317960255[Parallel(n_jobs=-1)]: Using backend LokyBackend with 2 concurrent workers.\n",
            "[Parallel(n_jobs=-1)]: Done  37 tasks      | elapsed:   10.2s\n",
            "[Parallel(n_jobs=-1)]: Done  67 out of  67 | elapsed:   18.0s finished\n",
            "\n",
            "[2019-01-10 22:33:03] Features: 34/100 -- score: 0.9974690663667042[Parallel(n_jobs=-1)]: Using backend LokyBackend with 2 concurrent workers.\n",
            "[Parallel(n_jobs=-1)]: Done  37 tasks      | elapsed:   10.3s\n",
            "[Parallel(n_jobs=-1)]: Done  66 out of  66 | elapsed:   17.9s finished\n",
            "\n",
            "[2019-01-10 22:33:21] Features: 35/100 -- score: 0.9974690663667042[Parallel(n_jobs=-1)]: Using backend LokyBackend with 2 concurrent workers.\n",
            "[Parallel(n_jobs=-1)]: Done  37 tasks      | elapsed:   10.4s\n",
            "[Parallel(n_jobs=-1)]: Done  65 out of  65 | elapsed:   18.1s finished\n",
            "\n",
            "[2019-01-10 22:33:39] Features: 36/100 -- score: 0.9975159355080615[Parallel(n_jobs=-1)]: Using backend LokyBackend with 2 concurrent workers.\n",
            "[Parallel(n_jobs=-1)]: Done  37 tasks      | elapsed:   10.7s\n",
            "[Parallel(n_jobs=-1)]: Done  64 out of  64 | elapsed:   18.0s finished\n",
            "\n",
            "[2019-01-10 22:33:57] Features: 37/100 -- score: 0.9975393700787402[Parallel(n_jobs=-1)]: Using backend LokyBackend with 2 concurrent workers.\n",
            "[Parallel(n_jobs=-1)]: Done  37 tasks      | elapsed:   11.8s\n",
            "[Parallel(n_jobs=-1)]: Done  63 out of  63 | elapsed:   19.5s finished\n",
            "\n",
            "[2019-01-10 22:34:17] Features: 38/100 -- score: 0.9975393700787402[Parallel(n_jobs=-1)]: Using backend LokyBackend with 2 concurrent workers.\n",
            "[Parallel(n_jobs=-1)]: Done  37 tasks      | elapsed:   10.9s\n",
            "[Parallel(n_jobs=-1)]: Done  62 out of  62 | elapsed:   17.8s finished\n",
            "\n",
            "[2019-01-10 22:34:35] Features: 39/100 -- score: 0.9975393700787402[Parallel(n_jobs=-1)]: Using backend LokyBackend with 2 concurrent workers.\n",
            "[Parallel(n_jobs=-1)]: Done  37 tasks      | elapsed:   10.5s\n",
            "[Parallel(n_jobs=-1)]: Done  61 out of  61 | elapsed:   17.2s finished\n",
            "\n",
            "[2019-01-10 22:34:52] Features: 40/100 -- score: 0.9975393700787402[Parallel(n_jobs=-1)]: Using backend LokyBackend with 2 concurrent workers.\n",
            "[Parallel(n_jobs=-1)]: Done  37 tasks      | elapsed:   10.9s\n",
            "[Parallel(n_jobs=-1)]: Done  60 out of  60 | elapsed:   17.3s finished\n",
            "\n",
            "[2019-01-10 22:35:09] Features: 41/100 -- score: 0.9975393700787402[Parallel(n_jobs=-1)]: Using backend LokyBackend with 2 concurrent workers.\n",
            "[Parallel(n_jobs=-1)]: Done  37 tasks      | elapsed:   11.1s\n",
            "[Parallel(n_jobs=-1)]: Done  59 out of  59 | elapsed:   17.6s finished\n",
            "\n",
            "[2019-01-10 22:35:27] Features: 42/100 -- score: 0.9975393700787402[Parallel(n_jobs=-1)]: Using backend LokyBackend with 2 concurrent workers.\n",
            "[Parallel(n_jobs=-1)]: Done  37 tasks      | elapsed:   11.3s\n",
            "[Parallel(n_jobs=-1)]: Done  58 out of  58 | elapsed:   17.2s finished\n",
            "\n",
            "[2019-01-10 22:35:44] Features: 43/100 -- score: 0.9975393700787402[Parallel(n_jobs=-1)]: Using backend LokyBackend with 2 concurrent workers.\n",
            "[Parallel(n_jobs=-1)]: Done  37 tasks      | elapsed:   11.5s\n",
            "[Parallel(n_jobs=-1)]: Done  57 out of  57 | elapsed:   17.4s finished\n",
            "\n",
            "[2019-01-10 22:36:02] Features: 44/100 -- score: 0.9975393700787402[Parallel(n_jobs=-1)]: Using backend LokyBackend with 2 concurrent workers.\n",
            "[Parallel(n_jobs=-1)]: Done  37 tasks      | elapsed:   12.3s\n",
            "[Parallel(n_jobs=-1)]: Done  56 out of  56 | elapsed:   18.2s finished\n",
            "\n",
            "[2019-01-10 22:36:20] Features: 45/100 -- score: 0.9975393700787402[Parallel(n_jobs=-1)]: Using backend LokyBackend with 2 concurrent workers.\n",
            "[Parallel(n_jobs=-1)]: Done  37 tasks      | elapsed:   11.9s\n",
            "[Parallel(n_jobs=-1)]: Done  55 out of  55 | elapsed:   17.3s finished\n",
            "\n",
            "[2019-01-10 22:36:37] Features: 46/100 -- score: 0.9975393700787402[Parallel(n_jobs=-1)]: Using backend LokyBackend with 2 concurrent workers.\n",
            "[Parallel(n_jobs=-1)]: Done  37 tasks      | elapsed:   11.4s\n",
            "[Parallel(n_jobs=-1)]: Done  54 out of  54 | elapsed:   16.3s finished\n",
            "\n",
            "[2019-01-10 22:36:53] Features: 47/100 -- score: 0.9975393700787402[Parallel(n_jobs=-1)]: Using backend LokyBackend with 2 concurrent workers.\n",
            "[Parallel(n_jobs=-1)]: Done  37 tasks      | elapsed:   11.2s\n",
            "[Parallel(n_jobs=-1)]: Done  53 out of  53 | elapsed:   15.7s finished\n",
            "\n",
            "[2019-01-10 22:37:09] Features: 48/100 -- score: 0.9975393700787402[Parallel(n_jobs=-1)]: Using backend LokyBackend with 2 concurrent workers.\n",
            "[Parallel(n_jobs=-1)]: Done  37 tasks      | elapsed:   12.5s\n",
            "[Parallel(n_jobs=-1)]: Done  52 out of  52 | elapsed:   17.3s finished\n",
            "\n",
            "[2019-01-10 22:37:27] Features: 49/100 -- score: 0.9975393700787402[Parallel(n_jobs=-1)]: Using backend LokyBackend with 2 concurrent workers.\n",
            "[Parallel(n_jobs=-1)]: Done  37 tasks      | elapsed:   12.2s\n",
            "[Parallel(n_jobs=-1)]: Done  51 out of  51 | elapsed:   16.4s finished\n",
            "\n",
            "[2019-01-10 22:37:43] Features: 50/100 -- score: 0.9975393700787402[Parallel(n_jobs=-1)]: Using backend LokyBackend with 2 concurrent workers.\n",
            "[Parallel(n_jobs=-1)]: Done  37 tasks      | elapsed:   12.2s\n",
            "[Parallel(n_jobs=-1)]: Done  50 out of  50 | elapsed:   16.1s finished\n",
            "\n",
            "[2019-01-10 22:37:59] Features: 51/100 -- score: 0.9975159355080615[Parallel(n_jobs=-1)]: Using backend LokyBackend with 2 concurrent workers.\n",
            "\n",
            "STOPPING EARLY DUE TO KEYBOARD INTERRUPT..."
          ],
          "name": "stderr"
        }
      ]
    },
    {
      "metadata": {
        "id": "aATOzBtNTFlM",
        "colab_type": "code",
        "colab": {
          "base_uri": "https://localhost:8080/",
          "height": 466
        },
        "outputId": "b536532d-29ae-47dc-ed3c-65a83c413254"
      },
      "cell_type": "code",
      "source": [
        "fig = plot_sequential_feature_selection(selector.get_metric_dict(), kind='std_dev')\n",
        "\n",
        "plt.ylim([0.94, 1])\n",
        "plt.title('Sequential forward Selection')\n",
        "plt.grid()\n",
        "plt.show()"
      ],
      "execution_count": 22,
      "outputs": [
        {
          "output_type": "stream",
          "text": [
            "/usr/local/lib/python3.6/dist-packages/numpy/core/_methods.py:135: RuntimeWarning: Degrees of freedom <= 0 for slice\n",
            "  keepdims=keepdims)\n",
            "/usr/local/lib/python3.6/dist-packages/numpy/core/_methods.py:127: RuntimeWarning: invalid value encountered in double_scalars\n",
            "  ret = ret.dtype.type(ret / rcount)\n"
          ],
          "name": "stderr"
        },
        {
          "output_type": "display_data",
          "data": {
            "image/png": "[encoded data removed]",
            "text/plain": [
              "<matplotlib.figure.Figure at 0x7f2b7f82f7b8>"
            ]
          },
          "metadata": {
            "tags": []
          }
        }
      ]
    },
    {
      "metadata": {
        "id": "Gi1XunC0qbG3",
        "colab_type": "text"
      },
      "cell_type": "markdown",
      "source": [
        "As we can see from both graph and output of training the optimal number of features is 25."
      ]
    },
    {
      "metadata": {
        "id": "kkAwFJea6-XV",
        "colab_type": "code",
        "colab": {
          "base_uri": "https://localhost:8080/",
          "height": 34
        },
        "outputId": "1bc45974-3a6d-4bbd-8f5e-a8489beb91ef"
      },
      "cell_type": "code",
      "source": [
        "test.shape"
      ],
      "execution_count": 25,
      "outputs": [
        {
          "output_type": "execute_result",
          "data": {
            "text/plain": [
              "(14225, 25)"
            ]
          },
          "metadata": {
            "tags": []
          },
          "execution_count": 25
        }
      ]
    },
    {
      "metadata": {
        "id": "_vQAYkxo69_a",
        "colab_type": "code",
        "colab": {}
      },
      "cell_type": "code",
      "source": [
        ""
      ],
      "execution_count": 0,
      "outputs": []
    },
    {
      "metadata": {
        "id": "NkXL5RtQrfr_",
        "colab_type": "code",
        "colab": {}
      },
      "cell_type": "code",
      "source": [
        "needed_features = selector.subsets_[25]['feature_idx']\n",
        "train = train[:, needed_features]\n",
        "test = test[:, needed_features]"
      ],
      "execution_count": 0,
      "outputs": []
    },
    {
      "metadata": {
        "id": "Oj7gB2gTE252",
        "colab_type": "text"
      },
      "cell_type": "markdown",
      "source": [
        "influence of RSK\n",
        "\n",
        "special drugs\n",
        "\n",
        "needle any\n",
        "\n",
        "correlatin in fa to tune num of facs\n",
        "\n",
        "ldocs percent"
      ]
    }
  ]
}