{
  "nbformat": 4,
  "nbformat_minor": 0,
  "metadata": {
    "colab": {
      "name": "data_processing.ipynb",
      "version": "0.3.2",
      "provenance": [],
      "collapsed_sections": [],
      "toc_visible": true,
      "include_colab_link": true
    },
    "kernelspec": {
      "name": "python3",
      "display_name": "Python 3"
    },
    "accelerator": "GPU"
  },
  "cells": [
    {
      "cell_type": "markdown",
      "metadata": {
        "id": "view-in-github",
        "colab_type": "text"
      },
      "source": [
        "<a href=\"https://colab.research.google.com/github/Marytem/NSDUH_exploration/blob/master/data_processing.ipynb\" target=\"_parent\"><img src=\"https://colab.research.google.com/assets/colab-badge.svg\" alt=\"Open In Colab\"/></a>"
      ]
    },
    {
      "metadata": {
        "id": "F6HbHZwgCIvg",
        "colab_type": "text"
      },
      "cell_type": "markdown",
      "source": [
        "## Data processing"
      ]
    },
    {
      "metadata": {
        "id": "JpSBpOfjFokn",
        "colab_type": "code",
        "colab": {}
      },
      "cell_type": "code",
      "source": [
        "import pandas as pd\n",
        "import numpy as np\n",
        "from sklearn.impute import SimpleImputer\n",
        "from sklearn.linear_model import LogisticRegression\n",
        "from sklearn.metrics import accuracy_score\n",
        "from sklearn.model_selection import train_test_split\n",
        "from sklearn.decomposition import FactorAnalysis\n",
        "from mlxtend.plotting import plot_sequential_feature_selection\n",
        "from matplotlib import pyplot as plt\n",
        "from mlxtend.feature_selection import SequentialFeatureSelector as SFS"
      ],
      "execution_count": 0,
      "outputs": []
    },
    {
      "metadata": {
        "id": "hSRFOpe4F0KQ",
        "colab_type": "code",
        "outputId": "4c00462b-5657-4932-d8ac-8d44db12fe18",
        "colab": {
          "base_uri": "https://localhost:8080/",
          "height": 90
        }
      },
      "cell_type": "code",
      "source": [
        "data = pd.read_csv('prepared_data.csv')\n",
        "data.shape"
      ],
      "execution_count": 2,
      "outputs": [
        {
          "output_type": "stream",
          "text": [
            "/usr/local/lib/python3.6/dist-packages/IPython/core/interactiveshell.py:2718: DtypeWarning: Columns (2283) have mixed types. Specify dtype option on import or set low_memory=False.\n",
            "  interactivity=interactivity, compiler=compiler, result=result)\n"
          ],
          "name": "stderr"
        },
        {
          "output_type": "execute_result",
          "data": {
            "text/plain": [
              "(56897, 2432)"
            ]
          },
          "metadata": {
            "tags": []
          },
          "execution_count": 2
        }
      ]
    },
    {
      "metadata": {
        "id": "q3mog4biPvMn",
        "colab_type": "code",
        "outputId": "02e53411-a8e2-4113-bf4f-df8e286f66a1",
        "colab": {
          "base_uri": "https://localhost:8080/",
          "height": 353
        }
      },
      "cell_type": "code",
      "source": [
        "data.describe()"
      ],
      "execution_count": 0,
      "outputs": [
        {
          "output_type": "execute_result",
          "data": {
            "text/html": [
              "<div>\n",
              "<style scoped>\n",
              "    .dataframe tbody tr th:only-of-type {\n",
              "        vertical-align: middle;\n",
              "    }\n",
              "\n",
              "    .dataframe tbody tr th {\n",
              "        vertical-align: top;\n",
              "    }\n",
              "\n",
              "    .dataframe thead th {\n",
              "        text-align: right;\n",
              "    }\n",
              "</style>\n",
              "<table border=\"1\" class=\"dataframe\">\n",
              "  <thead>\n",
              "    <tr style=\"text-align: right;\">\n",
              "      <th></th>\n",
              "      <th>Unnamed: 0</th>\n",
              "      <th>CIGEVER</th>\n",
              "      <th>CIGOFRSM</th>\n",
              "      <th>CIGWILYR</th>\n",
              "      <th>CIGTRY</th>\n",
              "      <th>CIGMFU</th>\n",
              "      <th>CIGREC</th>\n",
              "      <th>CIG30USE</th>\n",
              "      <th>CG30EST</th>\n",
              "      <th>CIG30AV</th>\n",
              "      <th>...</th>\n",
              "      <th>pnr_user</th>\n",
              "      <th>trq_user</th>\n",
              "      <th>stm_user</th>\n",
              "      <th>sed_user</th>\n",
              "      <th>cig_user</th>\n",
              "      <th>alc_user</th>\n",
              "      <th>mj_user</th>\n",
              "      <th>coc_user</th>\n",
              "      <th>crack_user</th>\n",
              "      <th>her_user</th>\n",
              "    </tr>\n",
              "  </thead>\n",
              "  <tbody>\n",
              "    <tr>\n",
              "      <th>count</th>\n",
              "      <td>56897.00000</td>\n",
              "      <td>56897.000000</td>\n",
              "      <td>56886.000000</td>\n",
              "      <td>56885.000000</td>\n",
              "      <td>56531.000000</td>\n",
              "      <td>56341.000000</td>\n",
              "      <td>56897.000000</td>\n",
              "      <td>56790.000000</td>\n",
              "      <td>56861.000000</td>\n",
              "      <td>56850.000000</td>\n",
              "      <td>...</td>\n",
              "      <td>56897.000000</td>\n",
              "      <td>56897.000000</td>\n",
              "      <td>56897.000000</td>\n",
              "      <td>56897.000000</td>\n",
              "      <td>56897.000000</td>\n",
              "      <td>56881.000000</td>\n",
              "      <td>56859.000000</td>\n",
              "      <td>56878.000000</td>\n",
              "      <td>56875.000000</td>\n",
              "      <td>56861.000000</td>\n",
              "    </tr>\n",
              "    <tr>\n",
              "      <th>mean</th>\n",
              "      <td>28448.00000</td>\n",
              "      <td>1.512751</td>\n",
              "      <td>78.090813</td>\n",
              "      <td>78.099077</td>\n",
              "      <td>519.117369</td>\n",
              "      <td>93.008857</td>\n",
              "      <td>47.982512</td>\n",
              "      <td>78.500229</td>\n",
              "      <td>92.979863</td>\n",
              "      <td>75.202375</td>\n",
              "      <td>...</td>\n",
              "      <td>0.049581</td>\n",
              "      <td>0.027734</td>\n",
              "      <td>0.030546</td>\n",
              "      <td>0.005695</td>\n",
              "      <td>0.437492</td>\n",
              "      <td>0.594961</td>\n",
              "      <td>0.179602</td>\n",
              "      <td>0.025247</td>\n",
              "      <td>0.003007</td>\n",
              "      <td>0.004397</td>\n",
              "    </tr>\n",
              "    <tr>\n",
              "      <th>std</th>\n",
              "      <td>16424.89347</td>\n",
              "      <td>0.499842</td>\n",
              "      <td>39.399555</td>\n",
              "      <td>39.385467</td>\n",
              "      <td>487.314111</td>\n",
              "      <td>12.930240</td>\n",
              "      <td>44.156738</td>\n",
              "      <td>28.116961</td>\n",
              "      <td>4.323097</td>\n",
              "      <td>34.456714</td>\n",
              "      <td>...</td>\n",
              "      <td>0.217079</td>\n",
              "      <td>0.164212</td>\n",
              "      <td>0.172087</td>\n",
              "      <td>0.075247</td>\n",
              "      <td>0.496082</td>\n",
              "      <td>0.490904</td>\n",
              "      <td>0.383859</td>\n",
              "      <td>0.238959</td>\n",
              "      <td>0.054750</td>\n",
              "      <td>0.066162</td>\n",
              "    </tr>\n",
              "    <tr>\n",
              "      <th>min</th>\n",
              "      <td>0.00000</td>\n",
              "      <td>1.000000</td>\n",
              "      <td>1.000000</td>\n",
              "      <td>1.000000</td>\n",
              "      <td>1.000000</td>\n",
              "      <td>1.000000</td>\n",
              "      <td>1.000000</td>\n",
              "      <td>1.000000</td>\n",
              "      <td>1.000000</td>\n",
              "      <td>1.000000</td>\n",
              "      <td>...</td>\n",
              "      <td>0.000000</td>\n",
              "      <td>0.000000</td>\n",
              "      <td>0.000000</td>\n",
              "      <td>0.000000</td>\n",
              "      <td>0.000000</td>\n",
              "      <td>0.000000</td>\n",
              "      <td>0.000000</td>\n",
              "      <td>0.000000</td>\n",
              "      <td>0.000000</td>\n",
              "      <td>0.000000</td>\n",
              "    </tr>\n",
              "    <tr>\n",
              "      <th>25%</th>\n",
              "      <td>14224.00000</td>\n",
              "      <td>1.000000</td>\n",
              "      <td>99.000000</td>\n",
              "      <td>99.000000</td>\n",
              "      <td>16.000000</td>\n",
              "      <td>91.000000</td>\n",
              "      <td>3.000000</td>\n",
              "      <td>91.000000</td>\n",
              "      <td>91.000000</td>\n",
              "      <td>91.000000</td>\n",
              "      <td>...</td>\n",
              "      <td>0.000000</td>\n",
              "      <td>0.000000</td>\n",
              "      <td>0.000000</td>\n",
              "      <td>0.000000</td>\n",
              "      <td>0.000000</td>\n",
              "      <td>0.000000</td>\n",
              "      <td>0.000000</td>\n",
              "      <td>0.000000</td>\n",
              "      <td>0.000000</td>\n",
              "      <td>0.000000</td>\n",
              "    </tr>\n",
              "    <tr>\n",
              "      <th>50%</th>\n",
              "      <td>28448.00000</td>\n",
              "      <td>2.000000</td>\n",
              "      <td>99.000000</td>\n",
              "      <td>99.000000</td>\n",
              "      <td>991.000000</td>\n",
              "      <td>91.000000</td>\n",
              "      <td>91.000000</td>\n",
              "      <td>91.000000</td>\n",
              "      <td>91.000000</td>\n",
              "      <td>91.000000</td>\n",
              "      <td>...</td>\n",
              "      <td>0.000000</td>\n",
              "      <td>0.000000</td>\n",
              "      <td>0.000000</td>\n",
              "      <td>0.000000</td>\n",
              "      <td>0.000000</td>\n",
              "      <td>1.000000</td>\n",
              "      <td>0.000000</td>\n",
              "      <td>0.000000</td>\n",
              "      <td>0.000000</td>\n",
              "      <td>0.000000</td>\n",
              "    </tr>\n",
              "    <tr>\n",
              "      <th>75%</th>\n",
              "      <td>42672.00000</td>\n",
              "      <td>2.000000</td>\n",
              "      <td>99.000000</td>\n",
              "      <td>99.000000</td>\n",
              "      <td>991.000000</td>\n",
              "      <td>99.000000</td>\n",
              "      <td>91.000000</td>\n",
              "      <td>93.000000</td>\n",
              "      <td>93.000000</td>\n",
              "      <td>93.000000</td>\n",
              "      <td>...</td>\n",
              "      <td>0.000000</td>\n",
              "      <td>0.000000</td>\n",
              "      <td>0.000000</td>\n",
              "      <td>0.000000</td>\n",
              "      <td>1.000000</td>\n",
              "      <td>1.000000</td>\n",
              "      <td>0.000000</td>\n",
              "      <td>0.000000</td>\n",
              "      <td>0.000000</td>\n",
              "      <td>0.000000</td>\n",
              "    </tr>\n",
              "    <tr>\n",
              "      <th>max</th>\n",
              "      <td>56896.00000</td>\n",
              "      <td>2.000000</td>\n",
              "      <td>99.000000</td>\n",
              "      <td>99.000000</td>\n",
              "      <td>991.000000</td>\n",
              "      <td>99.000000</td>\n",
              "      <td>91.000000</td>\n",
              "      <td>93.000000</td>\n",
              "      <td>99.000000</td>\n",
              "      <td>93.000000</td>\n",
              "      <td>...</td>\n",
              "      <td>1.000000</td>\n",
              "      <td>1.000000</td>\n",
              "      <td>1.000000</td>\n",
              "      <td>1.000000</td>\n",
              "      <td>1.000000</td>\n",
              "      <td>1.000000</td>\n",
              "      <td>1.000000</td>\n",
              "      <td>12.000000</td>\n",
              "      <td>1.000000</td>\n",
              "      <td>1.000000</td>\n",
              "    </tr>\n",
              "  </tbody>\n",
              "</table>\n",
              "<p>8 rows × 2431 columns</p>\n",
              "</div>"
            ],
            "text/plain": [
              "        Unnamed: 0       CIGEVER      CIGOFRSM      CIGWILYR        CIGTRY  \\\n",
              "count  56897.00000  56897.000000  56886.000000  56885.000000  56531.000000   \n",
              "mean   28448.00000      1.512751     78.090813     78.099077    519.117369   \n",
              "std    16424.89347      0.499842     39.399555     39.385467    487.314111   \n",
              "min        0.00000      1.000000      1.000000      1.000000      1.000000   \n",
              "25%    14224.00000      1.000000     99.000000     99.000000     16.000000   \n",
              "50%    28448.00000      2.000000     99.000000     99.000000    991.000000   \n",
              "75%    42672.00000      2.000000     99.000000     99.000000    991.000000   \n",
              "max    56896.00000      2.000000     99.000000     99.000000    991.000000   \n",
              "\n",
              "             CIGMFU        CIGREC      CIG30USE       CG30EST       CIG30AV  \\\n",
              "count  56341.000000  56897.000000  56790.000000  56861.000000  56850.000000   \n",
              "mean      93.008857     47.982512     78.500229     92.979863     75.202375   \n",
              "std       12.930240     44.156738     28.116961      4.323097     34.456714   \n",
              "min        1.000000      1.000000      1.000000      1.000000      1.000000   \n",
              "25%       91.000000      3.000000     91.000000     91.000000     91.000000   \n",
              "50%       91.000000     91.000000     91.000000     91.000000     91.000000   \n",
              "75%       99.000000     91.000000     93.000000     93.000000     93.000000   \n",
              "max       99.000000     91.000000     93.000000     99.000000     93.000000   \n",
              "\n",
              "           ...           pnr_user      trq_user      stm_user      sed_user  \\\n",
              "count      ...       56897.000000  56897.000000  56897.000000  56897.000000   \n",
              "mean       ...           0.049581      0.027734      0.030546      0.005695   \n",
              "std        ...           0.217079      0.164212      0.172087      0.075247   \n",
              "min        ...           0.000000      0.000000      0.000000      0.000000   \n",
              "25%        ...           0.000000      0.000000      0.000000      0.000000   \n",
              "50%        ...           0.000000      0.000000      0.000000      0.000000   \n",
              "75%        ...           0.000000      0.000000      0.000000      0.000000   \n",
              "max        ...           1.000000      1.000000      1.000000      1.000000   \n",
              "\n",
              "           cig_user      alc_user       mj_user      coc_user    crack_user  \\\n",
              "count  56897.000000  56881.000000  56859.000000  56878.000000  56875.000000   \n",
              "mean       0.437492      0.594961      0.179602      0.025247      0.003007   \n",
              "std        0.496082      0.490904      0.383859      0.238959      0.054750   \n",
              "min        0.000000      0.000000      0.000000      0.000000      0.000000   \n",
              "25%        0.000000      0.000000      0.000000      0.000000      0.000000   \n",
              "50%        0.000000      1.000000      0.000000      0.000000      0.000000   \n",
              "75%        1.000000      1.000000      0.000000      0.000000      0.000000   \n",
              "max        1.000000      1.000000      1.000000     12.000000      1.000000   \n",
              "\n",
              "           her_user  \n",
              "count  56861.000000  \n",
              "mean       0.004397  \n",
              "std        0.066162  \n",
              "min        0.000000  \n",
              "25%        0.000000  \n",
              "50%        0.000000  \n",
              "75%        0.000000  \n",
              "max        1.000000  \n",
              "\n",
              "[8 rows x 2431 columns]"
            ]
          },
          "metadata": {
            "tags": []
          },
          "execution_count": 3
        }
      ]
    },
    {
      "metadata": {
        "id": "SHhpfESQFai0",
        "colab_type": "code",
        "outputId": "713d46a6-78b4-45d7-a690-a1cd3b5c4457",
        "colab": {
          "base_uri": "https://localhost:8080/",
          "height": 263
        }
      },
      "cell_type": "code",
      "source": [
        "data.head()"
      ],
      "execution_count": 0,
      "outputs": [
        {
          "output_type": "execute_result",
          "data": {
            "text/html": [
              "<div>\n",
              "<style scoped>\n",
              "    .dataframe tbody tr th:only-of-type {\n",
              "        vertical-align: middle;\n",
              "    }\n",
              "\n",
              "    .dataframe tbody tr th {\n",
              "        vertical-align: top;\n",
              "    }\n",
              "\n",
              "    .dataframe thead th {\n",
              "        text-align: right;\n",
              "    }\n",
              "</style>\n",
              "<table border=\"1\" class=\"dataframe\">\n",
              "  <thead>\n",
              "    <tr style=\"text-align: right;\">\n",
              "      <th></th>\n",
              "      <th>Unnamed: 0</th>\n",
              "      <th>CIGEVER</th>\n",
              "      <th>CIGOFRSM</th>\n",
              "      <th>CIGWILYR</th>\n",
              "      <th>CIGTRY</th>\n",
              "      <th>CIGMFU</th>\n",
              "      <th>CIGREC</th>\n",
              "      <th>CIG30USE</th>\n",
              "      <th>CG30EST</th>\n",
              "      <th>CIG30AV</th>\n",
              "      <th>...</th>\n",
              "      <th>pnr_user</th>\n",
              "      <th>trq_user</th>\n",
              "      <th>stm_user</th>\n",
              "      <th>sed_user</th>\n",
              "      <th>cig_user</th>\n",
              "      <th>alc_user</th>\n",
              "      <th>mj_user</th>\n",
              "      <th>coc_user</th>\n",
              "      <th>crack_user</th>\n",
              "      <th>her_user</th>\n",
              "    </tr>\n",
              "  </thead>\n",
              "  <tbody>\n",
              "    <tr>\n",
              "      <th>0</th>\n",
              "      <td>0</td>\n",
              "      <td>1</td>\n",
              "      <td>99.0</td>\n",
              "      <td>99.0</td>\n",
              "      <td>16.0</td>\n",
              "      <td>99.0</td>\n",
              "      <td>4</td>\n",
              "      <td>93.0</td>\n",
              "      <td>93.0</td>\n",
              "      <td>93.0</td>\n",
              "      <td>...</td>\n",
              "      <td>0</td>\n",
              "      <td>0</td>\n",
              "      <td>0</td>\n",
              "      <td>0</td>\n",
              "      <td>1</td>\n",
              "      <td>1.0</td>\n",
              "      <td>0.0</td>\n",
              "      <td>0.0</td>\n",
              "      <td>0.0</td>\n",
              "      <td>0.0</td>\n",
              "    </tr>\n",
              "    <tr>\n",
              "      <th>1</th>\n",
              "      <td>1</td>\n",
              "      <td>1</td>\n",
              "      <td>99.0</td>\n",
              "      <td>99.0</td>\n",
              "      <td>15.0</td>\n",
              "      <td>99.0</td>\n",
              "      <td>1</td>\n",
              "      <td>7.0</td>\n",
              "      <td>99.0</td>\n",
              "      <td>2.0</td>\n",
              "      <td>...</td>\n",
              "      <td>1</td>\n",
              "      <td>1</td>\n",
              "      <td>1</td>\n",
              "      <td>1</td>\n",
              "      <td>1</td>\n",
              "      <td>1.0</td>\n",
              "      <td>1.0</td>\n",
              "      <td>1.0</td>\n",
              "      <td>1.0</td>\n",
              "      <td>1.0</td>\n",
              "    </tr>\n",
              "    <tr>\n",
              "      <th>2</th>\n",
              "      <td>2</td>\n",
              "      <td>1</td>\n",
              "      <td>99.0</td>\n",
              "      <td>99.0</td>\n",
              "      <td>26.0</td>\n",
              "      <td>99.0</td>\n",
              "      <td>1</td>\n",
              "      <td>7.0</td>\n",
              "      <td>99.0</td>\n",
              "      <td>4.0</td>\n",
              "      <td>...</td>\n",
              "      <td>0</td>\n",
              "      <td>0</td>\n",
              "      <td>0</td>\n",
              "      <td>0</td>\n",
              "      <td>1</td>\n",
              "      <td>0.0</td>\n",
              "      <td>0.0</td>\n",
              "      <td>0.0</td>\n",
              "      <td>0.0</td>\n",
              "      <td>0.0</td>\n",
              "    </tr>\n",
              "    <tr>\n",
              "      <th>3</th>\n",
              "      <td>3</td>\n",
              "      <td>2</td>\n",
              "      <td>4.0</td>\n",
              "      <td>4.0</td>\n",
              "      <td>991.0</td>\n",
              "      <td>91.0</td>\n",
              "      <td>91</td>\n",
              "      <td>91.0</td>\n",
              "      <td>91.0</td>\n",
              "      <td>91.0</td>\n",
              "      <td>...</td>\n",
              "      <td>0</td>\n",
              "      <td>0</td>\n",
              "      <td>0</td>\n",
              "      <td>0</td>\n",
              "      <td>0</td>\n",
              "      <td>0.0</td>\n",
              "      <td>0.0</td>\n",
              "      <td>0.0</td>\n",
              "      <td>0.0</td>\n",
              "      <td>0.0</td>\n",
              "    </tr>\n",
              "    <tr>\n",
              "      <th>4</th>\n",
              "      <td>4</td>\n",
              "      <td>1</td>\n",
              "      <td>99.0</td>\n",
              "      <td>99.0</td>\n",
              "      <td>5.0</td>\n",
              "      <td>99.0</td>\n",
              "      <td>4</td>\n",
              "      <td>93.0</td>\n",
              "      <td>93.0</td>\n",
              "      <td>93.0</td>\n",
              "      <td>...</td>\n",
              "      <td>0</td>\n",
              "      <td>0</td>\n",
              "      <td>0</td>\n",
              "      <td>0</td>\n",
              "      <td>1</td>\n",
              "      <td>1.0</td>\n",
              "      <td>0.0</td>\n",
              "      <td>0.0</td>\n",
              "      <td>0.0</td>\n",
              "      <td>0.0</td>\n",
              "    </tr>\n",
              "  </tbody>\n",
              "</table>\n",
              "<p>5 rows × 2432 columns</p>\n",
              "</div>"
            ],
            "text/plain": [
              "   Unnamed: 0  CIGEVER  CIGOFRSM  CIGWILYR  CIGTRY  CIGMFU  CIGREC  CIG30USE  \\\n",
              "0           0        1      99.0      99.0    16.0    99.0       4      93.0   \n",
              "1           1        1      99.0      99.0    15.0    99.0       1       7.0   \n",
              "2           2        1      99.0      99.0    26.0    99.0       1       7.0   \n",
              "3           3        2       4.0       4.0   991.0    91.0      91      91.0   \n",
              "4           4        1      99.0      99.0     5.0    99.0       4      93.0   \n",
              "\n",
              "   CG30EST  CIG30AV    ...     pnr_user  trq_user  stm_user  sed_user  \\\n",
              "0     93.0     93.0    ...            0         0         0         0   \n",
              "1     99.0      2.0    ...            1         1         1         1   \n",
              "2     99.0      4.0    ...            0         0         0         0   \n",
              "3     91.0     91.0    ...            0         0         0         0   \n",
              "4     93.0     93.0    ...            0         0         0         0   \n",
              "\n",
              "   cig_user  alc_user  mj_user  coc_user  crack_user  her_user  \n",
              "0         1       1.0      0.0       0.0         0.0       0.0  \n",
              "1         1       1.0      1.0       1.0         1.0       1.0  \n",
              "2         1       0.0      0.0       0.0         0.0       0.0  \n",
              "3         0       0.0      0.0       0.0         0.0       0.0  \n",
              "4         1       1.0      0.0       0.0         0.0       0.0  \n",
              "\n",
              "[5 rows x 2432 columns]"
            ]
          },
          "metadata": {
            "tags": []
          },
          "execution_count": 4
        }
      ]
    },
    {
      "metadata": {
        "id": "FnS5vB_XIp0j",
        "colab_type": "text"
      },
      "cell_type": "markdown",
      "source": [
        "#### Dealing with missing values\n",
        "Due to the cpecifics of the survey data I wanted to use 2 types of missing value imputation. For all drug-related columns I used global most common substitution, because thte data is categorical and because most peope do not use drugs. The rest columns with missing values were supposed to be imputed by the KNN model.\n",
        "\n",
        "__BUT__\n",
        "\n",
        "Unfortunately i can not afford to run it on so much data, so I used mode imputation in all dataset.\n",
        "\n",
        "Columns with more than 20% of missing values are droped cince mode MVs imputation would influence data too much, and there are relatively not much of such columns and too much columns in a dataset anyway."
      ]
    },
    {
      "metadata": {
        "id": "YHpMynnhdr3d",
        "colab_type": "code",
        "outputId": "e67d0d1f-b0af-43d7-ce7b-c8335f19d6fa",
        "colab": {
          "base_uri": "https://localhost:8080/",
          "height": 34
        }
      },
      "cell_type": "code",
      "source": [
        "none_percs = data[data.columns[data.isnull().any()]].isnull().mean() * 100\n",
        "nearly_empty_cols = [none_percs[none_percs == perc].index[0] for perc in none_percs if perc>20]\n",
        "len(nearly_empty_cols)"
      ],
      "execution_count": 3,
      "outputs": [
        {
          "output_type": "execute_result",
          "data": {
            "text/plain": [
              "357"
            ]
          },
          "metadata": {
            "tags": []
          },
          "execution_count": 3
        }
      ]
    },
    {
      "metadata": {
        "id": "01XVRuBr6-DJ",
        "colab_type": "code",
        "colab": {}
      },
      "cell_type": "code",
      "source": [
        "data.drop(nearly_empty_cols, axis=1, inplace=True)"
      ],
      "execution_count": 0,
      "outputs": []
    },
    {
      "metadata": {
        "id": "K_pFxmQrdGc8",
        "colab_type": "code",
        "outputId": "da2c763c-f928-4b4d-918c-677dabc96636",
        "colab": {
          "base_uri": "https://localhost:8080/",
          "height": 34
        }
      },
      "cell_type": "code",
      "source": [
        "# number of cols with MVs, total part of MVs\n",
        "len(data.columns[data.isnull().any()]),  data.isnull().values.ravel().sum()/(data.shape[0]*data.shape[1])"
      ],
      "execution_count": 5,
      "outputs": [
        {
          "output_type": "execute_result",
          "data": {
            "text/plain": [
              "(1638, 0.059268863420781505)"
            ]
          },
          "metadata": {
            "tags": []
          },
          "execution_count": 5
        }
      ]
    },
    {
      "metadata": {
        "id": "TZ3SMeADDkJa",
        "colab_type": "text"
      },
      "cell_type": "markdown",
      "source": [
        "##### Data Separation\n",
        "I want to predict if a person uses particular drug using answers to the specific-drug-unrelated questions in the survey and then using questions not connected to any drug usage. For that I need to separate all drug related variables from general data.\n",
        "\n",
        "##### Prefixes in variables-questions used for every type of drug:"
      ]
    },
    {
      "metadata": {
        "id": "eGFRjSer9in0",
        "colab_type": "code",
        "colab": {}
      },
      "cell_type": "code",
      "source": [
        "halucinogens = ['LSD', 'PCP','PEYOTE','MESC','PSILCY','ECST','KET','DMTAMTFXY','SALVIADIV']\n",
        "inhalants = ['AMYLNIT', 'CLEFLU', 'GAS', 'GLUE', 'ETHER', 'SOLVENT', 'LGAS', 'NITOXID',\n",
        "             'FELTMARKR', 'SPPAINT', 'AIRDUSTER', 'OTHAEROS']"
      ],
      "execution_count": 0,
      "outputs": []
    },
    {
      "metadata": {
        "id": "HX7QdsqqDw_n",
        "colab_type": "code",
        "colab": {}
      },
      "cell_type": "code",
      "source": [
        "prefixes = {}\n",
        "prefixes['tobacco'] = 'CIG', 'CGR', 'CI3', 'PIP', 'SMK', 'TOB', 'CD'\n",
        "prefixes['alcohol'] = ('AL')\n",
        "prefixes['marijuana'] = 'MJ', 'MR'\n",
        "prefixes['cocaine'] = 'COC', 'CC', 'CON'\n",
        "prefixes['crack'] = 'CRK', 'CR' \n",
        "prefixes['heroin'] = 'HER', 'HR', 'HEO'\n",
        "prefixes['hallucinogens'] = ['HAL']+halucinogens\n",
        "prefixes['inhalants'] = ['INH']+inhalants\n",
        "prefixes['methamphetamine'] = 'MET', 'ME'\n",
        "prefixes['pain relievers'] = 'PNR', 'OXC'\n",
        "prefixes['tranqualizers'] = ('TRQ')\n",
        "prefixes['stimulants'] = 'SED', 'PSY'\n",
        "prefixes['sedatives'] = ('STM')\n",
        "prefixes['special drugs'] = 'COLD', 'GH', 'OT'\n",
        "prefixes['general about drugs'] = ('GNN')\n",
        "prefixes['targets'] = ['hal_user', 'inh_user', 'meth_user', 'pnr_user', \n",
        "                       'trq_user', 'stm_user', 'sed_user', 'cig_user',\n",
        "                       'alc_user', 'mj_user', 'coc_user', 'crack_user', 'her_user']"
      ],
      "execution_count": 0,
      "outputs": []
    },
    {
      "metadata": {
        "id": "mc5bYfHfDw7O",
        "colab_type": "code",
        "outputId": "cb401d2d-dffc-4fd3-b898-e0ce9c06c1aa",
        "colab": {
          "base_uri": "https://localhost:8080/",
          "height": 34
        }
      },
      "cell_type": "code",
      "source": [
        "drug_cols = []\n",
        "for drug in prefixes.keys():\n",
        "  drug_cols += [col for col in data.columns if col.startswith(tuple(prefixes[drug]))]\n",
        "len(drug_cols)"
      ],
      "execution_count": 8,
      "outputs": [
        {
          "output_type": "execute_result",
          "data": {
            "text/plain": [
              "1800"
            ]
          },
          "metadata": {
            "tags": []
          },
          "execution_count": 8
        }
      ]
    },
    {
      "metadata": {
        "id": "ufclcjngDw4O",
        "colab_type": "code",
        "colab": {}
      },
      "cell_type": "code",
      "source": [
        "imputer = SimpleImputer(missing_values = np.nan, strategy = 'most_frequent')\n",
        "data[data.columns] = imputer.fit_transform(data[data.columns])"
      ],
      "execution_count": 0,
      "outputs": []
    },
    {
      "metadata": {
        "id": "o2ChPelvm0-x",
        "colab_type": "code",
        "colab": {
          "base_uri": "https://localhost:8080/",
          "height": 34
        },
        "outputId": "abf12a4d-a15b-439e-fdfe-cd3f4bcb0fde"
      },
      "cell_type": "code",
      "source": [
        "data.isnull().values.ravel().sum(), data.shape"
      ],
      "execution_count": 10,
      "outputs": [
        {
          "output_type": "execute_result",
          "data": {
            "text/plain": [
              "(0, (56897, 2222))"
            ]
          },
          "metadata": {
            "tags": []
          },
          "execution_count": 10
        }
      ]
    },
    {
      "metadata": {
        "id": "V3FpATK2E1_K",
        "colab_type": "code",
        "colab": {}
      },
      "cell_type": "code",
      "source": [
        "data.to_csv('mode_imputed.csv')"
      ],
      "execution_count": 0,
      "outputs": []
    },
    {
      "metadata": {
        "id": "4vQKSYzNDSCO",
        "colab_type": "text"
      },
      "cell_type": "markdown",
      "source": [
        " ## IMPORTANT NOTE:\n",
        " From here on I will preform every step of dataprocessing for one type of drugs (__Marijuana__) with explanations why i choose certain mehod.\n",
        " \n",
        " In this project I need to do it for 13 drug types, to generate datasets for every drug, which will be done in other noebook."
      ]
    },
    {
      "metadata": {
        "id": "34u4Jqu4fqVL",
        "colab_type": "text"
      },
      "cell_type": "markdown",
      "source": [
        "#### Data reduction\n",
        "i used Factor Analysis as it not only reduces dimentions but may also increase accuracy if a proper number of factors will be selected."
      ]
    },
    {
      "metadata": {
        "id": "7TIYSGNE2aOn",
        "colab_type": "code",
        "outputId": "179779d7-5fba-4b4d-9d2d-9e19e3bd907a",
        "colab": {
          "base_uri": "https://localhost:8080/",
          "height": 34
        }
      },
      "cell_type": "code",
      "source": [
        "data = pd.read_csv('mode_imputed.csv')\n",
        "# data.shape\n",
        "data.inh_user.unique()"
      ],
      "execution_count": 20,
      "outputs": [
        {
          "output_type": "execute_result",
          "data": {
            "text/plain": [
              "array([0., 1.])"
            ]
          },
          "metadata": {
            "tags": []
          },
          "execution_count": 20
        }
      ]
    },
    {
      "metadata": {
        "colab_type": "code",
        "id": "BzH2QpUDkzPy",
        "colab": {}
      },
      "cell_type": "code",
      "source": [
        "train, test = train_test_split(data.drop([col for col in data.columns if col.startswith(tuple(prefixes['marijuana']))], axis=1))\n",
        "train_Ys = train[prefixes['targets']]\n",
        "train.drop(prefixes['targets'], axis=1, inplace=True)\n",
        "test_Ys = test[prefixes['targets']]\n",
        "test.drop(prefixes['targets'], axis=1, inplace=True)"
      ],
      "execution_count": 0,
      "outputs": []
    },
    {
      "metadata": {
        "id": "TPqpvHiogE_j",
        "colab_type": "code",
        "colab": {}
      },
      "cell_type": "code",
      "source": [
        "fa = FactorAnalysis(n_components=100)\n",
        "train = fa.fit_transform(train.values)\n",
        "test = fa.transform(test.values)"
      ],
      "execution_count": 0,
      "outputs": []
    },
    {
      "metadata": {
        "id": "nBGL_kk7qx80",
        "colab_type": "code",
        "outputId": "ab8d0d9a-d105-4a9d-d953-6f6c43023776",
        "colab": {
          "base_uri": "https://localhost:8080/",
          "height": 34
        }
      },
      "cell_type": "code",
      "source": [
        "clf = LogisticRegression(C=10, solver='lbfgs', max_iter = 1000).fit(train, train_Ys['mj_user'])\n",
        "accuracy = accuracy_score(test_Ys['mj_user'], clf.predict(test))\n",
        "accuracy"
      ],
      "execution_count": 23,
      "outputs": [
        {
          "output_type": "execute_result",
          "data": {
            "text/plain": [
              "0.997609841827768"
            ]
          },
          "metadata": {
            "tags": []
          },
          "execution_count": 23
        }
      ]
    },
    {
      "metadata": {
        "id": "gwjAgA-eb4Rn",
        "colab_type": "text"
      },
      "cell_type": "markdown",
      "source": [
        "#### Feature selection \n",
        "Since I already decreased dimenionality i can use effective enough and reasonably time consuming feaure selection method - Stepwise Forward Selection."
      ]
    },
    {
      "metadata": {
        "id": "9-mPIVTTgE1n",
        "colab_type": "code",
        "colab": {}
      },
      "cell_type": "code",
      "source": [
        "clf = LogisticRegression(C=10, solver='lbfgs', max_iter = 1000)"
      ],
      "execution_count": 0,
      "outputs": []
    },
    {
      "metadata": {
        "id": "TvyRjZoigEoD",
        "colab_type": "code",
        "outputId": "c63dee86-60eb-4f84-c259-e93b53015076",
        "colab": {
          "base_uri": "https://localhost:8080/",
          "height": 5316
        }
      },
      "cell_type": "code",
      "source": [
        "selector = SFS(clf, forward=True, verbose=2, scoring='accuracy', cv=0, n_jobs=-1, k_features=100).fit(train, train_Ys['mj_user'])"
      ],
      "execution_count": 25,
      "outputs": [
        {
          "output_type": "stream",
          "text": [
            "[Parallel(n_jobs=-1)]: Using backend LokyBackend with 2 concurrent workers.\n",
            "[Parallel(n_jobs=-1)]: Done  37 tasks      | elapsed:    3.7s\n",
            "[Parallel(n_jobs=-1)]: Done 100 out of 100 | elapsed:    8.0s finished\n",
            "\n",
            "[2019-01-11 09:53:30] Features: 1/100 -- score: 0.905933633295838[Parallel(n_jobs=-1)]: Using backend LokyBackend with 2 concurrent workers.\n",
            "[Parallel(n_jobs=-1)]: Done  37 tasks      | elapsed:    3.5s\n",
            "[Parallel(n_jobs=-1)]: Done  99 out of  99 | elapsed:    9.0s finished\n",
            "\n",
            "[2019-01-11 09:53:40] Features: 2/100 -- score: 0.9355080614923135[Parallel(n_jobs=-1)]: Using backend LokyBackend with 2 concurrent workers.\n",
            "[Parallel(n_jobs=-1)]: Done  37 tasks      | elapsed:    3.8s\n",
            "[Parallel(n_jobs=-1)]: Done  98 out of  98 | elapsed:   10.1s finished\n",
            "\n",
            "[2019-01-11 09:53:50] Features: 3/100 -- score: 0.9489360704911886[Parallel(n_jobs=-1)]: Using backend LokyBackend with 2 concurrent workers.\n",
            "[Parallel(n_jobs=-1)]: Done  37 tasks      | elapsed:    4.4s\n",
            "[Parallel(n_jobs=-1)]: Done  97 out of  97 | elapsed:   11.4s finished\n",
            "\n",
            "[2019-01-11 09:54:01] Features: 4/100 -- score: 0.968644544431946[Parallel(n_jobs=-1)]: Using backend LokyBackend with 2 concurrent workers.\n",
            "[Parallel(n_jobs=-1)]: Done  37 tasks      | elapsed:    4.9s\n",
            "[Parallel(n_jobs=-1)]: Done  96 out of  96 | elapsed:   12.4s finished\n",
            "\n",
            "[2019-01-11 09:54:13] Features: 5/100 -- score: 0.9758623922009749[Parallel(n_jobs=-1)]: Using backend LokyBackend with 2 concurrent workers.\n",
            "[Parallel(n_jobs=-1)]: Done  37 tasks      | elapsed:    5.6s\n",
            "[Parallel(n_jobs=-1)]: Done  95 out of  95 | elapsed:   13.7s finished\n",
            "\n",
            "[2019-01-11 09:54:27] Features: 6/100 -- score: 0.9857283464566929[Parallel(n_jobs=-1)]: Using backend LokyBackend with 2 concurrent workers.\n",
            "[Parallel(n_jobs=-1)]: Done  37 tasks      | elapsed:    6.0s\n",
            "[Parallel(n_jobs=-1)]: Done  94 out of  94 | elapsed:   14.5s finished\n",
            "\n",
            "[2019-01-11 09:54:42] Features: 7/100 -- score: 0.9917979002624672[Parallel(n_jobs=-1)]: Using backend LokyBackend with 2 concurrent workers.\n",
            "[Parallel(n_jobs=-1)]: Done  37 tasks      | elapsed:    6.1s\n",
            "[Parallel(n_jobs=-1)]: Done  93 out of  93 | elapsed:   14.9s finished\n",
            "\n",
            "[2019-01-11 09:54:57] Features: 8/100 -- score: 0.9942350956130483[Parallel(n_jobs=-1)]: Using backend LokyBackend with 2 concurrent workers.\n",
            "[Parallel(n_jobs=-1)]: Done  37 tasks      | elapsed:    6.3s\n",
            "[Parallel(n_jobs=-1)]: Done  92 out of  92 | elapsed:   15.3s finished\n",
            "\n",
            "[2019-01-11 09:55:12] Features: 9/100 -- score: 0.995172478440195[Parallel(n_jobs=-1)]: Using backend LokyBackend with 2 concurrent workers.\n",
            "[Parallel(n_jobs=-1)]: Done  37 tasks      | elapsed:    6.9s\n",
            "[Parallel(n_jobs=-1)]: Done  91 out of  91 | elapsed:   16.9s finished\n",
            "\n",
            "[2019-01-11 09:55:29] Features: 10/100 -- score: 0.9957114735658043[Parallel(n_jobs=-1)]: Using backend LokyBackend with 2 concurrent workers.\n",
            "[Parallel(n_jobs=-1)]: Done  37 tasks      | elapsed:    6.8s\n",
            "[Parallel(n_jobs=-1)]: Done  90 out of  90 | elapsed:   16.3s finished\n",
            "\n",
            "[2019-01-11 09:55:45] Features: 11/100 -- score: 0.9962270341207349[Parallel(n_jobs=-1)]: Using backend LokyBackend with 2 concurrent workers.\n",
            "[Parallel(n_jobs=-1)]: Done  37 tasks      | elapsed:    6.8s\n",
            "[Parallel(n_jobs=-1)]: Done  89 out of  89 | elapsed:   16.2s finished\n",
            "\n",
            "[2019-01-11 09:56:01] Features: 12/100 -- score: 0.9966488563929509[Parallel(n_jobs=-1)]: Using backend LokyBackend with 2 concurrent workers.\n",
            "[Parallel(n_jobs=-1)]: Done  37 tasks      | elapsed:    7.6s\n",
            "[Parallel(n_jobs=-1)]: Done  88 out of  88 | elapsed:   17.5s finished\n",
            "\n",
            "[2019-01-11 09:56:19] Features: 13/100 -- score: 0.9968832020997376[Parallel(n_jobs=-1)]: Using backend LokyBackend with 2 concurrent workers.\n",
            "[Parallel(n_jobs=-1)]: Done  37 tasks      | elapsed:    8.1s\n",
            "[Parallel(n_jobs=-1)]: Done  87 out of  87 | elapsed:   18.7s finished\n",
            "\n",
            "[2019-01-11 09:56:38] Features: 14/100 -- score: 0.9970941132358455[Parallel(n_jobs=-1)]: Using backend LokyBackend with 2 concurrent workers.\n",
            "[Parallel(n_jobs=-1)]: Done  37 tasks      | elapsed:    8.7s\n",
            "[Parallel(n_jobs=-1)]: Done  86 out of  86 | elapsed:   19.2s finished\n",
            "\n",
            "[2019-01-11 09:56:57] Features: 15/100 -- score: 0.9973753280839895[Parallel(n_jobs=-1)]: Using backend LokyBackend with 2 concurrent workers.\n",
            "[Parallel(n_jobs=-1)]: Done  37 tasks      | elapsed:    8.6s\n",
            "[Parallel(n_jobs=-1)]: Done  85 out of  85 | elapsed:   19.4s finished\n",
            "\n",
            "[2019-01-11 09:57:16] Features: 16/100 -- score: 0.9974221972253469[Parallel(n_jobs=-1)]: Using backend LokyBackend with 2 concurrent workers.\n",
            "[Parallel(n_jobs=-1)]: Done  37 tasks      | elapsed:    9.3s\n",
            "[Parallel(n_jobs=-1)]: Done  84 out of  84 | elapsed:   20.4s finished\n",
            "\n",
            "[2019-01-11 09:57:37] Features: 17/100 -- score: 0.9974925009373828[Parallel(n_jobs=-1)]: Using backend LokyBackend with 2 concurrent workers.\n",
            "[Parallel(n_jobs=-1)]: Done  37 tasks      | elapsed:    9.4s\n",
            "[Parallel(n_jobs=-1)]: Done  83 out of  83 | elapsed:   20.9s finished\n",
            "\n",
            "[2019-01-11 09:57:58] Features: 18/100 -- score: 0.9975393700787402[Parallel(n_jobs=-1)]: Using backend LokyBackend with 2 concurrent workers.\n",
            "[Parallel(n_jobs=-1)]: Done  37 tasks      | elapsed:    9.8s\n",
            "[Parallel(n_jobs=-1)]: Done  82 out of  82 | elapsed:   20.8s finished\n",
            "\n",
            "[2019-01-11 09:58:18] Features: 19/100 -- score: 0.9976565429321335[Parallel(n_jobs=-1)]: Using backend LokyBackend with 2 concurrent workers.\n",
            "[Parallel(n_jobs=-1)]: Done  37 tasks      | elapsed:   10.0s\n",
            "[Parallel(n_jobs=-1)]: Done  81 out of  81 | elapsed:   21.1s finished\n",
            "\n",
            "[2019-01-11 09:58:40] Features: 20/100 -- score: 0.9977034120734908[Parallel(n_jobs=-1)]: Using backend LokyBackend with 2 concurrent workers.\n",
            "[Parallel(n_jobs=-1)]: Done  37 tasks      | elapsed:   10.9s\n",
            "[Parallel(n_jobs=-1)]: Done  80 out of  80 | elapsed:   22.7s finished\n",
            "\n",
            "[2019-01-11 09:59:02] Features: 21/100 -- score: 0.9977034120734908[Parallel(n_jobs=-1)]: Using backend LokyBackend with 2 concurrent workers.\n",
            "[Parallel(n_jobs=-1)]: Done  37 tasks      | elapsed:   10.4s\n",
            "/usr/local/lib/python3.6/dist-packages/sklearn/externals/joblib/externals/loky/process_executor.py:706: UserWarning: A worker stopped while some jobs were given to the executor. This can be caused by a too short worker timeout or by a memory leak.\n",
            "  \"timeout or by a memory leak.\", UserWarning\n",
            "[Parallel(n_jobs=-1)]: Done  79 out of  79 | elapsed:   24.4s finished\n",
            "\n",
            "[2019-01-11 09:59:27] Features: 22/100 -- score: 0.9977268466441694[Parallel(n_jobs=-1)]: Using backend LokyBackend with 2 concurrent workers.\n",
            "[Parallel(n_jobs=-1)]: Done  37 tasks      | elapsed:   10.7s\n",
            "[Parallel(n_jobs=-1)]: Done  78 out of  78 | elapsed:   22.2s finished\n",
            "\n",
            "[2019-01-11 09:59:49] Features: 23/100 -- score: 0.9977502812148481[Parallel(n_jobs=-1)]: Using backend LokyBackend with 2 concurrent workers.\n",
            "[Parallel(n_jobs=-1)]: Done  37 tasks      | elapsed:   10.5s\n",
            "[Parallel(n_jobs=-1)]: Done  77 out of  77 | elapsed:   21.5s finished\n",
            "\n",
            "[2019-01-11 10:00:10] Features: 24/100 -- score: 0.9977971503562054[Parallel(n_jobs=-1)]: Using backend LokyBackend with 2 concurrent workers.\n",
            "[Parallel(n_jobs=-1)]: Done  37 tasks      | elapsed:   11.5s\n",
            "[Parallel(n_jobs=-1)]: Done  76 out of  76 | elapsed:   23.5s finished\n",
            "\n",
            "[2019-01-11 10:00:34] Features: 25/100 -- score: 0.9978440194975629[Parallel(n_jobs=-1)]: Using backend LokyBackend with 2 concurrent workers.\n",
            "[Parallel(n_jobs=-1)]: Done  37 tasks      | elapsed:   11.5s\n",
            "[Parallel(n_jobs=-1)]: Done  75 out of  75 | elapsed:   22.8s finished\n",
            "\n",
            "[2019-01-11 10:00:57] Features: 26/100 -- score: 0.9978674540682415[Parallel(n_jobs=-1)]: Using backend LokyBackend with 2 concurrent workers.\n",
            "[Parallel(n_jobs=-1)]: Done  37 tasks      | elapsed:   12.1s\n",
            "[Parallel(n_jobs=-1)]: Done  74 out of  74 | elapsed:   23.9s finished\n",
            "\n",
            "[2019-01-11 10:01:21] Features: 27/100 -- score: 0.9978908886389202[Parallel(n_jobs=-1)]: Using backend LokyBackend with 2 concurrent workers.\n",
            "[Parallel(n_jobs=-1)]: Done  37 tasks      | elapsed:   11.9s\n",
            "[Parallel(n_jobs=-1)]: Done  73 out of  73 | elapsed:   23.1s finished\n",
            "\n",
            "[2019-01-11 10:01:44] Features: 28/100 -- score: 0.9978908886389202[Parallel(n_jobs=-1)]: Using backend LokyBackend with 2 concurrent workers.\n",
            "[Parallel(n_jobs=-1)]: Done  37 tasks      | elapsed:   12.1s\n",
            "[Parallel(n_jobs=-1)]: Done  72 out of  72 | elapsed:   23.1s finished\n",
            "\n",
            "[2019-01-11 10:02:07] Features: 29/100 -- score: 0.9978908886389202[Parallel(n_jobs=-1)]: Using backend LokyBackend with 2 concurrent workers.\n",
            "[Parallel(n_jobs=-1)]: Done  37 tasks      | elapsed:   12.2s\n",
            "[Parallel(n_jobs=-1)]: Done  71 out of  71 | elapsed:   23.0s finished\n",
            "\n",
            "[2019-01-11 10:02:30] Features: 30/100 -- score: 0.9978908886389202[Parallel(n_jobs=-1)]: Using backend LokyBackend with 2 concurrent workers.\n",
            "[Parallel(n_jobs=-1)]: Done  37 tasks      | elapsed:   12.2s\n",
            "[Parallel(n_jobs=-1)]: Done  70 out of  70 | elapsed:   22.6s finished\n",
            "\n",
            "[2019-01-11 10:02:52] Features: 31/100 -- score: 0.9978908886389202[Parallel(n_jobs=-1)]: Using backend LokyBackend with 2 concurrent workers.\n",
            "[Parallel(n_jobs=-1)]: Done  37 tasks      | elapsed:   11.9s\n",
            "[Parallel(n_jobs=-1)]: Done  69 out of  69 | elapsed:   21.6s finished\n",
            "\n",
            "[2019-01-11 10:03:14] Features: 32/100 -- score: 0.9978908886389202[Parallel(n_jobs=-1)]: Using backend LokyBackend with 2 concurrent workers.\n",
            "[Parallel(n_jobs=-1)]: Done  37 tasks      | elapsed:   13.6s\n",
            "[Parallel(n_jobs=-1)]: Done  68 out of  68 | elapsed:   23.3s finished\n",
            "\n",
            "[2019-01-11 10:03:37] Features: 33/100 -- score: 0.9978908886389202[Parallel(n_jobs=-1)]: Using backend LokyBackend with 2 concurrent workers.\n",
            "[Parallel(n_jobs=-1)]: Done  37 tasks      | elapsed:   13.6s\n",
            "[Parallel(n_jobs=-1)]: Done  67 out of  67 | elapsed:   23.6s finished\n",
            "\n",
            "[2019-01-11 10:04:01] Features: 34/100 -- score: 0.9978908886389202[Parallel(n_jobs=-1)]: Using backend LokyBackend with 2 concurrent workers.\n",
            "[Parallel(n_jobs=-1)]: Done  37 tasks      | elapsed:   13.0s\n",
            "[Parallel(n_jobs=-1)]: Done  66 out of  66 | elapsed:   22.5s finished\n",
            "\n",
            "[2019-01-11 10:04:23] Features: 35/100 -- score: 0.9978908886389202[Parallel(n_jobs=-1)]: Using backend LokyBackend with 2 concurrent workers.\n",
            "[Parallel(n_jobs=-1)]: Done  37 tasks      | elapsed:   12.7s\n",
            "[Parallel(n_jobs=-1)]: Done  65 out of  65 | elapsed:   22.0s finished\n",
            "\n",
            "[2019-01-11 10:04:45] Features: 36/100 -- score: 0.9978908886389202[Parallel(n_jobs=-1)]: Using backend LokyBackend with 2 concurrent workers.\n",
            "[Parallel(n_jobs=-1)]: Done  37 tasks      | elapsed:   13.1s\n",
            "[Parallel(n_jobs=-1)]: Done  64 out of  64 | elapsed:   22.4s finished\n",
            "\n",
            "[2019-01-11 10:05:08] Features: 37/100 -- score: 0.9979143232095988[Parallel(n_jobs=-1)]: Using backend LokyBackend with 2 concurrent workers.\n",
            "[Parallel(n_jobs=-1)]: Done  37 tasks      | elapsed:   13.4s\n",
            "[Parallel(n_jobs=-1)]: Done  63 out of  63 | elapsed:   22.1s finished\n",
            "\n",
            "[2019-01-11 10:05:30] Features: 38/100 -- score: 0.9979143232095988[Parallel(n_jobs=-1)]: Using backend LokyBackend with 2 concurrent workers.\n",
            "[Parallel(n_jobs=-1)]: Done  37 tasks      | elapsed:   12.9s\n",
            "[Parallel(n_jobs=-1)]: Done  62 out of  62 | elapsed:   21.3s finished\n",
            "\n",
            "[2019-01-11 10:05:51] Features: 39/100 -- score: 0.9979143232095988[Parallel(n_jobs=-1)]: Using backend LokyBackend with 2 concurrent workers.\n",
            "[Parallel(n_jobs=-1)]: Done  37 tasks      | elapsed:   14.2s\n",
            "[Parallel(n_jobs=-1)]: Done  61 out of  61 | elapsed:   22.5s finished\n",
            "\n",
            "[2019-01-11 10:06:14] Features: 40/100 -- score: 0.9979611923509561[Parallel(n_jobs=-1)]: Using backend LokyBackend with 2 concurrent workers.\n",
            "[Parallel(n_jobs=-1)]: Done  37 tasks      | elapsed:   13.3s\n",
            "[Parallel(n_jobs=-1)]: Done  60 out of  60 | elapsed:   21.3s finished\n",
            "\n",
            "[2019-01-11 10:06:35] Features: 41/100 -- score: 0.9979611923509561[Parallel(n_jobs=-1)]: Using backend LokyBackend with 2 concurrent workers.\n",
            "[Parallel(n_jobs=-1)]: Done  37 tasks      | elapsed:   14.1s\n",
            "[Parallel(n_jobs=-1)]: Done  59 out of  59 | elapsed:   21.9s finished\n",
            "\n",
            "[2019-01-11 10:06:57] Features: 42/100 -- score: 0.9979611923509561[Parallel(n_jobs=-1)]: Using backend LokyBackend with 2 concurrent workers.\n",
            "[Parallel(n_jobs=-1)]: Done  37 tasks      | elapsed:   13.9s\n",
            "[Parallel(n_jobs=-1)]: Done  58 out of  58 | elapsed:   21.8s finished\n",
            "\n",
            "[2019-01-11 10:07:19] Features: 43/100 -- score: 0.9979611923509561[Parallel(n_jobs=-1)]: Using backend LokyBackend with 2 concurrent workers.\n",
            "[Parallel(n_jobs=-1)]: Done  37 tasks      | elapsed:   14.3s\n",
            "[Parallel(n_jobs=-1)]: Done  57 out of  57 | elapsed:   21.6s finished\n",
            "\n",
            "[2019-01-11 10:07:40] Features: 44/100 -- score: 0.9979846269216348[Parallel(n_jobs=-1)]: Using backend LokyBackend with 2 concurrent workers.\n",
            "[Parallel(n_jobs=-1)]: Done  37 tasks      | elapsed:   14.8s\n",
            "[Parallel(n_jobs=-1)]: Done  56 out of  56 | elapsed:   22.2s finished\n",
            "\n",
            "[2019-01-11 10:08:02] Features: 45/100 -- score: 0.9979846269216348[Parallel(n_jobs=-1)]: Using backend LokyBackend with 2 concurrent workers.\n",
            "[Parallel(n_jobs=-1)]: Done  37 tasks      | elapsed:   14.6s\n",
            "[Parallel(n_jobs=-1)]: Done  55 out of  55 | elapsed:   21.4s finished\n",
            "\n",
            "[2019-01-11 10:08:24] Features: 46/100 -- score: 0.9979846269216348[Parallel(n_jobs=-1)]: Using backend LokyBackend with 2 concurrent workers.\n",
            "[Parallel(n_jobs=-1)]: Done  37 tasks      | elapsed:   14.9s\n",
            "[Parallel(n_jobs=-1)]: Done  54 out of  54 | elapsed:   21.2s finished\n",
            "\n",
            "[2019-01-11 10:08:45] Features: 47/100 -- score: 0.9979846269216348[Parallel(n_jobs=-1)]: Using backend LokyBackend with 2 concurrent workers.\n",
            "[Parallel(n_jobs=-1)]: Done  37 tasks      | elapsed:   15.6s\n",
            "[Parallel(n_jobs=-1)]: Done  53 out of  53 | elapsed:   21.8s finished\n",
            "\n",
            "[2019-01-11 10:09:07] Features: 48/100 -- score: 0.9980080614923135[Parallel(n_jobs=-1)]: Using backend LokyBackend with 2 concurrent workers.\n",
            "[Parallel(n_jobs=-1)]: Done  37 tasks      | elapsed:   14.9s\n",
            "[Parallel(n_jobs=-1)]: Done  52 out of  52 | elapsed:   20.8s finished\n",
            "\n",
            "[2019-01-11 10:09:28] Features: 49/100 -- score: 0.9980080614923135[Parallel(n_jobs=-1)]: Using backend LokyBackend with 2 concurrent workers.\n",
            "[Parallel(n_jobs=-1)]: Done  37 tasks      | elapsed:   15.9s\n",
            "[Parallel(n_jobs=-1)]: Done  51 out of  51 | elapsed:   21.6s finished\n",
            "\n",
            "[2019-01-11 10:09:49] Features: 50/100 -- score: 0.9980080614923135[Parallel(n_jobs=-1)]: Using backend LokyBackend with 2 concurrent workers.\n",
            "[Parallel(n_jobs=-1)]: Done  37 tasks      | elapsed:   15.9s\n",
            "[Parallel(n_jobs=-1)]: Done  50 out of  50 | elapsed:   21.5s finished\n",
            "\n",
            "[2019-01-11 10:10:11] Features: 51/100 -- score: 0.9980080614923135[Parallel(n_jobs=-1)]: Using backend LokyBackend with 2 concurrent workers.\n",
            "[Parallel(n_jobs=-1)]: Done  37 tasks      | elapsed:   16.4s\n",
            "[Parallel(n_jobs=-1)]: Done  49 out of  49 | elapsed:   21.1s finished\n",
            "\n",
            "[2019-01-11 10:10:32] Features: 52/100 -- score: 0.9980080614923135[Parallel(n_jobs=-1)]: Using backend LokyBackend with 2 concurrent workers.\n",
            "[Parallel(n_jobs=-1)]: Done  37 tasks      | elapsed:   17.0s\n",
            "[Parallel(n_jobs=-1)]: Done  48 out of  48 | elapsed:   21.4s finished\n",
            "\n",
            "[2019-01-11 10:10:53] Features: 53/100 -- score: 0.9980080614923135[Parallel(n_jobs=-1)]: Using backend LokyBackend with 2 concurrent workers.\n",
            "[Parallel(n_jobs=-1)]: Done  37 tasks      | elapsed:   16.8s\n",
            "[Parallel(n_jobs=-1)]: Done  47 out of  47 | elapsed:   21.0s finished\n",
            "\n",
            "[2019-01-11 10:11:14] Features: 54/100 -- score: 0.9980080614923135[Parallel(n_jobs=-1)]: Using backend LokyBackend with 2 concurrent workers.\n",
            "[Parallel(n_jobs=-1)]: Done  37 tasks      | elapsed:   17.3s\n",
            "[Parallel(n_jobs=-1)]: Done  46 out of  46 | elapsed:   21.3s finished\n",
            "\n",
            "[2019-01-11 10:11:36] Features: 55/100 -- score: 0.9980080614923135[Parallel(n_jobs=-1)]: Using backend LokyBackend with 2 concurrent workers.\n",
            "[Parallel(n_jobs=-1)]: Done  37 tasks      | elapsed:   16.8s\n",
            "[Parallel(n_jobs=-1)]: Done  45 out of  45 | elapsed:   19.9s finished\n",
            "\n",
            "[2019-01-11 10:11:56] Features: 56/100 -- score: 0.9980314960629921[Parallel(n_jobs=-1)]: Using backend LokyBackend with 2 concurrent workers.\n",
            "[Parallel(n_jobs=-1)]: Done  37 tasks      | elapsed:   17.3s\n",
            "[Parallel(n_jobs=-1)]: Done  44 out of  44 | elapsed:   20.5s finished\n",
            "\n",
            "[2019-01-11 10:12:16] Features: 57/100 -- score: 0.9980314960629921[Parallel(n_jobs=-1)]: Using backend LokyBackend with 2 concurrent workers.\n",
            "[Parallel(n_jobs=-1)]: Done  37 tasks      | elapsed:   18.5s\n",
            "[Parallel(n_jobs=-1)]: Done  43 out of  43 | elapsed:   21.3s finished\n",
            "\n",
            "[2019-01-11 10:12:37] Features: 58/100 -- score: 0.9980314960629921[Parallel(n_jobs=-1)]: Using backend LokyBackend with 2 concurrent workers.\n",
            "[Parallel(n_jobs=-1)]: Done  37 tasks      | elapsed:   19.4s\n",
            "[Parallel(n_jobs=-1)]: Done  42 out of  42 | elapsed:   21.6s finished\n",
            "\n",
            "[2019-01-11 10:12:59] Features: 59/100 -- score: 0.9980314960629921[Parallel(n_jobs=-1)]: Using backend LokyBackend with 2 concurrent workers.\n",
            "[Parallel(n_jobs=-1)]: Done  37 tasks      | elapsed:   18.9s\n",
            "[Parallel(n_jobs=-1)]: Done  41 out of  41 | elapsed:   20.6s finished\n",
            "\n",
            "[2019-01-11 10:13:19] Features: 60/100 -- score: 0.9980314960629921[Parallel(n_jobs=-1)]: Using backend LokyBackend with 2 concurrent workers.\n",
            "[Parallel(n_jobs=-1)]: Done  37 tasks      | elapsed:   18.6s\n",
            "[Parallel(n_jobs=-1)]: Done  40 out of  40 | elapsed:   19.6s finished\n",
            "\n",
            "[2019-01-11 10:13:39] Features: 61/100 -- score: 0.9980314960629921[Parallel(n_jobs=-1)]: Using backend LokyBackend with 2 concurrent workers.\n",
            "[Parallel(n_jobs=-1)]: Done  39 out of  39 | elapsed:   19.5s finished\n",
            "\n",
            "[2019-01-11 10:13:59] Features: 62/100 -- score: 0.9980314960629921[Parallel(n_jobs=-1)]: Using backend LokyBackend with 2 concurrent workers.\n",
            "[Parallel(n_jobs=-1)]: Done  38 out of  38 | elapsed:   19.3s finished\n",
            "\n",
            "[2019-01-11 10:14:18] Features: 63/100 -- score: 0.9980314960629921[Parallel(n_jobs=-1)]: Using backend LokyBackend with 2 concurrent workers.\n",
            "[Parallel(n_jobs=-1)]: Done  37 out of  37 | elapsed:   18.4s finished\n",
            "\n",
            "[2019-01-11 10:14:36] Features: 64/100 -- score: 0.9980314960629921[Parallel(n_jobs=-1)]: Using backend LokyBackend with 2 concurrent workers.\n",
            "[Parallel(n_jobs=-1)]: Done  36 out of  36 | elapsed:   18.3s finished\n",
            "\n",
            "[2019-01-11 10:14:55] Features: 65/100 -- score: 0.9980314960629921[Parallel(n_jobs=-1)]: Using backend LokyBackend with 2 concurrent workers.\n",
            "[Parallel(n_jobs=-1)]: Done  35 out of  35 | elapsed:   18.2s finished\n",
            "\n",
            "[2019-01-11 10:15:13] Features: 66/100 -- score: 0.9980314960629921[Parallel(n_jobs=-1)]: Using backend LokyBackend with 2 concurrent workers.\n",
            "[Parallel(n_jobs=-1)]: Done  34 out of  34 | elapsed:   19.7s finished\n",
            "\n",
            "[2019-01-11 10:15:33] Features: 67/100 -- score: 0.9980314960629921[Parallel(n_jobs=-1)]: Using backend LokyBackend with 2 concurrent workers.\n",
            "[Parallel(n_jobs=-1)]: Done  33 out of  33 | elapsed:   17.4s finished\n",
            "\n",
            "[2019-01-11 10:15:50] Features: 68/100 -- score: 0.9980314960629921[Parallel(n_jobs=-1)]: Using backend LokyBackend with 2 concurrent workers.\n",
            "[Parallel(n_jobs=-1)]: Done  32 out of  32 | elapsed:   17.7s finished\n",
            "\n",
            "[2019-01-11 10:16:08] Features: 69/100 -- score: 0.9980314960629921[Parallel(n_jobs=-1)]: Using backend LokyBackend with 2 concurrent workers.\n",
            "[Parallel(n_jobs=-1)]: Done  31 out of  31 | elapsed:   17.3s finished\n",
            "\n",
            "[2019-01-11 10:16:25] Features: 70/100 -- score: 0.9980314960629921[Parallel(n_jobs=-1)]: Using backend LokyBackend with 2 concurrent workers.\n",
            "[Parallel(n_jobs=-1)]: Done  30 out of  30 | elapsed:   17.0s finished\n",
            "\n",
            "[2019-01-11 10:16:42] Features: 71/100 -- score: 0.9980314960629921[Parallel(n_jobs=-1)]: Using backend LokyBackend with 2 concurrent workers.\n",
            "[Parallel(n_jobs=-1)]: Done  29 out of  29 | elapsed:   16.2s finished\n",
            "\n",
            "[2019-01-11 10:16:58] Features: 72/100 -- score: 0.9980314960629921[Parallel(n_jobs=-1)]: Using backend LokyBackend with 2 concurrent workers.\n",
            "[Parallel(n_jobs=-1)]: Done  28 out of  28 | elapsed:   16.1s finished\n",
            "\n",
            "[2019-01-11 10:17:14] Features: 73/100 -- score: 0.9980314960629921[Parallel(n_jobs=-1)]: Using backend LokyBackend with 2 concurrent workers.\n",
            "[Parallel(n_jobs=-1)]: Done  27 out of  27 | elapsed:   16.3s finished\n",
            "\n",
            "[2019-01-11 10:17:31] Features: 74/100 -- score: 0.9980080614923135[Parallel(n_jobs=-1)]: Using backend LokyBackend with 2 concurrent workers.\n",
            "[Parallel(n_jobs=-1)]: Done  26 out of  26 | elapsed:   16.8s finished\n",
            "\n",
            "[2019-01-11 10:17:48] Features: 75/100 -- score: 0.9981017997750281[Parallel(n_jobs=-1)]: Using backend LokyBackend with 2 concurrent workers.\n",
            "[Parallel(n_jobs=-1)]: Done  25 out of  25 | elapsed:   16.5s finished\n",
            "\n",
            "[2019-01-11 10:18:04] Features: 76/100 -- score: 0.9981252343457068[Parallel(n_jobs=-1)]: Using backend LokyBackend with 2 concurrent workers.\n",
            "[Parallel(n_jobs=-1)]: Done  24 out of  24 | elapsed:   16.7s finished\n",
            "\n",
            "[2019-01-11 10:18:21] Features: 77/100 -- score: 0.9981252343457068[Parallel(n_jobs=-1)]: Using backend LokyBackend with 2 concurrent workers.\n",
            "\n",
            "STOPPING EARLY DUE TO KEYBOARD INTERRUPT..."
          ],
          "name": "stderr"
        }
      ]
    },
    {
      "metadata": {
        "id": "aATOzBtNTFlM",
        "colab_type": "code",
        "outputId": "919c3694-77bd-4fdf-a5d6-43440e79f4e1",
        "colab": {
          "base_uri": "https://localhost:8080/",
          "height": 466
        }
      },
      "cell_type": "code",
      "source": [
        "fig = plot_sequential_feature_selection(selector.get_metric_dict(), kind='std_dev')\n",
        "plt.ylim([0.94, 1])\n",
        "plt.title('Sequential forward Selection')\n",
        "plt.grid()\n",
        "plt.show()"
      ],
      "execution_count": 26,
      "outputs": [
        {
          "output_type": "stream",
          "text": [
            "/usr/local/lib/python3.6/dist-packages/numpy/core/_methods.py:135: RuntimeWarning: Degrees of freedom <= 0 for slice\n",
            "  keepdims=keepdims)\n",
            "/usr/local/lib/python3.6/dist-packages/numpy/core/_methods.py:127: RuntimeWarning: invalid value encountered in double_scalars\n",
            "  ret = ret.dtype.type(ret / rcount)\n"
          ],
          "name": "stderr"
        },
        {
          "output_type": "display_data",
          "data": {
            "image/png": "[encoded data removed]",
            "text/plain": [
              "<matplotlib.figure.Figure at 0x7f703f73f6a0>"
            ]
          },
          "metadata": {
            "tags": []
          }
        }
      ]
    },
    {
      "metadata": {
        "id": "Gi1XunC0qbG3",
        "colab_type": "text"
      },
      "cell_type": "markdown",
      "source": [
        "As we can see from both graph and output of training the optimal number of features is 25."
      ]
    },
    {
      "metadata": {
        "id": "NkXL5RtQrfr_",
        "colab_type": "code",
        "colab": {}
      },
      "cell_type": "code",
      "source": [
        "needed_features = selector.subsets_[25]['feature_idx']\n",
        "train = train[:, needed_features]\n",
        "test = test[:, needed_features]"
      ],
      "execution_count": 0,
      "outputs": []
    },
    {
      "metadata": {
        "id": "RD4N2PPXshI5",
        "colab_type": "text"
      },
      "cell_type": "markdown",
      "source": [
        "### Now let's do the same for data without any drug info"
      ]
    },
    {
      "metadata": {
        "id": "JYRTIJNH1JOb",
        "colab_type": "code",
        "outputId": "5b187df5-f30b-432e-abfd-28e539dc8bbd",
        "colab": {
          "base_uri": "https://localhost:8080/",
          "height": 34
        }
      },
      "cell_type": "code",
      "source": [
        "data.drop([col for col in drug_cols if col not in prefixes['targets']], axis=1, inplace=True)\n",
        "data.shape"
      ],
      "execution_count": 14,
      "outputs": [
        {
          "output_type": "execute_result",
          "data": {
            "text/plain": [
              "(56897, 856)"
            ]
          },
          "metadata": {
            "tags": []
          },
          "execution_count": 14
        }
      ]
    },
    {
      "metadata": {
        "id": "W9WTb0Misfpt",
        "colab_type": "code",
        "colab": {
          "base_uri": "https://localhost:8080/",
          "height": 194
        },
        "outputId": "c7668169-193c-4965-8ac8-d568e18f9b35"
      },
      "cell_type": "code",
      "source": [
        "  \n",
        "  \n",
        "train, test = train_test_split(data)\n",
        "train_Ys = train[prefixes['targets']]\n",
        "train.drop(prefixes['targets'], axis=1, inplace=True)\n",
        "test_Ys = test[prefixes['targets']]\n",
        "test.drop(prefixes['targets'], axis=1, inplace=True)\n",
        "\n"
      ],
      "execution_count": 15,
      "outputs": [
        {
          "output_type": "stream",
          "text": [
            "/usr/local/lib/python3.6/dist-packages/ipykernel_launcher.py:5: SettingWithCopyWarning: \n",
            "A value is trying to be set on a copy of a slice from a DataFrame\n",
            "\n",
            "See the caveats in the documentation: http://pandas.pydata.org/pandas-docs/stable/indexing.html#indexing-view-versus-copy\n",
            "  \"\"\"\n",
            "/usr/local/lib/python3.6/dist-packages/ipykernel_launcher.py:7: SettingWithCopyWarning: \n",
            "A value is trying to be set on a copy of a slice from a DataFrame\n",
            "\n",
            "See the caveats in the documentation: http://pandas.pydata.org/pandas-docs/stable/indexing.html#indexing-view-versus-copy\n",
            "  import sys\n"
          ],
          "name": "stderr"
        }
      ]
    },
    {
      "metadata": {
        "id": "uTztm8w5wLea",
        "colab_type": "code",
        "colab": {}
      },
      "cell_type": "code",
      "source": [
        "fa = FactorAnalysis(n_components=100)\n",
        "train = fa.fit_transform(train.values)\n",
        "test = fa.transform(test.values)"
      ],
      "execution_count": 0,
      "outputs": []
    },
    {
      "metadata": {
        "id": "3T3z2XnPxtD1",
        "colab_type": "code",
        "outputId": "dfc0e5ae-a9cd-4b25-86f9-fd22881a8d62",
        "colab": {
          "base_uri": "https://localhost:8080/",
          "height": 34
        }
      },
      "cell_type": "code",
      "source": [
        "clf = LogisticRegression(C=10, solver='lbfgs', max_iter = 1000).fit(train, train_Ys['mj_user'])\n",
        "accuracy = accuracy_score(test_Ys['mj_user'], clf.predict(test))\n",
        "accuracy"
      ],
      "execution_count": 17,
      "outputs": [
        {
          "output_type": "execute_result",
          "data": {
            "text/plain": [
              "0.9978207381370826"
            ]
          },
          "metadata": {
            "tags": []
          },
          "execution_count": 17
        }
      ]
    },
    {
      "metadata": {
        "id": "uZxAJWl1wLZ7",
        "colab_type": "code",
        "colab": {
          "base_uri": "https://localhost:8080/",
          "height": 5974
        },
        "outputId": "01305491-5220-45df-db60-365801c5e33a"
      },
      "cell_type": "code",
      "source": [
        "clf = LogisticRegression(C=10, solver='lbfgs', max_iter = 1000)\n",
        "\n",
        "selector = SFS(clf, forward=True, verbose=2, scoring='accuracy', cv=0,\n",
        "               n_jobs=-1, k_features=90).fit(train, train_Ys['mj_user'])"
      ],
      "execution_count": 18,
      "outputs": [
        {
          "output_type": "stream",
          "text": [
            "[Parallel(n_jobs=-1)]: Using backend LokyBackend with 2 concurrent workers.\n",
            "[Parallel(n_jobs=-1)]: Done  37 tasks      | elapsed:    4.9s\n",
            "[Parallel(n_jobs=-1)]: Done 100 out of 100 | elapsed:    9.1s finished\n",
            "\n",
            "[2019-01-11 08:32:51] Features: 1/90 -- score: 0.943171166104237[Parallel(n_jobs=-1)]: Using backend LokyBackend with 2 concurrent workers.\n",
            "[Parallel(n_jobs=-1)]: Done  37 tasks      | elapsed:    4.0s\n",
            "[Parallel(n_jobs=-1)]: Done  99 out of  99 | elapsed:   10.3s finished\n",
            "\n",
            "[2019-01-11 08:33:02] Features: 2/90 -- score: 0.95856767904012[Parallel(n_jobs=-1)]: Using backend LokyBackend with 2 concurrent workers.\n",
            "[Parallel(n_jobs=-1)]: Done  37 tasks      | elapsed:    4.6s\n",
            "[Parallel(n_jobs=-1)]: Done  98 out of  98 | elapsed:   11.7s finished\n",
            "\n",
            "[2019-01-11 08:33:13] Features: 3/90 -- score: 0.9784401949756281[Parallel(n_jobs=-1)]: Using backend LokyBackend with 2 concurrent workers.\n",
            "[Parallel(n_jobs=-1)]: Done  37 tasks      | elapsed:    5.4s\n",
            "[Parallel(n_jobs=-1)]: Done  97 out of  97 | elapsed:   13.4s finished\n",
            "\n",
            "[2019-01-11 08:33:27] Features: 4/90 -- score: 0.9879546306711661[Parallel(n_jobs=-1)]: Using backend LokyBackend with 2 concurrent workers.\n",
            "[Parallel(n_jobs=-1)]: Done  37 tasks      | elapsed:    5.4s\n",
            "[Parallel(n_jobs=-1)]: Done  96 out of  96 | elapsed:   13.5s finished\n",
            "\n",
            "[2019-01-11 08:33:40] Features: 5/90 -- score: 0.9935320584926884[Parallel(n_jobs=-1)]: Using backend LokyBackend with 2 concurrent workers.\n",
            "[Parallel(n_jobs=-1)]: Done  37 tasks      | elapsed:    5.8s\n",
            "[Parallel(n_jobs=-1)]: Done  95 out of  95 | elapsed:   15.0s finished\n",
            "\n",
            "[2019-01-11 08:33:55] Features: 6/90 -- score: 0.994750656167979[Parallel(n_jobs=-1)]: Using backend LokyBackend with 2 concurrent workers.\n",
            "[Parallel(n_jobs=-1)]: Done  37 tasks      | elapsed:    5.8s\n",
            "[Parallel(n_jobs=-1)]: Done  94 out of  94 | elapsed:   14.2s finished\n",
            "\n",
            "[2019-01-11 08:34:10] Features: 7/90 -- score: 0.9954302587176603[Parallel(n_jobs=-1)]: Using backend LokyBackend with 2 concurrent workers.\n",
            "[Parallel(n_jobs=-1)]: Done  37 tasks      | elapsed:    6.1s\n",
            "[Parallel(n_jobs=-1)]: Done  93 out of  93 | elapsed:   15.1s finished\n",
            "\n",
            "[2019-01-11 08:34:25] Features: 8/90 -- score: 0.9960864266966629[Parallel(n_jobs=-1)]: Using backend LokyBackend with 2 concurrent workers.\n",
            "[Parallel(n_jobs=-1)]: Done  37 tasks      | elapsed:    6.3s\n",
            "[Parallel(n_jobs=-1)]: Done  92 out of  92 | elapsed:   15.4s finished\n",
            "\n",
            "[2019-01-11 08:34:40] Features: 9/90 -- score: 0.9965551181102362[Parallel(n_jobs=-1)]: Using backend LokyBackend with 2 concurrent workers.\n",
            "[Parallel(n_jobs=-1)]: Done  37 tasks      | elapsed:    6.9s\n",
            "[Parallel(n_jobs=-1)]: Done  91 out of  91 | elapsed:   16.6s finished\n",
            "\n",
            "[2019-01-11 08:34:57] Features: 10/90 -- score: 0.9967894638170228[Parallel(n_jobs=-1)]: Using backend LokyBackend with 2 concurrent workers.\n",
            "[Parallel(n_jobs=-1)]: Done  37 tasks      | elapsed:    7.2s\n",
            "[Parallel(n_jobs=-1)]: Done  90 out of  90 | elapsed:   17.0s finished\n",
            "\n",
            "[2019-01-11 08:35:14] Features: 11/90 -- score: 0.9970003749531309[Parallel(n_jobs=-1)]: Using backend LokyBackend with 2 concurrent workers.\n",
            "[Parallel(n_jobs=-1)]: Done  37 tasks      | elapsed:    7.6s\n",
            "[Parallel(n_jobs=-1)]: Done  89 out of  89 | elapsed:   18.1s finished\n",
            "\n",
            "[2019-01-11 08:35:32] Features: 12/90 -- score: 0.9971175478065242[Parallel(n_jobs=-1)]: Using backend LokyBackend with 2 concurrent workers.\n",
            "[Parallel(n_jobs=-1)]: Done  37 tasks      | elapsed:    7.5s\n",
            "[Parallel(n_jobs=-1)]: Done  88 out of  88 | elapsed:   17.7s finished\n",
            "\n",
            "[2019-01-11 08:35:50] Features: 13/90 -- score: 0.9971878515185602[Parallel(n_jobs=-1)]: Using backend LokyBackend with 2 concurrent workers.\n",
            "/usr/local/lib/python3.6/dist-packages/sklearn/externals/joblib/externals/loky/process_executor.py:706: UserWarning: A worker stopped while some jobs were given to the executor. This can be caused by a too short worker timeout or by a memory leak.\n",
            "  \"timeout or by a memory leak.\", UserWarning\n",
            "[Parallel(n_jobs=-1)]: Done  37 tasks      | elapsed:   10.4s\n",
            "[Parallel(n_jobs=-1)]: Done  87 out of  87 | elapsed:   20.9s finished\n",
            "\n",
            "[2019-01-11 08:36:10] Features: 14/90 -- score: 0.9972347206599175[Parallel(n_jobs=-1)]: Using backend LokyBackend with 2 concurrent workers.\n",
            "[Parallel(n_jobs=-1)]: Done  37 tasks      | elapsed:    7.9s\n",
            "[Parallel(n_jobs=-1)]: Done  86 out of  86 | elapsed:   18.1s finished\n",
            "\n",
            "[2019-01-11 08:36:29] Features: 15/90 -- score: 0.9972581552305961[Parallel(n_jobs=-1)]: Using backend LokyBackend with 2 concurrent workers.\n",
            "[Parallel(n_jobs=-1)]: Done  37 tasks      | elapsed:    8.4s\n",
            "[Parallel(n_jobs=-1)]: Done  85 out of  85 | elapsed:   19.4s finished\n",
            "\n",
            "[2019-01-11 08:36:48] Features: 16/90 -- score: 0.9972581552305961[Parallel(n_jobs=-1)]: Using backend LokyBackend with 2 concurrent workers.\n",
            "[Parallel(n_jobs=-1)]: Done  37 tasks      | elapsed:    8.6s\n",
            "[Parallel(n_jobs=-1)]: Done  84 out of  84 | elapsed:   19.4s finished\n",
            "\n",
            "[2019-01-11 08:37:07] Features: 17/90 -- score: 0.9972581552305961[Parallel(n_jobs=-1)]: Using backend LokyBackend with 2 concurrent workers.\n",
            "[Parallel(n_jobs=-1)]: Done  37 tasks      | elapsed:    8.7s\n",
            "[Parallel(n_jobs=-1)]: Done  83 out of  83 | elapsed:   19.3s finished\n",
            "\n",
            "[2019-01-11 08:37:27] Features: 18/90 -- score: 0.9972815898012748[Parallel(n_jobs=-1)]: Using backend LokyBackend with 2 concurrent workers.\n",
            "[Parallel(n_jobs=-1)]: Done  37 tasks      | elapsed:    9.0s\n",
            "[Parallel(n_jobs=-1)]: Done  82 out of  82 | elapsed:   19.7s finished\n",
            "\n",
            "[2019-01-11 08:37:46] Features: 19/90 -- score: 0.9973050243719535[Parallel(n_jobs=-1)]: Using backend LokyBackend with 2 concurrent workers.\n",
            "[Parallel(n_jobs=-1)]: Done  37 tasks      | elapsed:    9.1s\n",
            "[Parallel(n_jobs=-1)]: Done  81 out of  81 | elapsed:   19.2s finished\n",
            "\n",
            "[2019-01-11 08:38:06] Features: 20/90 -- score: 0.9973050243719535[Parallel(n_jobs=-1)]: Using backend LokyBackend with 2 concurrent workers.\n",
            "[Parallel(n_jobs=-1)]: Done  37 tasks      | elapsed:    9.5s\n",
            "[Parallel(n_jobs=-1)]: Done  80 out of  80 | elapsed:   20.0s finished\n",
            "\n",
            "[2019-01-11 08:38:26] Features: 21/90 -- score: 0.9973050243719535[Parallel(n_jobs=-1)]: Using backend LokyBackend with 2 concurrent workers.\n",
            "[Parallel(n_jobs=-1)]: Done  37 tasks      | elapsed:    9.3s\n",
            "[Parallel(n_jobs=-1)]: Done  79 out of  79 | elapsed:   19.7s finished\n",
            "\n",
            "[2019-01-11 08:38:45] Features: 22/90 -- score: 0.9973284589426322[Parallel(n_jobs=-1)]: Using backend LokyBackend with 2 concurrent workers.\n",
            "[Parallel(n_jobs=-1)]: Done  37 tasks      | elapsed:    9.2s\n",
            "[Parallel(n_jobs=-1)]: Done  78 out of  78 | elapsed:   19.2s finished\n",
            "\n",
            "[2019-01-11 08:39:04] Features: 23/90 -- score: 0.9973284589426322[Parallel(n_jobs=-1)]: Using backend LokyBackend with 2 concurrent workers.\n",
            "[Parallel(n_jobs=-1)]: Done  37 tasks      | elapsed:    9.1s\n",
            "[Parallel(n_jobs=-1)]: Done  77 out of  77 | elapsed:   18.8s finished\n",
            "\n",
            "[2019-01-11 08:39:23] Features: 24/90 -- score: 0.9973284589426322[Parallel(n_jobs=-1)]: Using backend LokyBackend with 2 concurrent workers.\n",
            "[Parallel(n_jobs=-1)]: Done  37 tasks      | elapsed:    9.8s\n",
            "[Parallel(n_jobs=-1)]: Done  76 out of  76 | elapsed:   19.7s finished\n",
            "\n",
            "[2019-01-11 08:39:43] Features: 25/90 -- score: 0.9973284589426322[Parallel(n_jobs=-1)]: Using backend LokyBackend with 2 concurrent workers.\n",
            "[Parallel(n_jobs=-1)]: Done  37 tasks      | elapsed:    9.7s\n",
            "[Parallel(n_jobs=-1)]: Done  75 out of  75 | elapsed:   19.3s finished\n",
            "\n",
            "[2019-01-11 08:40:02] Features: 26/90 -- score: 0.9973284589426322[Parallel(n_jobs=-1)]: Using backend LokyBackend with 2 concurrent workers.\n",
            "[Parallel(n_jobs=-1)]: Done  37 tasks      | elapsed:    9.9s\n",
            "[Parallel(n_jobs=-1)]: Done  74 out of  74 | elapsed:   19.3s finished\n",
            "\n",
            "[2019-01-11 08:40:22] Features: 27/90 -- score: 0.9973284589426322[Parallel(n_jobs=-1)]: Using backend LokyBackend with 2 concurrent workers.\n",
            "[Parallel(n_jobs=-1)]: Done  37 tasks      | elapsed:    9.8s\n",
            "[Parallel(n_jobs=-1)]: Done  73 out of  73 | elapsed:   20.6s finished\n",
            "\n",
            "[2019-01-11 08:40:42] Features: 28/90 -- score: 0.9973284589426322[Parallel(n_jobs=-1)]: Using backend LokyBackend with 2 concurrent workers.\n",
            "[Parallel(n_jobs=-1)]: Done  37 tasks      | elapsed:   11.1s\n",
            "[Parallel(n_jobs=-1)]: Done  72 out of  72 | elapsed:   20.6s finished\n",
            "\n",
            "[2019-01-11 08:41:03] Features: 29/90 -- score: 0.9973284589426322[Parallel(n_jobs=-1)]: Using backend LokyBackend with 2 concurrent workers.\n",
            "[Parallel(n_jobs=-1)]: Done  37 tasks      | elapsed:   10.3s\n",
            "[Parallel(n_jobs=-1)]: Done  71 out of  71 | elapsed:   19.9s finished\n",
            "\n",
            "[2019-01-11 08:41:23] Features: 30/90 -- score: 0.9973284589426322[Parallel(n_jobs=-1)]: Using backend LokyBackend with 2 concurrent workers.\n",
            "[Parallel(n_jobs=-1)]: Done  37 tasks      | elapsed:   10.2s\n",
            "[Parallel(n_jobs=-1)]: Done  70 out of  70 | elapsed:   19.6s finished\n",
            "\n",
            "[2019-01-11 08:41:42] Features: 31/90 -- score: 0.9973284589426322[Parallel(n_jobs=-1)]: Using backend LokyBackend with 2 concurrent workers.\n",
            "[Parallel(n_jobs=-1)]: Done  37 tasks      | elapsed:   10.1s\n",
            "[Parallel(n_jobs=-1)]: Done  69 out of  69 | elapsed:   18.7s finished\n",
            "\n",
            "[2019-01-11 08:42:01] Features: 32/90 -- score: 0.9973284589426322[Parallel(n_jobs=-1)]: Using backend LokyBackend with 2 concurrent workers.\n",
            "[Parallel(n_jobs=-1)]: Done  37 tasks      | elapsed:   10.8s\n",
            "[Parallel(n_jobs=-1)]: Done  68 out of  68 | elapsed:   19.5s finished\n",
            "\n",
            "[2019-01-11 08:42:21] Features: 33/90 -- score: 0.9973284589426322[Parallel(n_jobs=-1)]: Using backend LokyBackend with 2 concurrent workers.\n",
            "[Parallel(n_jobs=-1)]: Done  37 tasks      | elapsed:   10.7s\n",
            "[Parallel(n_jobs=-1)]: Done  67 out of  67 | elapsed:   19.3s finished\n",
            "\n",
            "[2019-01-11 08:42:40] Features: 34/90 -- score: 0.9973284589426322[Parallel(n_jobs=-1)]: Using backend LokyBackend with 2 concurrent workers.\n",
            "[Parallel(n_jobs=-1)]: Done  37 tasks      | elapsed:   11.0s\n",
            "[Parallel(n_jobs=-1)]: Done  66 out of  66 | elapsed:   19.3s finished\n",
            "\n",
            "[2019-01-11 08:42:59] Features: 35/90 -- score: 0.9973284589426322[Parallel(n_jobs=-1)]: Using backend LokyBackend with 2 concurrent workers.\n",
            "[Parallel(n_jobs=-1)]: Done  37 tasks      | elapsed:   11.1s\n",
            "[Parallel(n_jobs=-1)]: Done  65 out of  65 | elapsed:   19.0s finished\n",
            "\n",
            "[2019-01-11 08:43:18] Features: 36/90 -- score: 0.9973284589426322[Parallel(n_jobs=-1)]: Using backend LokyBackend with 2 concurrent workers.\n",
            "[Parallel(n_jobs=-1)]: Done  37 tasks      | elapsed:   11.3s\n",
            "[Parallel(n_jobs=-1)]: Done  64 out of  64 | elapsed:   19.3s finished\n",
            "\n",
            "[2019-01-11 08:43:38] Features: 37/90 -- score: 0.9973284589426322[Parallel(n_jobs=-1)]: Using backend LokyBackend with 2 concurrent workers.\n",
            "[Parallel(n_jobs=-1)]: Done  37 tasks      | elapsed:   11.5s\n",
            "[Parallel(n_jobs=-1)]: Done  63 out of  63 | elapsed:   19.3s finished\n",
            "\n",
            "[2019-01-11 08:43:57] Features: 38/90 -- score: 0.9973284589426322[Parallel(n_jobs=-1)]: Using backend LokyBackend with 2 concurrent workers.\n",
            "[Parallel(n_jobs=-1)]: Done  37 tasks      | elapsed:   11.5s\n",
            "[Parallel(n_jobs=-1)]: Done  62 out of  62 | elapsed:   19.0s finished\n",
            "\n",
            "[2019-01-11 08:44:16] Features: 39/90 -- score: 0.9973284589426322[Parallel(n_jobs=-1)]: Using backend LokyBackend with 2 concurrent workers.\n",
            "[Parallel(n_jobs=-1)]: Done  37 tasks      | elapsed:   11.1s\n",
            "[Parallel(n_jobs=-1)]: Done  61 out of  61 | elapsed:   18.3s finished\n",
            "\n",
            "[2019-01-11 08:44:34] Features: 40/90 -- score: 0.9973284589426322[Parallel(n_jobs=-1)]: Using backend LokyBackend with 2 concurrent workers.\n",
            "[Parallel(n_jobs=-1)]: Done  37 tasks      | elapsed:   11.9s\n",
            "[Parallel(n_jobs=-1)]: Done  60 out of  60 | elapsed:   18.8s finished\n",
            "\n",
            "[2019-01-11 08:44:53] Features: 41/90 -- score: 0.9973284589426322[Parallel(n_jobs=-1)]: Using backend LokyBackend with 2 concurrent workers.\n",
            "[Parallel(n_jobs=-1)]: Done  37 tasks      | elapsed:   12.5s\n",
            "[Parallel(n_jobs=-1)]: Done  59 out of  59 | elapsed:   19.7s finished\n",
            "\n",
            "[2019-01-11 08:45:13] Features: 42/90 -- score: 0.9973284589426322[Parallel(n_jobs=-1)]: Using backend LokyBackend with 2 concurrent workers.\n",
            "[Parallel(n_jobs=-1)]: Done  37 tasks      | elapsed:   13.1s\n",
            "[Parallel(n_jobs=-1)]: Done  58 out of  58 | elapsed:   21.2s finished\n",
            "\n",
            "[2019-01-11 08:45:34] Features: 43/90 -- score: 0.9973284589426322[Parallel(n_jobs=-1)]: Using backend LokyBackend with 2 concurrent workers.\n",
            "[Parallel(n_jobs=-1)]: Done  37 tasks      | elapsed:   12.7s\n",
            "[Parallel(n_jobs=-1)]: Done  57 out of  57 | elapsed:   19.6s finished\n",
            "\n",
            "[2019-01-11 08:45:53] Features: 44/90 -- score: 0.9973284589426322[Parallel(n_jobs=-1)]: Using backend LokyBackend with 2 concurrent workers.\n",
            "[Parallel(n_jobs=-1)]: Done  37 tasks      | elapsed:   13.2s\n",
            "[Parallel(n_jobs=-1)]: Done  56 out of  56 | elapsed:   19.6s finished\n",
            "\n",
            "[2019-01-11 08:46:13] Features: 45/90 -- score: 0.9973284589426322[Parallel(n_jobs=-1)]: Using backend LokyBackend with 2 concurrent workers.\n",
            "[Parallel(n_jobs=-1)]: Done  37 tasks      | elapsed:   13.5s\n",
            "[Parallel(n_jobs=-1)]: Done  55 out of  55 | elapsed:   19.5s finished\n",
            "\n",
            "[2019-01-11 08:46:33] Features: 46/90 -- score: 0.9973284589426322[Parallel(n_jobs=-1)]: Using backend LokyBackend with 2 concurrent workers.\n",
            "[Parallel(n_jobs=-1)]: Done  37 tasks      | elapsed:   13.3s\n",
            "[Parallel(n_jobs=-1)]: Done  54 out of  54 | elapsed:   19.0s finished\n",
            "\n",
            "[2019-01-11 08:46:52] Features: 47/90 -- score: 0.9973284589426322[Parallel(n_jobs=-1)]: Using backend LokyBackend with 2 concurrent workers.\n",
            "[Parallel(n_jobs=-1)]: Done  37 tasks      | elapsed:   12.6s\n",
            "[Parallel(n_jobs=-1)]: Done  53 out of  53 | elapsed:   17.6s finished\n",
            "\n",
            "[2019-01-11 08:47:09] Features: 48/90 -- score: 0.9973050243719535[Parallel(n_jobs=-1)]: Using backend LokyBackend with 2 concurrent workers.\n",
            "[Parallel(n_jobs=-1)]: Done  37 tasks      | elapsed:   13.2s\n",
            "[Parallel(n_jobs=-1)]: Done  52 out of  52 | elapsed:   18.7s finished\n",
            "\n",
            "[2019-01-11 08:47:28] Features: 49/90 -- score: 0.9973050243719535[Parallel(n_jobs=-1)]: Using backend LokyBackend with 2 concurrent workers.\n",
            "[Parallel(n_jobs=-1)]: Done  37 tasks      | elapsed:   13.6s\n",
            "[Parallel(n_jobs=-1)]: Done  51 out of  51 | elapsed:   18.3s finished\n",
            "\n",
            "[2019-01-11 08:47:46] Features: 50/90 -- score: 0.9973284589426322[Parallel(n_jobs=-1)]: Using backend LokyBackend with 2 concurrent workers.\n",
            "[Parallel(n_jobs=-1)]: Done  37 tasks      | elapsed:   13.5s\n",
            "[Parallel(n_jobs=-1)]: Done  50 out of  50 | elapsed:   18.1s finished\n",
            "\n",
            "[2019-01-11 08:48:04] Features: 51/90 -- score: 0.9973284589426322[Parallel(n_jobs=-1)]: Using backend LokyBackend with 2 concurrent workers.\n",
            "[Parallel(n_jobs=-1)]: Done  37 tasks      | elapsed:   13.6s\n",
            "[Parallel(n_jobs=-1)]: Done  49 out of  49 | elapsed:   17.8s finished\n",
            "\n",
            "[2019-01-11 08:48:22] Features: 52/90 -- score: 0.9973050243719535[Parallel(n_jobs=-1)]: Using backend LokyBackend with 2 concurrent workers.\n",
            "[Parallel(n_jobs=-1)]: Done  37 tasks      | elapsed:   14.0s\n",
            "[Parallel(n_jobs=-1)]: Done  48 out of  48 | elapsed:   17.8s finished\n",
            "\n",
            "[2019-01-11 08:48:40] Features: 53/90 -- score: 0.9973050243719535[Parallel(n_jobs=-1)]: Using backend LokyBackend with 2 concurrent workers.\n",
            "[Parallel(n_jobs=-1)]: Done  37 tasks      | elapsed:   13.8s\n",
            "[Parallel(n_jobs=-1)]: Done  47 out of  47 | elapsed:   17.4s finished\n",
            "\n",
            "[2019-01-11 08:48:57] Features: 54/90 -- score: 0.9972815898012748[Parallel(n_jobs=-1)]: Using backend LokyBackend with 2 concurrent workers.\n",
            "[Parallel(n_jobs=-1)]: Done  37 tasks      | elapsed:   14.2s\n",
            "[Parallel(n_jobs=-1)]: Done  46 out of  46 | elapsed:   17.3s finished\n",
            "\n",
            "[2019-01-11 08:49:15] Features: 55/90 -- score: 0.9972815898012748[Parallel(n_jobs=-1)]: Using backend LokyBackend with 2 concurrent workers.\n",
            "[Parallel(n_jobs=-1)]: Done  37 tasks      | elapsed:   13.9s\n",
            "[Parallel(n_jobs=-1)]: Done  45 out of  45 | elapsed:   16.5s finished\n",
            "\n",
            "[2019-01-11 08:49:31] Features: 56/90 -- score: 0.9972815898012748[Parallel(n_jobs=-1)]: Using backend LokyBackend with 2 concurrent workers.\n",
            "[Parallel(n_jobs=-1)]: Done  37 tasks      | elapsed:   14.5s\n",
            "[Parallel(n_jobs=-1)]: Done  44 out of  44 | elapsed:   16.9s finished\n",
            "\n",
            "[2019-01-11 08:49:48] Features: 57/90 -- score: 0.9972815898012748[Parallel(n_jobs=-1)]: Using backend LokyBackend with 2 concurrent workers.\n",
            "[Parallel(n_jobs=-1)]: Done  37 tasks      | elapsed:   14.9s\n",
            "[Parallel(n_jobs=-1)]: Done  43 out of  43 | elapsed:   17.0s finished\n",
            "\n",
            "[2019-01-11 08:50:05] Features: 58/90 -- score: 0.9973050243719535[Parallel(n_jobs=-1)]: Using backend LokyBackend with 2 concurrent workers.\n",
            "[Parallel(n_jobs=-1)]: Done  37 tasks      | elapsed:   15.2s\n",
            "[Parallel(n_jobs=-1)]: Done  42 out of  42 | elapsed:   16.9s finished\n",
            "\n",
            "[2019-01-11 08:50:22] Features: 59/90 -- score: 0.9973284589426322[Parallel(n_jobs=-1)]: Using backend LokyBackend with 2 concurrent workers.\n",
            "[Parallel(n_jobs=-1)]: Done  37 tasks      | elapsed:   14.7s\n",
            "[Parallel(n_jobs=-1)]: Done  41 out of  41 | elapsed:   16.0s finished\n",
            "\n",
            "[2019-01-11 08:50:38] Features: 60/90 -- score: 0.9973050243719535[Parallel(n_jobs=-1)]: Using backend LokyBackend with 2 concurrent workers.\n",
            "[Parallel(n_jobs=-1)]: Done  37 tasks      | elapsed:   15.8s\n",
            "[Parallel(n_jobs=-1)]: Done  40 out of  40 | elapsed:   16.7s finished\n",
            "\n",
            "[2019-01-11 08:50:55] Features: 61/90 -- score: 0.9973050243719535[Parallel(n_jobs=-1)]: Using backend LokyBackend with 2 concurrent workers.\n",
            "[Parallel(n_jobs=-1)]: Done  39 out of  39 | elapsed:   17.3s finished\n",
            "\n",
            "[2019-01-11 08:51:12] Features: 62/90 -- score: 0.9973050243719535[Parallel(n_jobs=-1)]: Using backend LokyBackend with 2 concurrent workers.\n",
            "[Parallel(n_jobs=-1)]: Done  38 out of  38 | elapsed:   16.0s finished\n",
            "\n",
            "[2019-01-11 08:51:28] Features: 63/90 -- score: 0.9973050243719535[Parallel(n_jobs=-1)]: Using backend LokyBackend with 2 concurrent workers.\n",
            "[Parallel(n_jobs=-1)]: Done  37 out of  37 | elapsed:   15.0s finished\n",
            "\n",
            "[2019-01-11 08:51:43] Features: 64/90 -- score: 0.9973050243719535[Parallel(n_jobs=-1)]: Using backend LokyBackend with 2 concurrent workers.\n",
            "[Parallel(n_jobs=-1)]: Done  36 out of  36 | elapsed:   15.6s finished\n",
            "\n",
            "[2019-01-11 08:51:59] Features: 65/90 -- score: 0.9973987626546682[Parallel(n_jobs=-1)]: Using backend LokyBackend with 2 concurrent workers.\n",
            "[Parallel(n_jobs=-1)]: Done  35 out of  35 | elapsed:   15.2s finished\n",
            "\n",
            "[2019-01-11 08:52:14] Features: 66/90 -- score: 0.9973987626546682[Parallel(n_jobs=-1)]: Using backend LokyBackend with 2 concurrent workers.\n",
            "[Parallel(n_jobs=-1)]: Done  34 out of  34 | elapsed:   15.5s finished\n",
            "\n",
            "[2019-01-11 08:52:29] Features: 67/90 -- score: 0.9974221972253469[Parallel(n_jobs=-1)]: Using backend LokyBackend with 2 concurrent workers.\n",
            "[Parallel(n_jobs=-1)]: Done  33 out of  33 | elapsed:   14.5s finished\n",
            "\n",
            "[2019-01-11 08:52:44] Features: 68/90 -- score: 0.9974456317960255[Parallel(n_jobs=-1)]: Using backend LokyBackend with 2 concurrent workers.\n",
            "[Parallel(n_jobs=-1)]: Done  32 out of  32 | elapsed:   14.9s finished\n",
            "\n",
            "[2019-01-11 08:52:59] Features: 69/90 -- score: 0.9974690663667042[Parallel(n_jobs=-1)]: Using backend LokyBackend with 2 concurrent workers.\n",
            "[Parallel(n_jobs=-1)]: Done  31 out of  31 | elapsed:   14.0s finished\n",
            "\n",
            "[2019-01-11 08:53:13] Features: 70/90 -- score: 0.9975159355080615[Parallel(n_jobs=-1)]: Using backend LokyBackend with 2 concurrent workers.\n",
            "[Parallel(n_jobs=-1)]: Done  30 out of  30 | elapsed:   13.8s finished\n",
            "\n",
            "[2019-01-11 08:53:27] Features: 71/90 -- score: 0.9975393700787402[Parallel(n_jobs=-1)]: Using backend LokyBackend with 2 concurrent workers.\n",
            "[Parallel(n_jobs=-1)]: Done  29 out of  29 | elapsed:   13.2s finished\n",
            "\n",
            "[2019-01-11 08:53:40] Features: 72/90 -- score: 0.9975862392200975[Parallel(n_jobs=-1)]: Using backend LokyBackend with 2 concurrent workers.\n",
            "[Parallel(n_jobs=-1)]: Done  28 out of  28 | elapsed:   13.3s finished\n",
            "\n",
            "[2019-01-11 08:53:53] Features: 73/90 -- score: 0.9976096737907761[Parallel(n_jobs=-1)]: Using backend LokyBackend with 2 concurrent workers.\n",
            "[Parallel(n_jobs=-1)]: Done  27 out of  27 | elapsed:   12.9s finished\n",
            "\n",
            "[2019-01-11 08:54:06] Features: 74/90 -- score: 0.9976331083614548[Parallel(n_jobs=-1)]: Using backend LokyBackend with 2 concurrent workers.\n",
            "[Parallel(n_jobs=-1)]: Done  26 out of  26 | elapsed:   13.1s finished\n",
            "\n",
            "[2019-01-11 08:54:19] Features: 75/90 -- score: 0.9976565429321335[Parallel(n_jobs=-1)]: Using backend LokyBackend with 2 concurrent workers.\n",
            "[Parallel(n_jobs=-1)]: Done  25 out of  25 | elapsed:   12.5s finished\n",
            "\n",
            "[2019-01-11 08:54:32] Features: 76/90 -- score: 0.9976565429321335[Parallel(n_jobs=-1)]: Using backend LokyBackend with 2 concurrent workers.\n",
            "[Parallel(n_jobs=-1)]: Done  24 out of  24 | elapsed:   12.6s finished\n",
            "\n",
            "[2019-01-11 08:54:44] Features: 77/90 -- score: 0.9976799775028121[Parallel(n_jobs=-1)]: Using backend LokyBackend with 2 concurrent workers.\n",
            "[Parallel(n_jobs=-1)]: Done  23 out of  23 | elapsed:   12.3s finished\n",
            "\n",
            "[2019-01-11 08:54:56] Features: 78/90 -- score: 0.9976799775028121[Parallel(n_jobs=-1)]: Using backend LokyBackend with 2 concurrent workers.\n",
            "[Parallel(n_jobs=-1)]: Done  22 out of  22 | elapsed:   11.9s finished\n",
            "\n",
            "[2019-01-11 08:55:08] Features: 79/90 -- score: 0.9976565429321335[Parallel(n_jobs=-1)]: Using backend LokyBackend with 2 concurrent workers.\n",
            "[Parallel(n_jobs=-1)]: Done  21 out of  21 | elapsed:   12.4s finished\n",
            "\n",
            "[2019-01-11 08:55:21] Features: 80/90 -- score: 0.9977268466441694[Parallel(n_jobs=-1)]: Using backend LokyBackend with 2 concurrent workers.\n",
            "[Parallel(n_jobs=-1)]: Done  20 out of  20 | elapsed:   11.5s finished\n",
            "\n",
            "[2019-01-11 08:55:32] Features: 81/90 -- score: 0.9977268466441694[Parallel(n_jobs=-1)]: Using backend LokyBackend with 2 concurrent workers.\n",
            "[Parallel(n_jobs=-1)]: Done  19 out of  19 | elapsed:   11.3s finished\n",
            "\n",
            "[2019-01-11 08:55:44] Features: 82/90 -- score: 0.9978440194975629[Parallel(n_jobs=-1)]: Using backend LokyBackend with 2 concurrent workers.\n",
            "[Parallel(n_jobs=-1)]: Done  18 out of  18 | elapsed:   12.6s finished\n",
            "\n",
            "[2019-01-11 08:55:56] Features: 83/90 -- score: 0.9978674540682415[Parallel(n_jobs=-1)]: Using backend LokyBackend with 2 concurrent workers.\n",
            "[Parallel(n_jobs=-1)]: Done  17 out of  17 | elapsed:   11.4s finished\n",
            "\n",
            "[2019-01-11 08:56:08] Features: 84/90 -- score: 0.9978674540682415[Parallel(n_jobs=-1)]: Using backend LokyBackend with 2 concurrent workers.\n",
            "[Parallel(n_jobs=-1)]: Done  16 out of  16 | elapsed:   11.2s finished\n",
            "\n",
            "[2019-01-11 08:56:19] Features: 85/90 -- score: 0.9978674540682415[Parallel(n_jobs=-1)]: Using backend LokyBackend with 2 concurrent workers.\n",
            "[Parallel(n_jobs=-1)]: Done  15 out of  15 | elapsed:   10.4s finished\n",
            "\n",
            "[2019-01-11 08:56:29] Features: 86/90 -- score: 0.9978674540682415[Parallel(n_jobs=-1)]: Using backend LokyBackend with 2 concurrent workers.\n",
            "[Parallel(n_jobs=-1)]: Done  14 out of  14 | elapsed:   10.5s finished\n",
            "\n",
            "[2019-01-11 08:56:40] Features: 87/90 -- score: 0.9978674540682415[Parallel(n_jobs=-1)]: Using backend LokyBackend with 2 concurrent workers.\n",
            "[Parallel(n_jobs=-1)]: Done  13 out of  13 | elapsed:    9.0s finished\n",
            "\n",
            "[2019-01-11 08:56:49] Features: 88/90 -- score: 0.9978674540682415[Parallel(n_jobs=-1)]: Using backend LokyBackend with 2 concurrent workers.\n",
            "[Parallel(n_jobs=-1)]: Done  12 out of  12 | elapsed:    8.7s finished\n",
            "\n",
            "[2019-01-11 08:56:58] Features: 89/90 -- score: 0.9978440194975629[Parallel(n_jobs=-1)]: Using backend LokyBackend with 2 concurrent workers.\n",
            "[Parallel(n_jobs=-1)]: Done  11 out of  11 | elapsed:    8.0s finished\n",
            "\n",
            "[2019-01-11 08:57:06] Features: 90/90 -- score: 0.9978674540682415"
          ],
          "name": "stderr"
        }
      ]
    },
    {
      "metadata": {
        "id": "iii-gA2KwT9U",
        "colab_type": "code",
        "colab": {
          "base_uri": "https://localhost:8080/",
          "height": 466
        },
        "outputId": "4d9fb9f7-09ce-4ff4-d385-a44d84c7dea7"
      },
      "cell_type": "code",
      "source": [
        "fig = plot_sequential_feature_selection(selector.get_metric_dict(), kind='std_dev')\n",
        "plt.ylim([0.94, 1])\n",
        "plt.title('Sequential forward Selection')\n",
        "plt.grid()\n",
        "plt.show()"
      ],
      "execution_count": 19,
      "outputs": [
        {
          "output_type": "stream",
          "text": [
            "/usr/local/lib/python3.6/dist-packages/numpy/core/_methods.py:135: RuntimeWarning: Degrees of freedom <= 0 for slice\n",
            "  keepdims=keepdims)\n",
            "/usr/local/lib/python3.6/dist-packages/numpy/core/_methods.py:127: RuntimeWarning: invalid value encountered in double_scalars\n",
            "  ret = ret.dtype.type(ret / rcount)\n"
          ],
          "name": "stderr"
        },
        {
          "output_type": "display_data",
          "data": {
            "image/png": "[encoded data removed]",
            "text/plain": [
              "<matplotlib.figure.Figure at 0x7f703b503278>"
            ]
          },
          "metadata": {
            "tags": []
          }
        }
      ]
    },
    {
      "metadata": {
        "id": "cds3OlbhwaB3",
        "colab_type": "code",
        "colab": {}
      },
      "cell_type": "code",
      "source": [
        "needed_features = selector.subsets_[20]['feature_idx']"
      ],
      "execution_count": 0,
      "outputs": []
    },
    {
      "metadata": {
        "id": "Oj7gB2gTE252",
        "colab_type": "text"
      },
      "cell_type": "markdown",
      "source": [
        "influence of RSK\n",
        "\n",
        "correlatin in fa to tune num of facs\n",
        "\n",
        "docs percent"
      ]
    },
    {
      "metadata": {
        "id": "rYimzURvIPjR",
        "colab_type": "code",
        "colab": {}
      },
      "cell_type": "code",
      "source": [
        ""
      ],
      "execution_count": 0,
      "outputs": []
    }
  ]
}