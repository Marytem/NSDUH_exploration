{
  "nbformat": 4,
  "nbformat_minor": 0,
  "metadata": {
    "colab": {
      "name": "data_processing.ipynb",
      "version": "0.3.2",
      "provenance": [],
      "collapsed_sections": []
    },
    "kernelspec": {
      "name": "python3",
      "display_name": "Python 3"
    }
  },
  "cells": [
    {
      "metadata": {
        "id": "F6HbHZwgCIvg",
        "colab_type": "text"
      },
      "cell_type": "markdown",
      "source": [
        "## Data processing"
      ]
    },
    {
      "metadata": {
        "id": "JpSBpOfjFokn",
        "colab_type": "code",
        "colab": {}
      },
      "cell_type": "code",
      "source": [
        "import pandas as pd\n",
        "import numpy as np\n",
        "from sklearn.impute import SimpleImputer"
      ],
      "execution_count": 0,
      "outputs": []
    },
    {
      "metadata": {
        "id": "hSRFOpe4F0KQ",
        "colab_type": "code",
        "colab": {
          "base_uri": "https://localhost:8080/",
          "height": 71
        },
        "outputId": "3dedb603-1f4a-4d55-ce4a-3816b1d52099"
      },
      "cell_type": "code",
      "source": [
        "data = pd.read_csv('prepared_data.csv')\n",
        "targets = pd.read_csv('targets.csv')"
      ],
      "execution_count": 6,
      "outputs": [
        {
          "output_type": "stream",
          "text": [
            "/usr/local/lib/python3.6/dist-packages/IPython/core/interactiveshell.py:2718: DtypeWarning: Columns (2283) have mixed types. Specify dtype option on import or set low_memory=False.\n",
            "  interactivity=interactivity, compiler=compiler, result=result)\n"
          ],
          "name": "stderr"
        }
      ]
    },
    {
      "metadata": {
        "id": "q3mog4biPvMn",
        "colab_type": "code",
        "colab": {
          "base_uri": "https://localhost:8080/",
          "height": 346
        },
        "outputId": "817d6a26-133e-4da1-d595-ed442631c171"
      },
      "cell_type": "code",
      "source": [
        "data.describe()"
      ],
      "execution_count": 12,
      "outputs": [
        {
          "output_type": "execute_result",
          "data": {
            "text/html": [
              "<div>\n",
              "<style scoped>\n",
              "    .dataframe tbody tr th:only-of-type {\n",
              "        vertical-align: middle;\n",
              "    }\n",
              "\n",
              "    .dataframe tbody tr th {\n",
              "        vertical-align: top;\n",
              "    }\n",
              "\n",
              "    .dataframe thead th {\n",
              "        text-align: right;\n",
              "    }\n",
              "</style>\n",
              "<table border=\"1\" class=\"dataframe\">\n",
              "  <thead>\n",
              "    <tr style=\"text-align: right;\">\n",
              "      <th></th>\n",
              "      <th>Unnamed: 0</th>\n",
              "      <th>CIGEVER</th>\n",
              "      <th>CIGOFRSM</th>\n",
              "      <th>CIGWILYR</th>\n",
              "      <th>CIGTRY</th>\n",
              "      <th>CIGMFU</th>\n",
              "      <th>CIGREC</th>\n",
              "      <th>CIG30USE</th>\n",
              "      <th>CG30EST</th>\n",
              "      <th>CIG30AV</th>\n",
              "      <th>...</th>\n",
              "      <th>IRFAMIN3</th>\n",
              "      <th>GOVTPROG</th>\n",
              "      <th>INCOME</th>\n",
              "      <th>POVERTY3</th>\n",
              "      <th>TOOLONG</th>\n",
              "      <th>TROUBUND</th>\n",
              "      <th>PDEN10</th>\n",
              "      <th>COUTYP4</th>\n",
              "      <th>MAIIN102</th>\n",
              "      <th>AIIND102</th>\n",
              "    </tr>\n",
              "  </thead>\n",
              "  <tbody>\n",
              "    <tr>\n",
              "      <th>count</th>\n",
              "      <td>48175.000000</td>\n",
              "      <td>48175.000000</td>\n",
              "      <td>48167.000000</td>\n",
              "      <td>48165.000000</td>\n",
              "      <td>47863.000000</td>\n",
              "      <td>47710.000000</td>\n",
              "      <td>48175.000000</td>\n",
              "      <td>48083.000000</td>\n",
              "      <td>48145.000000</td>\n",
              "      <td>48137.000000</td>\n",
              "      <td>...</td>\n",
              "      <td>48174.000000</td>\n",
              "      <td>48174.000000</td>\n",
              "      <td>48174.000000</td>\n",
              "      <td>47786.000000</td>\n",
              "      <td>48071.000000</td>\n",
              "      <td>48071.000000</td>\n",
              "      <td>48174.000000</td>\n",
              "      <td>48174.000000</td>\n",
              "      <td>48174.000000</td>\n",
              "      <td>48174.000000</td>\n",
              "    </tr>\n",
              "    <tr>\n",
              "      <th>mean</th>\n",
              "      <td>24087.000000</td>\n",
              "      <td>1.511738</td>\n",
              "      <td>78.221023</td>\n",
              "      <td>78.231454</td>\n",
              "      <td>518.146773</td>\n",
              "      <td>92.972018</td>\n",
              "      <td>47.891977</td>\n",
              "      <td>78.476197</td>\n",
              "      <td>92.980164</td>\n",
              "      <td>75.172051</td>\n",
              "      <td>...</td>\n",
              "      <td>4.838627</td>\n",
              "      <td>1.774235</td>\n",
              "      <td>2.635945</td>\n",
              "      <td>2.386933</td>\n",
              "      <td>1.936199</td>\n",
              "      <td>1.952737</td>\n",
              "      <td>1.653298</td>\n",
              "      <td>1.746959</td>\n",
              "      <td>1.980757</td>\n",
              "      <td>1.980861</td>\n",
              "    </tr>\n",
              "    <tr>\n",
              "      <th>std</th>\n",
              "      <td>13907.068946</td>\n",
              "      <td>0.499867</td>\n",
              "      <td>39.311267</td>\n",
              "      <td>39.295169</td>\n",
              "      <td>487.343948</td>\n",
              "      <td>13.078214</td>\n",
              "      <td>44.160047</td>\n",
              "      <td>28.145189</td>\n",
              "      <td>4.359900</td>\n",
              "      <td>34.483832</td>\n",
              "      <td>...</td>\n",
              "      <td>2.095976</td>\n",
              "      <td>0.418089</td>\n",
              "      <td>1.143432</td>\n",
              "      <td>0.794082</td>\n",
              "      <td>0.244401</td>\n",
              "      <td>0.212204</td>\n",
              "      <td>0.619325</td>\n",
              "      <td>0.764557</td>\n",
              "      <td>0.137379</td>\n",
              "      <td>0.137015</td>\n",
              "    </tr>\n",
              "    <tr>\n",
              "      <th>min</th>\n",
              "      <td>0.000000</td>\n",
              "      <td>1.000000</td>\n",
              "      <td>1.000000</td>\n",
              "      <td>1.000000</td>\n",
              "      <td>1.000000</td>\n",
              "      <td>1.000000</td>\n",
              "      <td>1.000000</td>\n",
              "      <td>1.000000</td>\n",
              "      <td>1.000000</td>\n",
              "      <td>1.000000</td>\n",
              "      <td>...</td>\n",
              "      <td>1.000000</td>\n",
              "      <td>1.000000</td>\n",
              "      <td>1.000000</td>\n",
              "      <td>1.000000</td>\n",
              "      <td>1.000000</td>\n",
              "      <td>1.000000</td>\n",
              "      <td>1.000000</td>\n",
              "      <td>1.000000</td>\n",
              "      <td>1.000000</td>\n",
              "      <td>1.000000</td>\n",
              "    </tr>\n",
              "    <tr>\n",
              "      <th>25%</th>\n",
              "      <td>12043.500000</td>\n",
              "      <td>1.000000</td>\n",
              "      <td>99.000000</td>\n",
              "      <td>99.000000</td>\n",
              "      <td>16.000000</td>\n",
              "      <td>91.000000</td>\n",
              "      <td>3.000000</td>\n",
              "      <td>91.000000</td>\n",
              "      <td>91.000000</td>\n",
              "      <td>91.000000</td>\n",
              "      <td>...</td>\n",
              "      <td>3.000000</td>\n",
              "      <td>2.000000</td>\n",
              "      <td>2.000000</td>\n",
              "      <td>2.000000</td>\n",
              "      <td>2.000000</td>\n",
              "      <td>2.000000</td>\n",
              "      <td>1.000000</td>\n",
              "      <td>1.000000</td>\n",
              "      <td>2.000000</td>\n",
              "      <td>2.000000</td>\n",
              "    </tr>\n",
              "    <tr>\n",
              "      <th>50%</th>\n",
              "      <td>24087.000000</td>\n",
              "      <td>2.000000</td>\n",
              "      <td>99.000000</td>\n",
              "      <td>99.000000</td>\n",
              "      <td>991.000000</td>\n",
              "      <td>91.000000</td>\n",
              "      <td>91.000000</td>\n",
              "      <td>91.000000</td>\n",
              "      <td>91.000000</td>\n",
              "      <td>91.000000</td>\n",
              "      <td>...</td>\n",
              "      <td>5.000000</td>\n",
              "      <td>2.000000</td>\n",
              "      <td>2.000000</td>\n",
              "      <td>3.000000</td>\n",
              "      <td>2.000000</td>\n",
              "      <td>2.000000</td>\n",
              "      <td>2.000000</td>\n",
              "      <td>2.000000</td>\n",
              "      <td>2.000000</td>\n",
              "      <td>2.000000</td>\n",
              "    </tr>\n",
              "    <tr>\n",
              "      <th>75%</th>\n",
              "      <td>36130.500000</td>\n",
              "      <td>2.000000</td>\n",
              "      <td>99.000000</td>\n",
              "      <td>99.000000</td>\n",
              "      <td>991.000000</td>\n",
              "      <td>99.000000</td>\n",
              "      <td>91.000000</td>\n",
              "      <td>93.000000</td>\n",
              "      <td>93.000000</td>\n",
              "      <td>93.000000</td>\n",
              "      <td>...</td>\n",
              "      <td>7.000000</td>\n",
              "      <td>2.000000</td>\n",
              "      <td>4.000000</td>\n",
              "      <td>3.000000</td>\n",
              "      <td>2.000000</td>\n",
              "      <td>2.000000</td>\n",
              "      <td>2.000000</td>\n",
              "      <td>2.000000</td>\n",
              "      <td>2.000000</td>\n",
              "      <td>2.000000</td>\n",
              "    </tr>\n",
              "    <tr>\n",
              "      <th>max</th>\n",
              "      <td>48174.000000</td>\n",
              "      <td>2.000000</td>\n",
              "      <td>99.000000</td>\n",
              "      <td>99.000000</td>\n",
              "      <td>991.000000</td>\n",
              "      <td>99.000000</td>\n",
              "      <td>91.000000</td>\n",
              "      <td>93.000000</td>\n",
              "      <td>99.000000</td>\n",
              "      <td>93.000000</td>\n",
              "      <td>...</td>\n",
              "      <td>7.000000</td>\n",
              "      <td>2.000000</td>\n",
              "      <td>4.000000</td>\n",
              "      <td>3.000000</td>\n",
              "      <td>2.000000</td>\n",
              "      <td>2.000000</td>\n",
              "      <td>3.000000</td>\n",
              "      <td>3.000000</td>\n",
              "      <td>2.000000</td>\n",
              "      <td>2.000000</td>\n",
              "    </tr>\n",
              "  </tbody>\n",
              "</table>\n",
              "<p>8 rows × 2418 columns</p>\n",
              "</div>"
            ],
            "text/plain": [
              "         Unnamed: 0       CIGEVER      CIGOFRSM      CIGWILYR        CIGTRY  \\\n",
              "count  48175.000000  48175.000000  48167.000000  48165.000000  47863.000000   \n",
              "mean   24087.000000      1.511738     78.221023     78.231454    518.146773   \n",
              "std    13907.068946      0.499867     39.311267     39.295169    487.343948   \n",
              "min        0.000000      1.000000      1.000000      1.000000      1.000000   \n",
              "25%    12043.500000      1.000000     99.000000     99.000000     16.000000   \n",
              "50%    24087.000000      2.000000     99.000000     99.000000    991.000000   \n",
              "75%    36130.500000      2.000000     99.000000     99.000000    991.000000   \n",
              "max    48174.000000      2.000000     99.000000     99.000000    991.000000   \n",
              "\n",
              "             CIGMFU        CIGREC      CIG30USE       CG30EST       CIG30AV  \\\n",
              "count  47710.000000  48175.000000  48083.000000  48145.000000  48137.000000   \n",
              "mean      92.972018     47.891977     78.476197     92.980164     75.172051   \n",
              "std       13.078214     44.160047     28.145189      4.359900     34.483832   \n",
              "min        1.000000      1.000000      1.000000      1.000000      1.000000   \n",
              "25%       91.000000      3.000000     91.000000     91.000000     91.000000   \n",
              "50%       91.000000     91.000000     91.000000     91.000000     91.000000   \n",
              "75%       99.000000     91.000000     93.000000     93.000000     93.000000   \n",
              "max       99.000000     91.000000     93.000000     99.000000     93.000000   \n",
              "\n",
              "           ...           IRFAMIN3      GOVTPROG        INCOME      POVERTY3  \\\n",
              "count      ...       48174.000000  48174.000000  48174.000000  47786.000000   \n",
              "mean       ...           4.838627      1.774235      2.635945      2.386933   \n",
              "std        ...           2.095976      0.418089      1.143432      0.794082   \n",
              "min        ...           1.000000      1.000000      1.000000      1.000000   \n",
              "25%        ...           3.000000      2.000000      2.000000      2.000000   \n",
              "50%        ...           5.000000      2.000000      2.000000      3.000000   \n",
              "75%        ...           7.000000      2.000000      4.000000      3.000000   \n",
              "max        ...           7.000000      2.000000      4.000000      3.000000   \n",
              "\n",
              "            TOOLONG      TROUBUND        PDEN10       COUTYP4      MAIIN102  \\\n",
              "count  48071.000000  48071.000000  48174.000000  48174.000000  48174.000000   \n",
              "mean       1.936199      1.952737      1.653298      1.746959      1.980757   \n",
              "std        0.244401      0.212204      0.619325      0.764557      0.137379   \n",
              "min        1.000000      1.000000      1.000000      1.000000      1.000000   \n",
              "25%        2.000000      2.000000      1.000000      1.000000      2.000000   \n",
              "50%        2.000000      2.000000      2.000000      2.000000      2.000000   \n",
              "75%        2.000000      2.000000      2.000000      2.000000      2.000000   \n",
              "max        2.000000      2.000000      3.000000      3.000000      2.000000   \n",
              "\n",
              "           AIIND102  \n",
              "count  48174.000000  \n",
              "mean       1.980861  \n",
              "std        0.137015  \n",
              "min        1.000000  \n",
              "25%        2.000000  \n",
              "50%        2.000000  \n",
              "75%        2.000000  \n",
              "max        2.000000  \n",
              "\n",
              "[8 rows x 2418 columns]"
            ]
          },
          "metadata": {
            "tags": []
          },
          "execution_count": 12
        }
      ]
    },
    {
      "metadata": {
        "id": "TZ3SMeADDkJa",
        "colab_type": "text"
      },
      "cell_type": "markdown",
      "source": [
        "#### Data Separation\n",
        "I want to predict if a person uses particular drug using answers to the specific-drug-unrelated questions in the survey and then using questions not connected to any drug usage. For that I need to separate all drug related variables from general data.\n",
        "\n",
        "##### Prefixes in variables-questions used for every type of drug:"
      ]
    },
    {
      "metadata": {
        "id": "AWSfrZxiUYBT",
        "colab_type": "code",
        "colab": {
          "base_uri": "https://localhost:8080/",
          "height": 102
        },
        "outputId": "9e92c303-567a-42ad-b1f4-f34c743c3e51"
      },
      "cell_type": "code",
      "source": [
        "data['CIGTRY'].unique()"
      ],
      "execution_count": 16,
      "outputs": [
        {
          "output_type": "execute_result",
          "data": {
            "text/plain": [
              "array([ 16.,  15.,  26., 991.,   5.,  12.,  nan,  22.,  14.,  35.,  18.,\n",
              "        19.,  17.,  21.,  10.,   9.,  11.,   7.,  13.,  25.,  23.,  28.,\n",
              "        20.,   6.,  30.,   8.,  24.,  27.,  32.,  34.,   4.,  42.,  29.,\n",
              "        40.,  31.,  39.,  36.,  47.,  48.,   3.,  33.,  38.,  45.,  60.,\n",
              "        44.,   2.,  46.,  37.,   1.,  50.,  43.,  51.,  55.,  61.])"
            ]
          },
          "metadata": {
            "tags": []
          },
          "execution_count": 16
        }
      ]
    },
    {
      "metadata": {
        "id": "eGFRjSer9in0",
        "colab_type": "code",
        "colab": {}
      },
      "cell_type": "code",
      "source": [
        "halucinogens = ['LSD', 'PCP','PEYOTE','MESC','PSILCY','ECST','KET','DMTAMTFXY','SALVIADIV']\n",
        "inhalants = ['AMYLNIT', 'CLEFLU', 'GAS', 'GLUE', 'ETHER', 'SOLVENT', 'LGAS', 'NITOXID',\n",
        "             'FELTMARKR', 'SPPAINT', 'AIRDUSTER', 'OTHAEROS']"
      ],
      "execution_count": 0,
      "outputs": []
    },
    {
      "metadata": {
        "id": "HX7QdsqqDw_n",
        "colab_type": "code",
        "colab": {}
      },
      "cell_type": "code",
      "source": [
        "prefixes = {}\n",
        "prefixes['tobacco'] = 'CIG', 'CGR', 'CI3', 'PIP', 'SMK', 'TOB', 'CD'\n",
        "prefixes['alcohol'] = ('AL')\n",
        "prefixes['marijuana'] = 'MJ', 'MR'\n",
        "prefixes['cocaine'] = 'COC', 'CC', 'CON'\n",
        "prefixes['crack'] = 'CRK', 'CR' \n",
        "prefixes['heroin'] = 'HER', 'HR', 'HEO'\n",
        "prefixes['hallucinogens'] = ['HAL']+halucinogens\n",
        "prefixes['inhalants'] = ['INH']+inhalants\n",
        "prefixes['methamphetamine'] = 'MET', 'ME'\n",
        "prefixes['pain relievers'] = 'PNR', 'OXC'\n",
        "prefixes['tranqualizers'] = ('TRQ')\n",
        "prefixes['stimulants'] = 'SED', 'PSY'\n",
        "prefixes['sedaives'] = ('STM')\n",
        "prefixes['special drugs'] = 'COLD', 'GH', 'OT'\n",
        "prefixes['general about drugs'] = ('GNN')"
      ],
      "execution_count": 0,
      "outputs": []
    },
    {
      "metadata": {
        "id": "mc5bYfHfDw7O",
        "colab_type": "code",
        "colab": {
          "base_uri": "https://localhost:8080/",
          "height": 34
        },
        "outputId": "d3f83851-3e74-430b-aa0f-cba6926f35a3"
      },
      "cell_type": "code",
      "source": [
        "drug_cols = []\n",
        "for drug in prefixes.keys():\n",
        "  drug_cols += [col for col in data.columns if col.startswith(tuple(prefixes[drug]))]\n",
        "len(drug_cols)"
      ],
      "execution_count": 10,
      "outputs": [
        {
          "output_type": "execute_result",
          "data": {
            "text/plain": [
              "1927"
            ]
          },
          "metadata": {
            "tags": []
          },
          "execution_count": 10
        }
      ]
    },
    {
      "metadata": {
        "id": "FnS5vB_XIp0j",
        "colab_type": "text"
      },
      "cell_type": "markdown",
      "source": [
        "#### Dealing with missing values\n",
        "Due to the cpecifics of the survey data I'll use 2 types of missing value imputation. For all drug-related columns I'll use global most common substitution, because most peope do not use drugs. The rest columns with missing values will be imputed by KNN model"
      ]
    },
    {
      "metadata": {
        "id": "ufclcjngDw4O",
        "colab_type": "code",
        "colab": {}
      },
      "cell_type": "code",
      "source": [
        "imputer = SimpleImputer(missing_values = np.nan, strategy = 'most_frequent')\n",
        "imputer.fit_transform(data[drug_cols])"
      ],
      "execution_count": 0,
      "outputs": []
    },
    {
      "metadata": {
        "id": "3UXDNXtwDwuu",
        "colab_type": "code",
        "colab": {}
      },
      "cell_type": "code",
      "source": [
        ""
      ],
      "execution_count": 0,
      "outputs": []
    },
    {
      "metadata": {
        "id": "FJBcpWJ4DwgT",
        "colab_type": "code",
        "colab": {}
      },
      "cell_type": "code",
      "source": [
        ""
      ],
      "execution_count": 0,
      "outputs": []
    },
    {
      "metadata": {
        "id": "V3FpATK2E1_K",
        "colab_type": "code",
        "colab": {}
      },
      "cell_type": "code",
      "source": [
        ""
      ],
      "execution_count": 0,
      "outputs": []
    },
    {
      "metadata": {
        "id": "Oj7gB2gTE252",
        "colab_type": "text"
      },
      "cell_type": "markdown",
      "source": [
        "influence of RSK\n",
        "\n",
        "special drugs\n",
        "\n",
        "needle any"
      ]
    }
  ]
}