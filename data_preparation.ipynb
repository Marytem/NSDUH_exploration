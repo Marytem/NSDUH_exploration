{
  "nbformat": 4,
  "nbformat_minor": 0,
  "metadata": {
    "colab": {
      "name": "data_preparation.ipynb",
      "version": "0.3.2",
      "provenance": [],
      "collapsed_sections": [],
      "toc_visible": true
    },
    "kernelspec": {
      "name": "python3",
      "display_name": "Python 3"
    },
    "accelerator": "GPU"
  },
  "cells": [
    {
      "metadata": {
        "id": "2xAmlp_tr95f",
        "colab_type": "text"
      },
      "cell_type": "markdown",
      "source": [
        "## Data preparation"
      ]
    },
    {
      "metadata": {
        "id": "Rzs4JnEgr95h",
        "colab_type": "code",
        "colab": {}
      },
      "cell_type": "code",
      "source": [
        "import pandas as pd\n",
        "import numpy as np"
      ],
      "execution_count": 0,
      "outputs": []
    },
    {
      "metadata": {
        "id": "NJQU1p9Vr95n",
        "colab_type": "code",
        "outputId": "7dd6bd21-d03d-410e-ac25-65920b35315b",
        "colab": {
          "base_uri": "https://localhost:8080/",
          "height": 88
        }
      },
      "cell_type": "code",
      "source": [
        "data = pd.read_csv('NSDUH_2016_Tab.tsv', sep='\\t')\n",
        "data.shape"
      ],
      "execution_count": 48,
      "outputs": [
        {
          "output_type": "stream",
          "text": [
            "/usr/local/lib/python3.6/dist-packages/IPython/core/interactiveshell.py:2718: DtypeWarning: Columns (2506) have mixed types. Specify dtype option on import or set low_memory=False.\n",
            "  interactivity=interactivity, compiler=compiler, result=result)\n"
          ],
          "name": "stderr"
        },
        {
          "output_type": "execute_result",
          "data": {
            "text/plain": [
              "(56897, 2668)"
            ]
          },
          "metadata": {
            "tags": []
          },
          "execution_count": 48
        }
      ]
    },
    {
      "metadata": {
        "id": "a_TDaQclr95v",
        "colab_type": "text"
      },
      "cell_type": "markdown",
      "source": [
        "All column names in the dataset make no sense, so great amount of time was spent on understanding the data using appr. 700-page documentation on every column(question in the survey) of 2668 columns.\n",
        "\n"
      ]
    },
    {
      "metadata": {
        "id": "ZEuRRBM_r95x",
        "colab_type": "code",
        "outputId": "5b4f0fdf-4a24-4d67-8b2e-c453cc74873a",
        "colab": {
          "base_uri": "https://localhost:8080/",
          "height": 253
        }
      },
      "cell_type": "code",
      "source": [
        "data.head(5)"
      ],
      "execution_count": 49,
      "outputs": [
        {
          "output_type": "execute_result",
          "data": {
            "text/html": [
              "<div>\n",
              "<style scoped>\n",
              "    .dataframe tbody tr th:only-of-type {\n",
              "        vertical-align: middle;\n",
              "    }\n",
              "\n",
              "    .dataframe tbody tr th {\n",
              "        vertical-align: top;\n",
              "    }\n",
              "\n",
              "    .dataframe thead th {\n",
              "        text-align: right;\n",
              "    }\n",
              "</style>\n",
              "<table border=\"1\" class=\"dataframe\">\n",
              "  <thead>\n",
              "    <tr style=\"text-align: right;\">\n",
              "      <th></th>\n",
              "      <th>QUESTID2</th>\n",
              "      <th>FILEDATE</th>\n",
              "      <th>CIGEVER</th>\n",
              "      <th>CIGOFRSM</th>\n",
              "      <th>CIGWILYR</th>\n",
              "      <th>CIGTRY</th>\n",
              "      <th>CIGYFU</th>\n",
              "      <th>CIGMFU</th>\n",
              "      <th>CIGREC</th>\n",
              "      <th>CIG30USE</th>\n",
              "      <th>...</th>\n",
              "      <th>POVERTY3</th>\n",
              "      <th>TOOLONG</th>\n",
              "      <th>TROUBUND</th>\n",
              "      <th>PDEN10</th>\n",
              "      <th>COUTYP4</th>\n",
              "      <th>MAIIN102</th>\n",
              "      <th>AIIND102</th>\n",
              "      <th>ANALWT_C</th>\n",
              "      <th>VESTR</th>\n",
              "      <th>VEREP</th>\n",
              "    </tr>\n",
              "  </thead>\n",
              "  <tbody>\n",
              "    <tr>\n",
              "      <th>0</th>\n",
              "      <td>11635143</td>\n",
              "      <td>02/28/2018</td>\n",
              "      <td>1</td>\n",
              "      <td>99</td>\n",
              "      <td>99</td>\n",
              "      <td>16</td>\n",
              "      <td>9999</td>\n",
              "      <td>99</td>\n",
              "      <td>4</td>\n",
              "      <td>93</td>\n",
              "      <td>...</td>\n",
              "      <td>3.0</td>\n",
              "      <td>2</td>\n",
              "      <td>2</td>\n",
              "      <td>3</td>\n",
              "      <td>3</td>\n",
              "      <td>2</td>\n",
              "      <td>2</td>\n",
              "      <td>819.434247</td>\n",
              "      <td>40037</td>\n",
              "      <td>2</td>\n",
              "    </tr>\n",
              "    <tr>\n",
              "      <th>1</th>\n",
              "      <td>36845143</td>\n",
              "      <td>02/28/2018</td>\n",
              "      <td>1</td>\n",
              "      <td>99</td>\n",
              "      <td>99</td>\n",
              "      <td>15</td>\n",
              "      <td>9999</td>\n",
              "      <td>99</td>\n",
              "      <td>1</td>\n",
              "      <td>7</td>\n",
              "      <td>...</td>\n",
              "      <td>3.0</td>\n",
              "      <td>1</td>\n",
              "      <td>2</td>\n",
              "      <td>2</td>\n",
              "      <td>2</td>\n",
              "      <td>2</td>\n",
              "      <td>2</td>\n",
              "      <td>280.624352</td>\n",
              "      <td>40013</td>\n",
              "      <td>2</td>\n",
              "    </tr>\n",
              "    <tr>\n",
              "      <th>2</th>\n",
              "      <td>35755143</td>\n",
              "      <td>02/28/2018</td>\n",
              "      <td>1</td>\n",
              "      <td>99</td>\n",
              "      <td>99</td>\n",
              "      <td>26</td>\n",
              "      <td>9999</td>\n",
              "      <td>99</td>\n",
              "      <td>1</td>\n",
              "      <td>7</td>\n",
              "      <td>...</td>\n",
              "      <td>2.0</td>\n",
              "      <td>2</td>\n",
              "      <td>2</td>\n",
              "      <td>1</td>\n",
              "      <td>1</td>\n",
              "      <td>2</td>\n",
              "      <td>2</td>\n",
              "      <td>10133.833583</td>\n",
              "      <td>40036</td>\n",
              "      <td>2</td>\n",
              "    </tr>\n",
              "    <tr>\n",
              "      <th>3</th>\n",
              "      <td>94475143</td>\n",
              "      <td>02/28/2018</td>\n",
              "      <td>2</td>\n",
              "      <td>4</td>\n",
              "      <td>4</td>\n",
              "      <td>991</td>\n",
              "      <td>9991</td>\n",
              "      <td>91</td>\n",
              "      <td>91</td>\n",
              "      <td>91</td>\n",
              "      <td>...</td>\n",
              "      <td>3.0</td>\n",
              "      <td>2</td>\n",
              "      <td>2</td>\n",
              "      <td>1</td>\n",
              "      <td>1</td>\n",
              "      <td>2</td>\n",
              "      <td>2</td>\n",
              "      <td>2284.717175</td>\n",
              "      <td>40028</td>\n",
              "      <td>1</td>\n",
              "    </tr>\n",
              "    <tr>\n",
              "      <th>4</th>\n",
              "      <td>92675143</td>\n",
              "      <td>02/28/2018</td>\n",
              "      <td>1</td>\n",
              "      <td>99</td>\n",
              "      <td>99</td>\n",
              "      <td>5</td>\n",
              "      <td>9999</td>\n",
              "      <td>99</td>\n",
              "      <td>4</td>\n",
              "      <td>93</td>\n",
              "      <td>...</td>\n",
              "      <td>3.0</td>\n",
              "      <td>2</td>\n",
              "      <td>2</td>\n",
              "      <td>1</td>\n",
              "      <td>1</td>\n",
              "      <td>2</td>\n",
              "      <td>2</td>\n",
              "      <td>24815.892373</td>\n",
              "      <td>40009</td>\n",
              "      <td>2</td>\n",
              "    </tr>\n",
              "  </tbody>\n",
              "</table>\n",
              "<p>5 rows × 2668 columns</p>\n",
              "</div>"
            ],
            "text/plain": [
              "   QUESTID2    FILEDATE  CIGEVER  CIGOFRSM  CIGWILYR  CIGTRY  CIGYFU  CIGMFU  \\\n",
              "0  11635143  02/28/2018        1        99        99      16    9999      99   \n",
              "1  36845143  02/28/2018        1        99        99      15    9999      99   \n",
              "2  35755143  02/28/2018        1        99        99      26    9999      99   \n",
              "3  94475143  02/28/2018        2         4         4     991    9991      91   \n",
              "4  92675143  02/28/2018        1        99        99       5    9999      99   \n",
              "\n",
              "   CIGREC  CIG30USE  ...    POVERTY3  TOOLONG  TROUBUND  PDEN10  COUTYP4  \\\n",
              "0       4        93  ...         3.0        2         2       3        3   \n",
              "1       1         7  ...         3.0        1         2       2        2   \n",
              "2       1         7  ...         2.0        2         2       1        1   \n",
              "3      91        91  ...         3.0        2         2       1        1   \n",
              "4       4        93  ...         3.0        2         2       1        1   \n",
              "\n",
              "   MAIIN102  AIIND102      ANALWT_C  VESTR  VEREP  \n",
              "0         2         2    819.434247  40037      2  \n",
              "1         2         2    280.624352  40013      2  \n",
              "2         2         2  10133.833583  40036      2  \n",
              "3         2         2   2284.717175  40028      1  \n",
              "4         2         2  24815.892373  40009      2  \n",
              "\n",
              "[5 rows x 2668 columns]"
            ]
          },
          "metadata": {
            "tags": []
          },
          "execution_count": 49
        }
      ]
    },
    {
      "metadata": {
        "id": "XAFOplL1r954",
        "colab_type": "text"
      },
      "cell_type": "markdown",
      "source": [
        "#### Some values meaning(from documentation):\n",
        "\n",
        "91 or 991 or 9991, etc. = NEVER USED [DRUG(s) OF INTEREST] \n",
        "\n",
        "93 or 993 or 9993, etc. = USED [DRUG] BUT NOT IN THE PERIOD OF INTEREST\n",
        "\n",
        "94 or 994 or 9994, etc. = DON'T KNOW\n",
        "\n",
        "97 or 997 or 9997, etc. = REFUSED\n",
        "\n",
        "98 or 998 or 9998, etc. = BLANK (i.e., not answered; not asked the question)\n",
        "\n",
        "99 or 999 or 9999, etc. = LEGITIMATE SKIP\n",
        "\n",
        "94-7-8 - missing\n",
        "\n",
        "81 (or 981, 9981, etc.) = NEVER USED [DRUG(s) OF INTEREST] Logicall yassigned\n",
        "\n",
        "83 (or 983, 9983, etc.) = USED [DRUG] BUT NOT IN THE PERIOD OF INTEREST Logically assigned\n",
        "\n",
        "85 (or 985, 9985, etc.) = BAD DATA Logically assigned (i.e., usually inconsistent with other data)\n",
        "\n",
        "89 (or 989, or 9989, etc.) = LEGITIMATE SKIP Logically assigned\n",
        "\n",
        "'IR' 'IMP REV' 'IMPUTATION REVISITED' - indicators for missing values except for IRSEX\n",
        "\n",
        "\"IMPUTATION INDICATOR\" 'IMP IND' 'II' \"II2\"- Associated indicator variables tell which values are imputed and which ones are not"
      ]
    },
    {
      "metadata": {
        "id": "trnhGyZnr96M",
        "colab_type": "text"
      },
      "cell_type": "markdown",
      "source": [
        "#### Columns cleaning\n",
        "__note__ : I decided to use imputed values provided in the dataset, where possible. As documentation explains, they used special imputation techniques designed for this survey specifically and even for each SSregion specifically. \n",
        "\n",
        "To find useless columns and prefixes I investigated the documentation provided to this survey(NSDUH-2016-DS0001-info-codebook.pdf file in the repository). "
      ]
    },
    {
      "metadata": {
        "id": "TbuQKLSCr96N",
        "colab_type": "code",
        "outputId": "124af0e9-643b-4d35-bb7d-614d28eeef1e",
        "colab": {
          "base_uri": "https://localhost:8080/",
          "height": 34
        }
      },
      "cell_type": "code",
      "source": [
        "# drop columns with info about imputation\n",
        "data.drop([col for col in data if col.startswith(('II', 'EI'))], axis=1, inplace=True)\n",
        "data.shape"
      ],
      "execution_count": 50,
      "outputs": [
        {
          "output_type": "execute_result",
          "data": {
            "text/plain": [
              "(56897, 2495)"
            ]
          },
          "metadata": {
            "tags": []
          },
          "execution_count": 50
        }
      ]
    },
    {
      "metadata": {
        "id": "k2mSkD-9r96T",
        "colab_type": "code",
        "outputId": "45309806-2ea5-4279-cff1-915b9adc32a2",
        "colab": {
          "base_uri": "https://localhost:8080/",
          "height": 34
        }
      },
      "cell_type": "code",
      "source": [
        "# drop variables for which there exists imputed analogue\n",
        "imputed_cols = [col for col in data if col.startswith('IR')]\n",
        "data.drop([col.strip('IR') for col in imputed_cols], axis=1, inplace=True, errors='ignore')\n",
        "data.shape"
      ],
      "execution_count": 51,
      "outputs": [
        {
          "output_type": "execute_result",
          "data": {
            "text/plain": [
              "(56897, 2423)"
            ]
          },
          "metadata": {
            "tags": []
          },
          "execution_count": 51
        }
      ]
    },
    {
      "metadata": {
        "id": "uZfWHKEIr96Z",
        "colab_type": "code",
        "outputId": "13c9b982-b8b7-482a-b334-d1d2a6d59b0f",
        "colab": {
          "base_uri": "https://localhost:8080/",
          "height": 34
        }
      },
      "cell_type": "code",
      "source": [
        "useless_cols = ['QUESTID2', 'FILEDATE', 'ANALWT_C', 'VESTR', 'VEREP']\n",
        "data.drop(useless_cols, axis=1, inplace=True, errors='ignore')\n",
        "data.drop([col for col in imputed_cols if col.startswith('CATA')], axis=1, inplace=True, errors='ignore')\n",
        "data.shape"
      ],
      "execution_count": 52,
      "outputs": [
        {
          "output_type": "execute_result",
          "data": {
            "text/plain": [
              "(56897, 2418)"
            ]
          },
          "metadata": {
            "tags": []
          },
          "execution_count": 52
        }
      ]
    },
    {
      "metadata": {
        "id": "m9svpVu6r96f",
        "colab_type": "text"
      },
      "cell_type": "markdown",
      "source": [
        "#### Missing value identification\n",
        "__note__: again, from documentation. Values meanings listed above(in \"Some values meaning\" section)."
      ]
    },
    {
      "metadata": {
        "id": "10h-JSgUr96g",
        "colab_type": "code",
        "colab": {}
      },
      "cell_type": "code",
      "source": [
        "data.replace([85, 985, 9985, 94, 994, 9994, 97, 997, 9997, 98, 998, 9998], np.nan, inplace=True)\n",
        "data.to_csv('prepared_data.csv')"
      ],
      "execution_count": 0,
      "outputs": []
    },
    {
      "metadata": {
        "id": "yM12te_dr96m",
        "colab_type": "text"
      },
      "cell_type": "markdown",
      "source": [
        "#### Target variable creation\n",
        "I decided to study current users. For every type of drug (13 of them) I take question of the type \"How long ago did you use [certain_drug]\" and create a binary variable [certain_drug]_user. 1 - used a drug during last 12 monhs and 0 - otherwise."
      ]
    },
    {
      "metadata": {
        "id": "MQXTXlb_r96n",
        "colab_type": "code",
        "colab": {
          "base_uri": "https://localhost:8080/",
          "height": 561
        },
        "outputId": "12086b25-c479-45f1-d995-816335937f8e"
      },
      "cell_type": "code",
      "source": [
        "recency_cols = [col for col in data if (col.endswith('REC') and not col.endswith('NDLREC'))]\n",
        "recency_cols"
      ],
      "execution_count": 54,
      "outputs": [
        {
          "output_type": "execute_result",
          "data": {
            "text/plain": [
              "['CIGREC',\n",
              " 'CIGARREC',\n",
              " 'ALCREC',\n",
              " 'MJREC',\n",
              " 'COCREC',\n",
              " 'CRAKREC',\n",
              " 'HERREC',\n",
              " 'LSDREC',\n",
              " 'PCPREC',\n",
              " 'INHALREC',\n",
              " 'IRSMKLSSREC',\n",
              " 'IRHALLUCREC',\n",
              " 'IRECSTMOREC',\n",
              " 'IRKETMINREC',\n",
              " 'IRDAMTFXREC',\n",
              " 'IRSALVIAREC',\n",
              " 'IRINHALREC',\n",
              " 'IRMETHAMREC',\n",
              " 'IRPNRANYREC',\n",
              " 'IRTRQANYREC',\n",
              " 'IRSTMANYREC',\n",
              " 'IRSEDANYREC',\n",
              " 'IRPNRNMREC',\n",
              " 'IRTRQNMREC',\n",
              " 'IRSTMNMREC',\n",
              " 'IRSEDNMREC',\n",
              " 'COLDREC',\n",
              " 'GHBREC',\n",
              " 'HRSMKREC',\n",
              " 'HRSNFREC',\n",
              " 'BLNTREC',\n",
              " 'TXRCVDREC']"
            ]
          },
          "metadata": {
            "tags": []
          },
          "execution_count": 54
        }
      ]
    },
    {
      "metadata": {
        "id": "S2n8u1F1r96v",
        "colab_type": "text"
      },
      "cell_type": "markdown",
      "source": [
        "From upper output I select needed cols using docs:"
      ]
    },
    {
      "metadata": {
        "id": "XWHCq7zGr960",
        "colab_type": "code",
        "outputId": "b794a10c-062e-4353-ca1e-ff0557ae76c4",
        "colab": {
          "base_uri": "https://localhost:8080/",
          "height": 34
        }
      },
      "cell_type": "code",
      "source": [
        "pretarget_pairs = [('hal_user', 'IRHALLUCREC'),\n",
        "                   ('inh_user', 'IRINHALREC'),\n",
        "                   ('meth_user', 'IRMETHAMREC'), \n",
        "                   ('pnr_user', 'IRPNRNMREC'),\n",
        "                   ('trq_user', 'IRTRQNMREC'),\n",
        "                   ('stm_user', 'IRSTMNMREC'),\n",
        "                   ('sed_user', 'IRSEDNMREC'),\n",
        "                   ('cig_user', 'CIGREC'),\n",
        "                   ('alc_user', 'ALCREC'),\n",
        "                   ('mj_user', 'MJREC'),\n",
        "                   ('coc_user', 'COCREC'),\n",
        "                   ('crack_user', 'CRAKREC'),\n",
        "                   ('her_user', 'HERREC')]\n",
        "\n",
        "targets = pd.DataFrame()\n",
        "for name,col in pretarget_pairs:\n",
        "    targets[name] = data[col].replace([2,4,8], 1)\n",
        "    targets[name].replace([3,4,9,11,14,19,29,39,91],0, inplace=True)\n",
        "    \n",
        "targets.to_csv('targets.csv')    \n",
        "targets['alc_user'].unique()"
      ],
      "execution_count": 55,
      "outputs": [
        {
          "output_type": "execute_result",
          "data": {
            "text/plain": [
              "array([ 1.,  0., nan])"
            ]
          },
          "metadata": {
            "tags": []
          },
          "execution_count": 55
        }
      ]
    },
    {
      "metadata": {
        "id": "RJWdL290r98A",
        "colab_type": "text"
      },
      "cell_type": "markdown",
      "source": [
        "mb for later - ''Have you ever tried'' type of questions:\n",
        "\n",
        "CIGEVER+PIPEVER,  COCEVER, ..., METHAMEVER, PNRNMLIF+OXCNNMYR, TRQNMLIF, SEDNMLIF, STMNMLIF"
      ]
    },
    {
      "metadata": {
        "id": "b1YG2yntyk1h",
        "colab_type": "code",
        "colab": {}
      },
      "cell_type": "code",
      "source": [
        ""
      ],
      "execution_count": 0,
      "outputs": []
    }
  ]
}